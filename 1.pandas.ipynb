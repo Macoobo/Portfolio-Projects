{
 "cells": [
  {
   "attachments": {},
   "cell_type": "markdown",
   "id": "c4625639",
   "metadata": {},
   "source": [
    "---\n",
    "## pandas\n",
    "En el apartado de pandas queremos dar a conocer algunas de las funciones \"ocultas\" de pandas y que pueden ser muy útiles a la hora de manipular un dataset. En concreto, buscamos:\n",
    "\n",
    "1. Entender en que consiste el **pandas groupby** y como podemos utilizarlo para hacer cálculo de manera **rápida, limpia y eficiente.**\n",
    "2. Aprender a realizar **varios cálculos a la vez sobre diferentes columnas (CORE IDEA)** de un df todo dento del pandas groupby.\n",
    "3. Entender el método de **pandas transform (CORE IDEA)**.\n",
    "4. Definir y utilizar **funciones propias (custom functions)** dentro de un groupby.\n",
    "5. Ver como podemos utilizar las **funciones propias** para hacer un cálculo dentro de un groupby utilizando **A LA VEZ** la información de 2 columnas diferentes (o más).\n",
    "6. Aprender filtros avanzados de la librerías pandas.\n",
    "---"
   ]
  },
  {
   "attachments": {},
   "cell_type": "markdown",
   "id": "f00ca36d",
   "metadata": {},
   "source": [
    "# Imports del notebook\n",
    "<a id='imports_notebook'></a>\n",
    "[Volver al índice](#index)\n",
    "\n",
    "En este apartado hacemos los principales imports del notebook.<br>\n",
    "Sobre todo vamos a trabajar con **numpy**, **pandas** y **sklearn**."
   ]
  },
  {
   "cell_type": "code",
   "execution_count": 1,
   "id": "6b8c3946",
   "metadata": {},
   "outputs": [],
   "source": [
    "import time\n",
    "import os\n",
    "import warnings\n",
    "\n",
    "import numpy as np\n",
    "import pandas as pd"
   ]
  },
  {
   "cell_type": "code",
   "execution_count": 2,
   "id": "72eea170",
   "metadata": {},
   "outputs": [],
   "source": [
    "CWD = os.getcwd()"
   ]
  },
  {
   "cell_type": "code",
   "execution_count": 3,
   "id": "06f72298",
   "metadata": {},
   "outputs": [
    {
     "data": {
      "text/plain": [
       "'c:\\\\Mariano\\\\1. Master en Data Science\\\\8. GIT\\\\portfolio\\\\data'"
      ]
     },
     "execution_count": 3,
     "metadata": {},
     "output_type": "execute_result"
    }
   ],
   "source": [
    "os.path.join(CWD, \"data\")"
   ]
  },
  {
   "cell_type": "code",
   "execution_count": 4,
   "id": "30772aab",
   "metadata": {},
   "outputs": [
    {
     "name": "stdout",
     "output_type": "stream",
     "text": [
      "c:\\Mariano\\1. Master en Data Science\\8. GIT\\portfolio\n",
      "c:\\Mariano\\1. Master en Data Science\\8. GIT\\portfolio\\data\n"
     ]
    }
   ],
   "source": [
    "DATA_PATH = os.path.join(CWD, \"data\")\n",
    "\n",
    "print(CWD)\n",
    "print(DATA_PATH)"
   ]
  },
  {
   "cell_type": "code",
   "execution_count": 5,
   "id": "dc74356a",
   "metadata": {},
   "outputs": [
    {
     "name": "stdout",
     "output_type": "stream",
     "text": [
      "Working with these versions of libraries\n",
      "\n",
      "Numpy version 1.23.5\n",
      "Pandas version 1.5.3\n"
     ]
    }
   ],
   "source": [
    "print(\"Working with these versions of libraries\\n\")\n",
    "print(f\"Numpy version {np.__version__}\")\n",
    "print(f\"Pandas version {pd.__version__}\")"
   ]
  },
  {
   "attachments": {},
   "cell_type": "markdown",
   "id": "526c4117",
   "metadata": {},
   "source": [
    "Para todos los ejercicios de **pandas**, vamos a utilizar un dataset dummy."
   ]
  },
  {
   "cell_type": "code",
   "execution_count": 6,
   "id": "e8c4621a",
   "metadata": {},
   "outputs": [],
   "source": [
    "def get_category(nr_rows):\n",
    "    '''\n",
    "    Generates random category.\n",
    "    '''\n",
    "    categories = [\"A\", \"B\", \"C\", \"X\", \"Y\", \"Z\"]\n",
    "    random_categories = np.random.choice(categories, size = nr_rows)\n",
    "    \n",
    "    return random_categories"
   ]
  },
  {
   "cell_type": "code",
   "execution_count": 7,
   "id": "acede6ce",
   "metadata": {},
   "outputs": [],
   "source": [
    "def generate_dummy_dataframe(nr_rows, nr_columns, nr_categoricals):\n",
    "    '''\n",
    "    Generates a dummy DataFrame.\n",
    "    '''\n",
    "    la = []\n",
    "    \n",
    "    for nr_ in range(nr_columns):\n",
    "        la.append(np.random.randint(-1000, 1000, size = nr_rows))\n",
    "            \n",
    "    df = pd.DataFrame(la).T\n",
    "    \n",
    "    cat_index = [cat + str(i) for i, cat in enumerate(get_category(nr_rows = nr_rows))]\n",
    "    df.index = cat_index\n",
    "    \n",
    "    dummy_column_names = [\"Column_{}\".format(i) for i in range(1, nr_columns + 1)]\n",
    "    \n",
    "    df.columns = dummy_column_names\n",
    "    \n",
    "    for nr_categorical in range(nr_categoricals):\n",
    "        df[\"Categorical_{}\".format(nr_categorical + 1)] = get_category(nr_rows = nr_rows)\n",
    "    \n",
    "    return df\n",
    "    "
   ]
  },
  {
   "cell_type": "code",
   "execution_count": 24,
   "id": "1492b699",
   "metadata": {},
   "outputs": [],
   "source": [
    "# df = generate_dummy_dataframe(nr_rows = 1_000, nr_columns = 3, nr_categoricals = 3)\n",
    "# df.to_csv(os.path.join(DATA_PATH, \"pd_sklearn_dummy.csv\"), index = False)"
   ]
  },
  {
   "cell_type": "code",
   "execution_count": 8,
   "id": "d9601862",
   "metadata": {},
   "outputs": [],
   "source": [
    "df = pd.read_csv(os.path.join(DATA_PATH, \"pd_sklearn_dummy.csv\"))"
   ]
  },
  {
   "attachments": {},
   "cell_type": "markdown",
   "id": "8f0ba221",
   "metadata": {},
   "source": [
    "Veamos nuestro dataframe"
   ]
  },
  {
   "cell_type": "code",
   "execution_count": 9,
   "id": "99f8c9ef",
   "metadata": {},
   "outputs": [
    {
     "data": {
      "text/html": [
       "<div>\n",
       "<style scoped>\n",
       "    .dataframe tbody tr th:only-of-type {\n",
       "        vertical-align: middle;\n",
       "    }\n",
       "\n",
       "    .dataframe tbody tr th {\n",
       "        vertical-align: top;\n",
       "    }\n",
       "\n",
       "    .dataframe thead th {\n",
       "        text-align: right;\n",
       "    }\n",
       "</style>\n",
       "<table border=\"1\" class=\"dataframe\">\n",
       "  <thead>\n",
       "    <tr style=\"text-align: right;\">\n",
       "      <th></th>\n",
       "      <th>Column_1</th>\n",
       "      <th>Column_2</th>\n",
       "      <th>Column_3</th>\n",
       "      <th>Categorical_1</th>\n",
       "      <th>Categorical_2</th>\n",
       "      <th>Categorical_3</th>\n",
       "    </tr>\n",
       "  </thead>\n",
       "  <tbody>\n",
       "    <tr>\n",
       "      <th>0</th>\n",
       "      <td>-792</td>\n",
       "      <td>-125</td>\n",
       "      <td>51</td>\n",
       "      <td>X</td>\n",
       "      <td>Y</td>\n",
       "      <td>Z</td>\n",
       "    </tr>\n",
       "    <tr>\n",
       "      <th>1</th>\n",
       "      <td>-866</td>\n",
       "      <td>-397</td>\n",
       "      <td>723</td>\n",
       "      <td>Y</td>\n",
       "      <td>B</td>\n",
       "      <td>A</td>\n",
       "    </tr>\n",
       "    <tr>\n",
       "      <th>2</th>\n",
       "      <td>192</td>\n",
       "      <td>513</td>\n",
       "      <td>942</td>\n",
       "      <td>X</td>\n",
       "      <td>C</td>\n",
       "      <td>Y</td>\n",
       "    </tr>\n",
       "    <tr>\n",
       "      <th>3</th>\n",
       "      <td>73</td>\n",
       "      <td>984</td>\n",
       "      <td>-620</td>\n",
       "      <td>A</td>\n",
       "      <td>B</td>\n",
       "      <td>A</td>\n",
       "    </tr>\n",
       "    <tr>\n",
       "      <th>4</th>\n",
       "      <td>-225</td>\n",
       "      <td>168</td>\n",
       "      <td>-50</td>\n",
       "      <td>A</td>\n",
       "      <td>B</td>\n",
       "      <td>C</td>\n",
       "    </tr>\n",
       "  </tbody>\n",
       "</table>\n",
       "</div>"
      ],
      "text/plain": [
       "   Column_1  Column_2  Column_3 Categorical_1 Categorical_2 Categorical_3\n",
       "0      -792      -125        51             X             Y             Z\n",
       "1      -866      -397       723             Y             B             A\n",
       "2       192       513       942             X             C             Y\n",
       "3        73       984      -620             A             B             A\n",
       "4      -225       168       -50             A             B             C"
      ]
     },
     "execution_count": 9,
     "metadata": {},
     "output_type": "execute_result"
    }
   ],
   "source": [
    "df.head(5)"
   ]
  },
  {
   "attachments": {},
   "cell_type": "markdown",
   "id": "8d02be28",
   "metadata": {},
   "source": [
    "## ¿Que es el pandas groupby?\n",
    "\n",
    "Veamos un ejemplo práctico con nuestro dataset."
   ]
  },
  {
   "attachments": {},
   "cell_type": "markdown",
   "id": "449bef30",
   "metadata": {},
   "source": [
    "### Pregunta 1: hacer la suma de Column_1 cuando Categorical_1 == \"B\""
   ]
  },
  {
   "cell_type": "code",
   "execution_count": 10,
   "id": "efc5a162",
   "metadata": {},
   "outputs": [
    {
     "data": {
      "text/plain": [
       "['A', 'B', 'C', 'X', 'Y', 'Z']"
      ]
     },
     "execution_count": 10,
     "metadata": {},
     "output_type": "execute_result"
    }
   ],
   "source": [
    "sorted(df[\"Categorical_1\"].unique())"
   ]
  },
  {
   "cell_type": "code",
   "execution_count": 11,
   "id": "4b29da9b",
   "metadata": {},
   "outputs": [
    {
     "data": {
      "text/plain": [
       "1006"
      ]
     },
     "execution_count": 11,
     "metadata": {},
     "output_type": "execute_result"
    }
   ],
   "source": [
    "df[df[\"Categorical_1\"] == \"B\"][\"Column_1\"].sum()"
   ]
  },
  {
   "cell_type": "code",
   "execution_count": 12,
   "id": "8abe5454",
   "metadata": {},
   "outputs": [
    {
     "data": {
      "text/plain": [
       "1006"
      ]
     },
     "execution_count": 12,
     "metadata": {},
     "output_type": "execute_result"
    }
   ],
   "source": [
    "# posible solución\n",
    "df[df[\"Categorical_1\"] == \"B\"][\"Column_1\"].sum()"
   ]
  },
  {
   "attachments": {},
   "cell_type": "markdown",
   "id": "3342d461",
   "metadata": {},
   "source": [
    "Cuando queremos hacer un cálculo rápido y sencillo, podemos utilizar los **filtros de pandas** para hacer una selección de un subconjunto de datos y aplicar nuestra fórmula.\n",
    "\n",
    "No obstante, ¿Que pasaría si necesitamos calcular esta suma para todas las categorías que hay en Categorical_1?\n",
    "\n",
    "Una implementación rápida sería utilizar una for loop, como en el siguiente ejemplo."
   ]
  },
  {
   "cell_type": "code",
   "execution_count": 13,
   "id": "8ec15a12",
   "metadata": {},
   "outputs": [],
   "source": [
    "RESULT_DICT = {}\n",
    "\n",
    "for cat_ in sorted(df[\"Categorical_1\"].unique()):\n",
    "    df_ = df[df[\"Categorical_1\"] == cat_]\n",
    "    suma_ = df_[\"Column_1\"].sum()\n",
    "    \n",
    "    RESULT_DICT[cat_] = suma_"
   ]
  },
  {
   "cell_type": "code",
   "execution_count": 14,
   "id": "ae14fb94",
   "metadata": {},
   "outputs": [
    {
     "data": {
      "text/plain": [
       "{'A': 1988, 'B': 1006, 'C': -1595, 'X': 11813, 'Y': 6122, 'Z': 9769}"
      ]
     },
     "execution_count": 14,
     "metadata": {},
     "output_type": "execute_result"
    }
   ],
   "source": [
    "RESULT_DICT"
   ]
  },
  {
   "cell_type": "code",
   "execution_count": 15,
   "id": "73993a30",
   "metadata": {},
   "outputs": [
    {
     "data": {
      "text/plain": [
       "{'A': 1988, 'B': 1006, 'C': -1595, 'X': 11813, 'Y': 6122, 'Z': 9769}"
      ]
     },
     "execution_count": 15,
     "metadata": {},
     "output_type": "execute_result"
    }
   ],
   "source": [
    "df.groupby(\"Categorical_1\")[\"Column_1\"].sum().to_dict()"
   ]
  },
  {
   "cell_type": "code",
   "execution_count": 16,
   "id": "454049e4",
   "metadata": {},
   "outputs": [],
   "source": [
    "gb_ = df.groupby(\"Categorical_1\")"
   ]
  },
  {
   "cell_type": "code",
   "execution_count": 17,
   "id": "53e1e146",
   "metadata": {},
   "outputs": [
    {
     "data": {
      "text/plain": [
       "<pandas.core.groupby.generic.SeriesGroupBy object at 0x000001E3486A2150>"
      ]
     },
     "execution_count": 17,
     "metadata": {},
     "output_type": "execute_result"
    }
   ],
   "source": [
    "gb_[\"Column_1\"]"
   ]
  },
  {
   "cell_type": "code",
   "execution_count": 18,
   "id": "7ede9624",
   "metadata": {},
   "outputs": [
    {
     "data": {
      "text/html": [
       "<div>\n",
       "<style scoped>\n",
       "    .dataframe tbody tr th:only-of-type {\n",
       "        vertical-align: middle;\n",
       "    }\n",
       "\n",
       "    .dataframe tbody tr th {\n",
       "        vertical-align: top;\n",
       "    }\n",
       "\n",
       "    .dataframe thead th {\n",
       "        text-align: right;\n",
       "    }\n",
       "</style>\n",
       "<table border=\"1\" class=\"dataframe\">\n",
       "  <thead>\n",
       "    <tr style=\"text-align: right;\">\n",
       "      <th></th>\n",
       "      <th>Column_1</th>\n",
       "      <th>Column_2</th>\n",
       "      <th>Column_3</th>\n",
       "      <th>Categorical_1</th>\n",
       "      <th>Categorical_2</th>\n",
       "      <th>Categorical_3</th>\n",
       "    </tr>\n",
       "  </thead>\n",
       "  <tbody>\n",
       "    <tr>\n",
       "      <th>8</th>\n",
       "      <td>989</td>\n",
       "      <td>527</td>\n",
       "      <td>-988</td>\n",
       "      <td>B</td>\n",
       "      <td>A</td>\n",
       "      <td>Z</td>\n",
       "    </tr>\n",
       "    <tr>\n",
       "      <th>10</th>\n",
       "      <td>-349</td>\n",
       "      <td>-306</td>\n",
       "      <td>390</td>\n",
       "      <td>B</td>\n",
       "      <td>A</td>\n",
       "      <td>B</td>\n",
       "    </tr>\n",
       "    <tr>\n",
       "      <th>17</th>\n",
       "      <td>-801</td>\n",
       "      <td>-787</td>\n",
       "      <td>306</td>\n",
       "      <td>B</td>\n",
       "      <td>X</td>\n",
       "      <td>Y</td>\n",
       "    </tr>\n",
       "  </tbody>\n",
       "</table>\n",
       "</div>"
      ],
      "text/plain": [
       "    Column_1  Column_2  Column_3 Categorical_1 Categorical_2 Categorical_3\n",
       "8        989       527      -988             B             A             Z\n",
       "10      -349      -306       390             B             A             B\n",
       "17      -801      -787       306             B             X             Y"
      ]
     },
     "execution_count": 18,
     "metadata": {},
     "output_type": "execute_result"
    }
   ],
   "source": [
    "df[df[\"Categorical_1\"] == \"B\"].head(3)"
   ]
  },
  {
   "cell_type": "code",
   "execution_count": 19,
   "id": "e7a7a2eb",
   "metadata": {},
   "outputs": [
    {
     "data": {
      "text/plain": [
       "8      989\n",
       "10    -349\n",
       "17    -801\n",
       "18     169\n",
       "23    -771\n",
       "      ... \n",
       "966     90\n",
       "976   -394\n",
       "978    619\n",
       "983    196\n",
       "995   -750\n",
       "Name: Column_1, Length: 174, dtype: int64"
      ]
     },
     "execution_count": 19,
     "metadata": {},
     "output_type": "execute_result"
    }
   ],
   "source": [
    "gb_.get_group((\"B\"))[\"Column_1\"]"
   ]
  },
  {
   "cell_type": "code",
   "execution_count": 20,
   "id": "266d8dbc",
   "metadata": {},
   "outputs": [
    {
     "data": {
      "text/plain": [
       "{'A': 1988, 'B': 1006, 'C': -1595, 'X': 11813, 'Y': 6122, 'Z': 9769}"
      ]
     },
     "execution_count": 20,
     "metadata": {},
     "output_type": "execute_result"
    }
   ],
   "source": [
    "# posible solución\n",
    "result_dict = {}\n",
    "\n",
    "for category in sorted(df[\"Categorical_1\"].unique()):\n",
    "    result_dict[category] = df[df[\"Categorical_1\"] == category][\"Column_1\"].sum()\n",
    "    \n",
    "result_dict"
   ]
  },
  {
   "attachments": {},
   "cell_type": "markdown",
   "id": "0126a8a4",
   "metadata": {},
   "source": [
    "La implementación anterior es válida, pero hay un forma mucho mejor de hacerlo. Utilizar el pandas groupby."
   ]
  },
  {
   "cell_type": "code",
   "execution_count": 21,
   "id": "1f2c8da2",
   "metadata": {},
   "outputs": [
    {
     "data": {
      "text/plain": [
       "<pandas.core.groupby.generic.DataFrameGroupBy object at 0x000001E348694B50>"
      ]
     },
     "execution_count": 21,
     "metadata": {},
     "output_type": "execute_result"
    }
   ],
   "source": [
    "# creamos un objeto de pandas groupby y lo asignamos a gb_df\n",
    "gb_df = df.groupby(\"Categorical_1\")\n",
    "gb_df"
   ]
  },
  {
   "cell_type": "code",
   "execution_count": 22,
   "id": "040c5f08",
   "metadata": {},
   "outputs": [
    {
     "data": {
      "text/html": [
       "<div>\n",
       "<style scoped>\n",
       "    .dataframe tbody tr th:only-of-type {\n",
       "        vertical-align: middle;\n",
       "    }\n",
       "\n",
       "    .dataframe tbody tr th {\n",
       "        vertical-align: top;\n",
       "    }\n",
       "\n",
       "    .dataframe thead th {\n",
       "        text-align: right;\n",
       "    }\n",
       "</style>\n",
       "<table border=\"1\" class=\"dataframe\">\n",
       "  <thead>\n",
       "    <tr style=\"text-align: right;\">\n",
       "      <th></th>\n",
       "      <th>Column_1</th>\n",
       "      <th>Column_2</th>\n",
       "      <th>Column_3</th>\n",
       "      <th>Categorical_1</th>\n",
       "      <th>Categorical_2</th>\n",
       "      <th>Categorical_3</th>\n",
       "    </tr>\n",
       "  </thead>\n",
       "  <tbody>\n",
       "    <tr>\n",
       "      <th>3</th>\n",
       "      <td>73</td>\n",
       "      <td>984</td>\n",
       "      <td>-620</td>\n",
       "      <td>A</td>\n",
       "      <td>B</td>\n",
       "      <td>A</td>\n",
       "    </tr>\n",
       "    <tr>\n",
       "      <th>4</th>\n",
       "      <td>-225</td>\n",
       "      <td>168</td>\n",
       "      <td>-50</td>\n",
       "      <td>A</td>\n",
       "      <td>B</td>\n",
       "      <td>C</td>\n",
       "    </tr>\n",
       "    <tr>\n",
       "      <th>7</th>\n",
       "      <td>707</td>\n",
       "      <td>786</td>\n",
       "      <td>-570</td>\n",
       "      <td>A</td>\n",
       "      <td>A</td>\n",
       "      <td>Z</td>\n",
       "    </tr>\n",
       "    <tr>\n",
       "      <th>9</th>\n",
       "      <td>509</td>\n",
       "      <td>-522</td>\n",
       "      <td>795</td>\n",
       "      <td>A</td>\n",
       "      <td>B</td>\n",
       "      <td>A</td>\n",
       "    </tr>\n",
       "    <tr>\n",
       "      <th>14</th>\n",
       "      <td>-495</td>\n",
       "      <td>-227</td>\n",
       "      <td>-548</td>\n",
       "      <td>A</td>\n",
       "      <td>Z</td>\n",
       "      <td>Z</td>\n",
       "    </tr>\n",
       "  </tbody>\n",
       "</table>\n",
       "</div>"
      ],
      "text/plain": [
       "    Column_1  Column_2  Column_3 Categorical_1 Categorical_2 Categorical_3\n",
       "3         73       984      -620             A             B             A\n",
       "4       -225       168       -50             A             B             C\n",
       "7        707       786      -570             A             A             Z\n",
       "9        509      -522       795             A             B             A\n",
       "14      -495      -227      -548             A             Z             Z"
      ]
     },
     "execution_count": 22,
     "metadata": {},
     "output_type": "execute_result"
    }
   ],
   "source": [
    "# Hice el groupby por Categorical_1, la categoría A existe dentro de Categorical_1\n",
    "# Por este motivo, cuando hago get_group((\"A\")) veo que todos los elementos de Categorical_1 == \"A\"\n",
    "gb_df.get_group((\"A\")).head()"
   ]
  },
  {
   "cell_type": "code",
   "execution_count": 23,
   "id": "8c9ee94d",
   "metadata": {},
   "outputs": [
    {
     "data": {
      "text/html": [
       "<div>\n",
       "<style scoped>\n",
       "    .dataframe tbody tr th:only-of-type {\n",
       "        vertical-align: middle;\n",
       "    }\n",
       "\n",
       "    .dataframe tbody tr th {\n",
       "        vertical-align: top;\n",
       "    }\n",
       "\n",
       "    .dataframe thead th {\n",
       "        text-align: right;\n",
       "    }\n",
       "</style>\n",
       "<table border=\"1\" class=\"dataframe\">\n",
       "  <thead>\n",
       "    <tr style=\"text-align: right;\">\n",
       "      <th></th>\n",
       "      <th>Column_1</th>\n",
       "      <th>Column_2</th>\n",
       "      <th>Column_3</th>\n",
       "      <th>Categorical_1</th>\n",
       "      <th>Categorical_2</th>\n",
       "      <th>Categorical_3</th>\n",
       "    </tr>\n",
       "  </thead>\n",
       "  <tbody>\n",
       "    <tr>\n",
       "      <th>5</th>\n",
       "      <td>59</td>\n",
       "      <td>990</td>\n",
       "      <td>-185</td>\n",
       "      <td>C</td>\n",
       "      <td>X</td>\n",
       "      <td>C</td>\n",
       "    </tr>\n",
       "    <tr>\n",
       "      <th>11</th>\n",
       "      <td>863</td>\n",
       "      <td>-718</td>\n",
       "      <td>736</td>\n",
       "      <td>C</td>\n",
       "      <td>X</td>\n",
       "      <td>Z</td>\n",
       "    </tr>\n",
       "    <tr>\n",
       "      <th>15</th>\n",
       "      <td>543</td>\n",
       "      <td>-164</td>\n",
       "      <td>-787</td>\n",
       "      <td>C</td>\n",
       "      <td>A</td>\n",
       "      <td>A</td>\n",
       "    </tr>\n",
       "    <tr>\n",
       "      <th>28</th>\n",
       "      <td>-32</td>\n",
       "      <td>103</td>\n",
       "      <td>-729</td>\n",
       "      <td>C</td>\n",
       "      <td>X</td>\n",
       "      <td>C</td>\n",
       "    </tr>\n",
       "    <tr>\n",
       "      <th>29</th>\n",
       "      <td>-825</td>\n",
       "      <td>-828</td>\n",
       "      <td>-543</td>\n",
       "      <td>C</td>\n",
       "      <td>Y</td>\n",
       "      <td>A</td>\n",
       "    </tr>\n",
       "  </tbody>\n",
       "</table>\n",
       "</div>"
      ],
      "text/plain": [
       "    Column_1  Column_2  Column_3 Categorical_1 Categorical_2 Categorical_3\n",
       "5         59       990      -185             C             X             C\n",
       "11       863      -718       736             C             X             Z\n",
       "15       543      -164      -787             C             A             A\n",
       "28       -32       103      -729             C             X             C\n",
       "29      -825      -828      -543             C             Y             A"
      ]
     },
     "execution_count": 23,
     "metadata": {},
     "output_type": "execute_result"
    }
   ],
   "source": [
    "# lo mismo pero con el grupo C\n",
    "gb_df.get_group((\"C\")).head()"
   ]
  },
  {
   "cell_type": "code",
   "execution_count": 24,
   "id": "8d566fc6",
   "metadata": {},
   "outputs": [
    {
     "name": "stdout",
     "output_type": "stream",
     "text": [
      "El gb_df.get_group((\"I\")).head() ha fallado! :(\n"
     ]
    }
   ],
   "source": [
    "# que pasaría si intento buscar el grupo I\n",
    "try:\n",
    "    gb_df.get_group((\"I\")).head()\n",
    "except:\n",
    "    print('El gb_df.get_group((\"I\")).head() ha fallado! :(')"
   ]
  },
  {
   "attachments": {},
   "cell_type": "markdown",
   "id": "eff0a695",
   "metadata": {},
   "source": [
    "¡La ejecución anterior nos ha dado un error!\n",
    "\n",
    "### Podemos pensar en un groupby como un conjunto de dataframes pequeños.<br>\n",
    "De hecho, hacer el get_group es idéntico a hacer un filtro de pandas groupby."
   ]
  },
  {
   "cell_type": "code",
   "execution_count": 25,
   "id": "d67615f9",
   "metadata": {},
   "outputs": [
    {
     "data": {
      "text/html": [
       "<div>\n",
       "<style scoped>\n",
       "    .dataframe tbody tr th:only-of-type {\n",
       "        vertical-align: middle;\n",
       "    }\n",
       "\n",
       "    .dataframe tbody tr th {\n",
       "        vertical-align: top;\n",
       "    }\n",
       "\n",
       "    .dataframe thead th {\n",
       "        text-align: right;\n",
       "    }\n",
       "</style>\n",
       "<table border=\"1\" class=\"dataframe\">\n",
       "  <thead>\n",
       "    <tr style=\"text-align: right;\">\n",
       "      <th></th>\n",
       "      <th>Column_1</th>\n",
       "      <th>Column_2</th>\n",
       "      <th>Column_3</th>\n",
       "      <th>Categorical_1</th>\n",
       "      <th>Categorical_2</th>\n",
       "      <th>Categorical_3</th>\n",
       "    </tr>\n",
       "  </thead>\n",
       "  <tbody>\n",
       "    <tr>\n",
       "      <th>3</th>\n",
       "      <td>73</td>\n",
       "      <td>984</td>\n",
       "      <td>-620</td>\n",
       "      <td>A</td>\n",
       "      <td>B</td>\n",
       "      <td>A</td>\n",
       "    </tr>\n",
       "    <tr>\n",
       "      <th>4</th>\n",
       "      <td>-225</td>\n",
       "      <td>168</td>\n",
       "      <td>-50</td>\n",
       "      <td>A</td>\n",
       "      <td>B</td>\n",
       "      <td>C</td>\n",
       "    </tr>\n",
       "    <tr>\n",
       "      <th>7</th>\n",
       "      <td>707</td>\n",
       "      <td>786</td>\n",
       "      <td>-570</td>\n",
       "      <td>A</td>\n",
       "      <td>A</td>\n",
       "      <td>Z</td>\n",
       "    </tr>\n",
       "    <tr>\n",
       "      <th>9</th>\n",
       "      <td>509</td>\n",
       "      <td>-522</td>\n",
       "      <td>795</td>\n",
       "      <td>A</td>\n",
       "      <td>B</td>\n",
       "      <td>A</td>\n",
       "    </tr>\n",
       "    <tr>\n",
       "      <th>14</th>\n",
       "      <td>-495</td>\n",
       "      <td>-227</td>\n",
       "      <td>-548</td>\n",
       "      <td>A</td>\n",
       "      <td>Z</td>\n",
       "      <td>Z</td>\n",
       "    </tr>\n",
       "  </tbody>\n",
       "</table>\n",
       "</div>"
      ],
      "text/plain": [
       "    Column_1  Column_2  Column_3 Categorical_1 Categorical_2 Categorical_3\n",
       "3         73       984      -620             A             B             A\n",
       "4       -225       168       -50             A             B             C\n",
       "7        707       786      -570             A             A             Z\n",
       "9        509      -522       795             A             B             A\n",
       "14      -495      -227      -548             A             Z             Z"
      ]
     },
     "execution_count": 25,
     "metadata": {},
     "output_type": "execute_result"
    }
   ],
   "source": [
    "df[df[\"Categorical_1\"] == \"A\"].head()"
   ]
  },
  {
   "cell_type": "code",
   "execution_count": 26,
   "id": "a82667a2",
   "metadata": {},
   "outputs": [
    {
     "data": {
      "text/html": [
       "<div>\n",
       "<style scoped>\n",
       "    .dataframe tbody tr th:only-of-type {\n",
       "        vertical-align: middle;\n",
       "    }\n",
       "\n",
       "    .dataframe tbody tr th {\n",
       "        vertical-align: top;\n",
       "    }\n",
       "\n",
       "    .dataframe thead th {\n",
       "        text-align: right;\n",
       "    }\n",
       "</style>\n",
       "<table border=\"1\" class=\"dataframe\">\n",
       "  <thead>\n",
       "    <tr style=\"text-align: right;\">\n",
       "      <th></th>\n",
       "      <th>Column_1</th>\n",
       "      <th>Column_2</th>\n",
       "      <th>Column_3</th>\n",
       "      <th>Categorical_1</th>\n",
       "      <th>Categorical_2</th>\n",
       "      <th>Categorical_3</th>\n",
       "    </tr>\n",
       "  </thead>\n",
       "  <tbody>\n",
       "    <tr>\n",
       "      <th>3</th>\n",
       "      <td>73</td>\n",
       "      <td>984</td>\n",
       "      <td>-620</td>\n",
       "      <td>A</td>\n",
       "      <td>B</td>\n",
       "      <td>A</td>\n",
       "    </tr>\n",
       "    <tr>\n",
       "      <th>4</th>\n",
       "      <td>-225</td>\n",
       "      <td>168</td>\n",
       "      <td>-50</td>\n",
       "      <td>A</td>\n",
       "      <td>B</td>\n",
       "      <td>C</td>\n",
       "    </tr>\n",
       "    <tr>\n",
       "      <th>7</th>\n",
       "      <td>707</td>\n",
       "      <td>786</td>\n",
       "      <td>-570</td>\n",
       "      <td>A</td>\n",
       "      <td>A</td>\n",
       "      <td>Z</td>\n",
       "    </tr>\n",
       "    <tr>\n",
       "      <th>9</th>\n",
       "      <td>509</td>\n",
       "      <td>-522</td>\n",
       "      <td>795</td>\n",
       "      <td>A</td>\n",
       "      <td>B</td>\n",
       "      <td>A</td>\n",
       "    </tr>\n",
       "    <tr>\n",
       "      <th>14</th>\n",
       "      <td>-495</td>\n",
       "      <td>-227</td>\n",
       "      <td>-548</td>\n",
       "      <td>A</td>\n",
       "      <td>Z</td>\n",
       "      <td>Z</td>\n",
       "    </tr>\n",
       "  </tbody>\n",
       "</table>\n",
       "</div>"
      ],
      "text/plain": [
       "    Column_1  Column_2  Column_3 Categorical_1 Categorical_2 Categorical_3\n",
       "3         73       984      -620             A             B             A\n",
       "4       -225       168       -50             A             B             C\n",
       "7        707       786      -570             A             A             Z\n",
       "9        509      -522       795             A             B             A\n",
       "14      -495      -227      -548             A             Z             Z"
      ]
     },
     "execution_count": 26,
     "metadata": {},
     "output_type": "execute_result"
    }
   ],
   "source": [
    "gb_df.get_group((\"A\")).head()"
   ]
  },
  {
   "cell_type": "code",
   "execution_count": 27,
   "id": "b39a553d",
   "metadata": {},
   "outputs": [
    {
     "data": {
      "text/plain": [
       "True"
      ]
     },
     "execution_count": 27,
     "metadata": {},
     "output_type": "execute_result"
    }
   ],
   "source": [
    "df[df[\"Categorical_1\"] == \"A\"].equals(gb_df.get_group((\"A\"))) # comprobamos que son iguales"
   ]
  },
  {
   "attachments": {},
   "cell_type": "markdown",
   "id": "43e115a0",
   "metadata": {},
   "source": [
    "<a id='tip_1_pandas_gb_index'></a>\n",
    "### Si nos fijamos de manera detenida, vemos que el index del df filtrado, es el mismo que el index del get_group.\n",
    "\n",
    "Esta parte va a ser muy importante cuando vamos a trabajar con **pandas transform**.\n",
    "\n",
    "De momento, nos quedamos con la idea de que hacer un filtro o get_group de groupby **me permite acceder a un subconjunto del dataframe en cuestión.**"
   ]
  },
  {
   "cell_type": "code",
   "execution_count": 28,
   "id": "b9178720",
   "metadata": {},
   "outputs": [
    {
     "name": "stdout",
     "output_type": "stream",
     "text": [
      "{'A': 1988, 'B': 1006, 'C': -1595, 'X': 11813, 'Y': 6122, 'Z': 9769}\n"
     ]
    }
   ],
   "source": [
    "print(result_dict)"
   ]
  },
  {
   "cell_type": "code",
   "execution_count": 29,
   "id": "6824eb3f",
   "metadata": {},
   "outputs": [
    {
     "data": {
      "text/plain": [
       "{'A': 1988, 'B': 1006, 'C': -1595, 'X': 11813, 'Y': 6122, 'Z': 9769}"
      ]
     },
     "execution_count": 29,
     "metadata": {},
     "output_type": "execute_result"
    }
   ],
   "source": [
    "# best praxis\n",
    "gb_df[\"Column_1\"].sum().to_dict()"
   ]
  },
  {
   "attachments": {},
   "cell_type": "markdown",
   "id": "fbf041b9",
   "metadata": {},
   "source": [
    "### Pandas transform (CORE IDEA)\n",
    "<a id='pandas_transform'></a>"
   ]
  },
  {
   "attachments": {},
   "cell_type": "markdown",
   "id": "f7529f82",
   "metadata": {},
   "source": [
    "### Pregunta 2: añadir una nueva columna al df que sea la suma total de Column_1 respetando cada categoría de Categorical_1"
   ]
  },
  {
   "cell_type": "code",
   "execution_count": 30,
   "id": "86898eda",
   "metadata": {},
   "outputs": [
    {
     "data": {
      "text/plain": [
       "{'A': 1988, 'B': 1006, 'C': -1595, 'X': 11813, 'Y': 6122, 'Z': 9769}"
      ]
     },
     "execution_count": 30,
     "metadata": {},
     "output_type": "execute_result"
    }
   ],
   "source": [
    "RESULT_DICT"
   ]
  },
  {
   "cell_type": "code",
   "execution_count": 31,
   "id": "773831a1",
   "metadata": {},
   "outputs": [
    {
     "data": {
      "text/html": [
       "<div>\n",
       "<style scoped>\n",
       "    .dataframe tbody tr th:only-of-type {\n",
       "        vertical-align: middle;\n",
       "    }\n",
       "\n",
       "    .dataframe tbody tr th {\n",
       "        vertical-align: top;\n",
       "    }\n",
       "\n",
       "    .dataframe thead th {\n",
       "        text-align: right;\n",
       "    }\n",
       "</style>\n",
       "<table border=\"1\" class=\"dataframe\">\n",
       "  <thead>\n",
       "    <tr style=\"text-align: right;\">\n",
       "      <th></th>\n",
       "      <th>Column_1</th>\n",
       "      <th>Column_2</th>\n",
       "      <th>Column_3</th>\n",
       "      <th>Categorical_1</th>\n",
       "      <th>Categorical_2</th>\n",
       "      <th>Categorical_3</th>\n",
       "    </tr>\n",
       "  </thead>\n",
       "  <tbody>\n",
       "    <tr>\n",
       "      <th>0</th>\n",
       "      <td>-792</td>\n",
       "      <td>-125</td>\n",
       "      <td>51</td>\n",
       "      <td>X</td>\n",
       "      <td>Y</td>\n",
       "      <td>Z</td>\n",
       "    </tr>\n",
       "    <tr>\n",
       "      <th>1</th>\n",
       "      <td>-866</td>\n",
       "      <td>-397</td>\n",
       "      <td>723</td>\n",
       "      <td>Y</td>\n",
       "      <td>B</td>\n",
       "      <td>A</td>\n",
       "    </tr>\n",
       "    <tr>\n",
       "      <th>2</th>\n",
       "      <td>192</td>\n",
       "      <td>513</td>\n",
       "      <td>942</td>\n",
       "      <td>X</td>\n",
       "      <td>C</td>\n",
       "      <td>Y</td>\n",
       "    </tr>\n",
       "  </tbody>\n",
       "</table>\n",
       "</div>"
      ],
      "text/plain": [
       "   Column_1  Column_2  Column_3 Categorical_1 Categorical_2 Categorical_3\n",
       "0      -792      -125        51             X             Y             Z\n",
       "1      -866      -397       723             Y             B             A\n",
       "2       192       513       942             X             C             Y"
      ]
     },
     "execution_count": 31,
     "metadata": {},
     "output_type": "execute_result"
    }
   ],
   "source": [
    "df.head(3)"
   ]
  },
  {
   "cell_type": "code",
   "execution_count": 32,
   "id": "2e1c3d8b",
   "metadata": {},
   "outputs": [],
   "source": [
    "suma_ = df.groupby('Categorical_1')['Column_1'].sum()"
   ]
  },
  {
   "cell_type": "code",
   "execution_count": 33,
   "id": "8921ba91",
   "metadata": {},
   "outputs": [],
   "source": [
    "suma_dict = suma_.to_dict()"
   ]
  },
  {
   "cell_type": "code",
   "execution_count": 34,
   "id": "65f18121",
   "metadata": {},
   "outputs": [
    {
     "data": {
      "text/plain": [
       "{'A': 1988, 'B': 1006, 'C': -1595, 'X': 11813, 'Y': 6122, 'Z': 9769}"
      ]
     },
     "execution_count": 34,
     "metadata": {},
     "output_type": "execute_result"
    }
   ],
   "source": [
    "suma_dict"
   ]
  },
  {
   "cell_type": "code",
   "execution_count": 35,
   "id": "3335299d",
   "metadata": {},
   "outputs": [],
   "source": [
    "df[\"Solucion_1\"] = df[\"Categorical_1\"].map(suma_dict)"
   ]
  },
  {
   "cell_type": "code",
   "execution_count": 36,
   "id": "ae67bc62",
   "metadata": {},
   "outputs": [
    {
     "data": {
      "text/html": [
       "<div>\n",
       "<style scoped>\n",
       "    .dataframe tbody tr th:only-of-type {\n",
       "        vertical-align: middle;\n",
       "    }\n",
       "\n",
       "    .dataframe tbody tr th {\n",
       "        vertical-align: top;\n",
       "    }\n",
       "\n",
       "    .dataframe thead th {\n",
       "        text-align: right;\n",
       "    }\n",
       "</style>\n",
       "<table border=\"1\" class=\"dataframe\">\n",
       "  <thead>\n",
       "    <tr style=\"text-align: right;\">\n",
       "      <th></th>\n",
       "      <th>Column_1</th>\n",
       "      <th>Column_2</th>\n",
       "      <th>Column_3</th>\n",
       "      <th>Categorical_1</th>\n",
       "      <th>Categorical_2</th>\n",
       "      <th>Categorical_3</th>\n",
       "      <th>Solucion_1</th>\n",
       "    </tr>\n",
       "  </thead>\n",
       "  <tbody>\n",
       "    <tr>\n",
       "      <th>0</th>\n",
       "      <td>-792</td>\n",
       "      <td>-125</td>\n",
       "      <td>51</td>\n",
       "      <td>X</td>\n",
       "      <td>Y</td>\n",
       "      <td>Z</td>\n",
       "      <td>11813</td>\n",
       "    </tr>\n",
       "    <tr>\n",
       "      <th>1</th>\n",
       "      <td>-866</td>\n",
       "      <td>-397</td>\n",
       "      <td>723</td>\n",
       "      <td>Y</td>\n",
       "      <td>B</td>\n",
       "      <td>A</td>\n",
       "      <td>6122</td>\n",
       "    </tr>\n",
       "    <tr>\n",
       "      <th>2</th>\n",
       "      <td>192</td>\n",
       "      <td>513</td>\n",
       "      <td>942</td>\n",
       "      <td>X</td>\n",
       "      <td>C</td>\n",
       "      <td>Y</td>\n",
       "      <td>11813</td>\n",
       "    </tr>\n",
       "    <tr>\n",
       "      <th>3</th>\n",
       "      <td>73</td>\n",
       "      <td>984</td>\n",
       "      <td>-620</td>\n",
       "      <td>A</td>\n",
       "      <td>B</td>\n",
       "      <td>A</td>\n",
       "      <td>1988</td>\n",
       "    </tr>\n",
       "    <tr>\n",
       "      <th>4</th>\n",
       "      <td>-225</td>\n",
       "      <td>168</td>\n",
       "      <td>-50</td>\n",
       "      <td>A</td>\n",
       "      <td>B</td>\n",
       "      <td>C</td>\n",
       "      <td>1988</td>\n",
       "    </tr>\n",
       "    <tr>\n",
       "      <th>...</th>\n",
       "      <td>...</td>\n",
       "      <td>...</td>\n",
       "      <td>...</td>\n",
       "      <td>...</td>\n",
       "      <td>...</td>\n",
       "      <td>...</td>\n",
       "      <td>...</td>\n",
       "    </tr>\n",
       "    <tr>\n",
       "      <th>995</th>\n",
       "      <td>-750</td>\n",
       "      <td>397</td>\n",
       "      <td>-833</td>\n",
       "      <td>B</td>\n",
       "      <td>C</td>\n",
       "      <td>Y</td>\n",
       "      <td>1006</td>\n",
       "    </tr>\n",
       "    <tr>\n",
       "      <th>996</th>\n",
       "      <td>-508</td>\n",
       "      <td>917</td>\n",
       "      <td>-443</td>\n",
       "      <td>Y</td>\n",
       "      <td>A</td>\n",
       "      <td>C</td>\n",
       "      <td>6122</td>\n",
       "    </tr>\n",
       "    <tr>\n",
       "      <th>997</th>\n",
       "      <td>213</td>\n",
       "      <td>-781</td>\n",
       "      <td>692</td>\n",
       "      <td>X</td>\n",
       "      <td>B</td>\n",
       "      <td>C</td>\n",
       "      <td>11813</td>\n",
       "    </tr>\n",
       "    <tr>\n",
       "      <th>998</th>\n",
       "      <td>628</td>\n",
       "      <td>-926</td>\n",
       "      <td>-316</td>\n",
       "      <td>X</td>\n",
       "      <td>Z</td>\n",
       "      <td>X</td>\n",
       "      <td>11813</td>\n",
       "    </tr>\n",
       "    <tr>\n",
       "      <th>999</th>\n",
       "      <td>59</td>\n",
       "      <td>-692</td>\n",
       "      <td>-24</td>\n",
       "      <td>C</td>\n",
       "      <td>Z</td>\n",
       "      <td>B</td>\n",
       "      <td>-1595</td>\n",
       "    </tr>\n",
       "  </tbody>\n",
       "</table>\n",
       "<p>1000 rows × 7 columns</p>\n",
       "</div>"
      ],
      "text/plain": [
       "     Column_1  Column_2  Column_3 Categorical_1 Categorical_2 Categorical_3  \\\n",
       "0        -792      -125        51             X             Y             Z   \n",
       "1        -866      -397       723             Y             B             A   \n",
       "2         192       513       942             X             C             Y   \n",
       "3          73       984      -620             A             B             A   \n",
       "4        -225       168       -50             A             B             C   \n",
       "..        ...       ...       ...           ...           ...           ...   \n",
       "995      -750       397      -833             B             C             Y   \n",
       "996      -508       917      -443             Y             A             C   \n",
       "997       213      -781       692             X             B             C   \n",
       "998       628      -926      -316             X             Z             X   \n",
       "999        59      -692       -24             C             Z             B   \n",
       "\n",
       "     Solucion_1  \n",
       "0         11813  \n",
       "1          6122  \n",
       "2         11813  \n",
       "3          1988  \n",
       "4          1988  \n",
       "..          ...  \n",
       "995        1006  \n",
       "996        6122  \n",
       "997       11813  \n",
       "998       11813  \n",
       "999       -1595  \n",
       "\n",
       "[1000 rows x 7 columns]"
      ]
     },
     "execution_count": 36,
     "metadata": {},
     "output_type": "execute_result"
    }
   ],
   "source": [
    "df"
   ]
  },
  {
   "cell_type": "code",
   "execution_count": 37,
   "id": "5f876ad5",
   "metadata": {},
   "outputs": [
    {
     "data": {
      "text/plain": [
       "Categorical_1\n",
       "A     1988\n",
       "B     1006\n",
       "C    -1595\n",
       "X    11813\n",
       "Y     6122\n",
       "Z     9769\n",
       "Name: Column_1, dtype: int64"
      ]
     },
     "execution_count": 37,
     "metadata": {},
     "output_type": "execute_result"
    }
   ],
   "source": [
    "df.groupby(\"Categorical_1\")[\"Column_1\"].sum()"
   ]
  },
  {
   "cell_type": "code",
   "execution_count": 38,
   "id": "438b76ed",
   "metadata": {},
   "outputs": [
    {
     "data": {
      "text/plain": [
       "0      11813\n",
       "1       6122\n",
       "2      11813\n",
       "3       1988\n",
       "4       1988\n",
       "       ...  \n",
       "995     1006\n",
       "996     6122\n",
       "997    11813\n",
       "998    11813\n",
       "999    -1595\n",
       "Name: Column_1, Length: 1000, dtype: int64"
      ]
     },
     "execution_count": 38,
     "metadata": {},
     "output_type": "execute_result"
    }
   ],
   "source": [
    "df.groupby(\"Categorical_1\")[\"Column_1\"].transform(\"sum\")"
   ]
  },
  {
   "cell_type": "code",
   "execution_count": 39,
   "id": "28a0f730",
   "metadata": {},
   "outputs": [
    {
     "data": {
      "text/plain": [
       "<function numpy.sum(a, axis=None, dtype=None, out=None, keepdims=<no value>, initial=<no value>, where=<no value>)>"
      ]
     },
     "execution_count": 39,
     "metadata": {},
     "output_type": "execute_result"
    }
   ],
   "source": [
    "np.sum"
   ]
  },
  {
   "cell_type": "code",
   "execution_count": 40,
   "id": "d9a904b6",
   "metadata": {},
   "outputs": [
    {
     "data": {
      "text/plain": [
       "3"
      ]
     },
     "execution_count": 40,
     "metadata": {},
     "output_type": "execute_result"
    }
   ],
   "source": [
    "np.sum([1, 2])"
   ]
  },
  {
   "cell_type": "code",
   "execution_count": 41,
   "id": "3e87b97b",
   "metadata": {},
   "outputs": [],
   "source": [
    "df[\"Sol_2\"] = df.groupby(\"Categorical_1\")[\"Column_1\"].transform(\n",
    "    np.sum\n",
    ")\n"
   ]
  },
  {
   "cell_type": "code",
   "execution_count": 42,
   "id": "575366c3",
   "metadata": {},
   "outputs": [
    {
     "data": {
      "text/html": [
       "<div>\n",
       "<style scoped>\n",
       "    .dataframe tbody tr th:only-of-type {\n",
       "        vertical-align: middle;\n",
       "    }\n",
       "\n",
       "    .dataframe tbody tr th {\n",
       "        vertical-align: top;\n",
       "    }\n",
       "\n",
       "    .dataframe thead th {\n",
       "        text-align: right;\n",
       "    }\n",
       "</style>\n",
       "<table border=\"1\" class=\"dataframe\">\n",
       "  <thead>\n",
       "    <tr style=\"text-align: right;\">\n",
       "      <th></th>\n",
       "      <th>Column_1</th>\n",
       "      <th>Column_2</th>\n",
       "      <th>Column_3</th>\n",
       "      <th>Categorical_1</th>\n",
       "      <th>Categorical_2</th>\n",
       "      <th>Categorical_3</th>\n",
       "      <th>Solucion_1</th>\n",
       "      <th>Sol_2</th>\n",
       "    </tr>\n",
       "  </thead>\n",
       "  <tbody>\n",
       "    <tr>\n",
       "      <th>0</th>\n",
       "      <td>-792</td>\n",
       "      <td>-125</td>\n",
       "      <td>51</td>\n",
       "      <td>X</td>\n",
       "      <td>Y</td>\n",
       "      <td>Z</td>\n",
       "      <td>11813</td>\n",
       "      <td>11813</td>\n",
       "    </tr>\n",
       "    <tr>\n",
       "      <th>1</th>\n",
       "      <td>-866</td>\n",
       "      <td>-397</td>\n",
       "      <td>723</td>\n",
       "      <td>Y</td>\n",
       "      <td>B</td>\n",
       "      <td>A</td>\n",
       "      <td>6122</td>\n",
       "      <td>6122</td>\n",
       "    </tr>\n",
       "    <tr>\n",
       "      <th>2</th>\n",
       "      <td>192</td>\n",
       "      <td>513</td>\n",
       "      <td>942</td>\n",
       "      <td>X</td>\n",
       "      <td>C</td>\n",
       "      <td>Y</td>\n",
       "      <td>11813</td>\n",
       "      <td>11813</td>\n",
       "    </tr>\n",
       "    <tr>\n",
       "      <th>3</th>\n",
       "      <td>73</td>\n",
       "      <td>984</td>\n",
       "      <td>-620</td>\n",
       "      <td>A</td>\n",
       "      <td>B</td>\n",
       "      <td>A</td>\n",
       "      <td>1988</td>\n",
       "      <td>1988</td>\n",
       "    </tr>\n",
       "    <tr>\n",
       "      <th>4</th>\n",
       "      <td>-225</td>\n",
       "      <td>168</td>\n",
       "      <td>-50</td>\n",
       "      <td>A</td>\n",
       "      <td>B</td>\n",
       "      <td>C</td>\n",
       "      <td>1988</td>\n",
       "      <td>1988</td>\n",
       "    </tr>\n",
       "    <tr>\n",
       "      <th>...</th>\n",
       "      <td>...</td>\n",
       "      <td>...</td>\n",
       "      <td>...</td>\n",
       "      <td>...</td>\n",
       "      <td>...</td>\n",
       "      <td>...</td>\n",
       "      <td>...</td>\n",
       "      <td>...</td>\n",
       "    </tr>\n",
       "    <tr>\n",
       "      <th>995</th>\n",
       "      <td>-750</td>\n",
       "      <td>397</td>\n",
       "      <td>-833</td>\n",
       "      <td>B</td>\n",
       "      <td>C</td>\n",
       "      <td>Y</td>\n",
       "      <td>1006</td>\n",
       "      <td>1006</td>\n",
       "    </tr>\n",
       "    <tr>\n",
       "      <th>996</th>\n",
       "      <td>-508</td>\n",
       "      <td>917</td>\n",
       "      <td>-443</td>\n",
       "      <td>Y</td>\n",
       "      <td>A</td>\n",
       "      <td>C</td>\n",
       "      <td>6122</td>\n",
       "      <td>6122</td>\n",
       "    </tr>\n",
       "    <tr>\n",
       "      <th>997</th>\n",
       "      <td>213</td>\n",
       "      <td>-781</td>\n",
       "      <td>692</td>\n",
       "      <td>X</td>\n",
       "      <td>B</td>\n",
       "      <td>C</td>\n",
       "      <td>11813</td>\n",
       "      <td>11813</td>\n",
       "    </tr>\n",
       "    <tr>\n",
       "      <th>998</th>\n",
       "      <td>628</td>\n",
       "      <td>-926</td>\n",
       "      <td>-316</td>\n",
       "      <td>X</td>\n",
       "      <td>Z</td>\n",
       "      <td>X</td>\n",
       "      <td>11813</td>\n",
       "      <td>11813</td>\n",
       "    </tr>\n",
       "    <tr>\n",
       "      <th>999</th>\n",
       "      <td>59</td>\n",
       "      <td>-692</td>\n",
       "      <td>-24</td>\n",
       "      <td>C</td>\n",
       "      <td>Z</td>\n",
       "      <td>B</td>\n",
       "      <td>-1595</td>\n",
       "      <td>-1595</td>\n",
       "    </tr>\n",
       "  </tbody>\n",
       "</table>\n",
       "<p>1000 rows × 8 columns</p>\n",
       "</div>"
      ],
      "text/plain": [
       "     Column_1  Column_2  Column_3 Categorical_1 Categorical_2 Categorical_3  \\\n",
       "0        -792      -125        51             X             Y             Z   \n",
       "1        -866      -397       723             Y             B             A   \n",
       "2         192       513       942             X             C             Y   \n",
       "3          73       984      -620             A             B             A   \n",
       "4        -225       168       -50             A             B             C   \n",
       "..        ...       ...       ...           ...           ...           ...   \n",
       "995      -750       397      -833             B             C             Y   \n",
       "996      -508       917      -443             Y             A             C   \n",
       "997       213      -781       692             X             B             C   \n",
       "998       628      -926      -316             X             Z             X   \n",
       "999        59      -692       -24             C             Z             B   \n",
       "\n",
       "     Solucion_1  Sol_2  \n",
       "0         11813  11813  \n",
       "1          6122   6122  \n",
       "2         11813  11813  \n",
       "3          1988   1988  \n",
       "4          1988   1988  \n",
       "..          ...    ...  \n",
       "995        1006   1006  \n",
       "996        6122   6122  \n",
       "997       11813  11813  \n",
       "998       11813  11813  \n",
       "999       -1595  -1595  \n",
       "\n",
       "[1000 rows x 8 columns]"
      ]
     },
     "execution_count": 42,
     "metadata": {},
     "output_type": "execute_result"
    }
   ],
   "source": [
    "df"
   ]
  },
  {
   "cell_type": "code",
   "execution_count": 43,
   "id": "8e5f0494",
   "metadata": {},
   "outputs": [
    {
     "data": {
      "text/html": [
       "<div>\n",
       "<style scoped>\n",
       "    .dataframe tbody tr th:only-of-type {\n",
       "        vertical-align: middle;\n",
       "    }\n",
       "\n",
       "    .dataframe tbody tr th {\n",
       "        vertical-align: top;\n",
       "    }\n",
       "\n",
       "    .dataframe thead th {\n",
       "        text-align: right;\n",
       "    }\n",
       "</style>\n",
       "<table border=\"1\" class=\"dataframe\">\n",
       "  <thead>\n",
       "    <tr style=\"text-align: right;\">\n",
       "      <th></th>\n",
       "      <th>Column_1</th>\n",
       "      <th>Column_2</th>\n",
       "      <th>Column_3</th>\n",
       "      <th>Categorical_1</th>\n",
       "      <th>Categorical_2</th>\n",
       "      <th>Categorical_3</th>\n",
       "      <th>Solucion_1</th>\n",
       "      <th>Sol_2</th>\n",
       "      <th>New_col_1</th>\n",
       "    </tr>\n",
       "  </thead>\n",
       "  <tbody>\n",
       "    <tr>\n",
       "      <th>0</th>\n",
       "      <td>-792</td>\n",
       "      <td>-125</td>\n",
       "      <td>51</td>\n",
       "      <td>X</td>\n",
       "      <td>Y</td>\n",
       "      <td>Z</td>\n",
       "      <td>11813</td>\n",
       "      <td>11813</td>\n",
       "      <td>11813</td>\n",
       "    </tr>\n",
       "    <tr>\n",
       "      <th>1</th>\n",
       "      <td>-866</td>\n",
       "      <td>-397</td>\n",
       "      <td>723</td>\n",
       "      <td>Y</td>\n",
       "      <td>B</td>\n",
       "      <td>A</td>\n",
       "      <td>6122</td>\n",
       "      <td>6122</td>\n",
       "      <td>6122</td>\n",
       "    </tr>\n",
       "    <tr>\n",
       "      <th>2</th>\n",
       "      <td>192</td>\n",
       "      <td>513</td>\n",
       "      <td>942</td>\n",
       "      <td>X</td>\n",
       "      <td>C</td>\n",
       "      <td>Y</td>\n",
       "      <td>11813</td>\n",
       "      <td>11813</td>\n",
       "      <td>11813</td>\n",
       "    </tr>\n",
       "    <tr>\n",
       "      <th>3</th>\n",
       "      <td>73</td>\n",
       "      <td>984</td>\n",
       "      <td>-620</td>\n",
       "      <td>A</td>\n",
       "      <td>B</td>\n",
       "      <td>A</td>\n",
       "      <td>1988</td>\n",
       "      <td>1988</td>\n",
       "      <td>1988</td>\n",
       "    </tr>\n",
       "    <tr>\n",
       "      <th>4</th>\n",
       "      <td>-225</td>\n",
       "      <td>168</td>\n",
       "      <td>-50</td>\n",
       "      <td>A</td>\n",
       "      <td>B</td>\n",
       "      <td>C</td>\n",
       "      <td>1988</td>\n",
       "      <td>1988</td>\n",
       "      <td>1988</td>\n",
       "    </tr>\n",
       "    <tr>\n",
       "      <th>...</th>\n",
       "      <td>...</td>\n",
       "      <td>...</td>\n",
       "      <td>...</td>\n",
       "      <td>...</td>\n",
       "      <td>...</td>\n",
       "      <td>...</td>\n",
       "      <td>...</td>\n",
       "      <td>...</td>\n",
       "      <td>...</td>\n",
       "    </tr>\n",
       "    <tr>\n",
       "      <th>995</th>\n",
       "      <td>-750</td>\n",
       "      <td>397</td>\n",
       "      <td>-833</td>\n",
       "      <td>B</td>\n",
       "      <td>C</td>\n",
       "      <td>Y</td>\n",
       "      <td>1006</td>\n",
       "      <td>1006</td>\n",
       "      <td>1006</td>\n",
       "    </tr>\n",
       "    <tr>\n",
       "      <th>996</th>\n",
       "      <td>-508</td>\n",
       "      <td>917</td>\n",
       "      <td>-443</td>\n",
       "      <td>Y</td>\n",
       "      <td>A</td>\n",
       "      <td>C</td>\n",
       "      <td>6122</td>\n",
       "      <td>6122</td>\n",
       "      <td>6122</td>\n",
       "    </tr>\n",
       "    <tr>\n",
       "      <th>997</th>\n",
       "      <td>213</td>\n",
       "      <td>-781</td>\n",
       "      <td>692</td>\n",
       "      <td>X</td>\n",
       "      <td>B</td>\n",
       "      <td>C</td>\n",
       "      <td>11813</td>\n",
       "      <td>11813</td>\n",
       "      <td>11813</td>\n",
       "    </tr>\n",
       "    <tr>\n",
       "      <th>998</th>\n",
       "      <td>628</td>\n",
       "      <td>-926</td>\n",
       "      <td>-316</td>\n",
       "      <td>X</td>\n",
       "      <td>Z</td>\n",
       "      <td>X</td>\n",
       "      <td>11813</td>\n",
       "      <td>11813</td>\n",
       "      <td>11813</td>\n",
       "    </tr>\n",
       "    <tr>\n",
       "      <th>999</th>\n",
       "      <td>59</td>\n",
       "      <td>-692</td>\n",
       "      <td>-24</td>\n",
       "      <td>C</td>\n",
       "      <td>Z</td>\n",
       "      <td>B</td>\n",
       "      <td>-1595</td>\n",
       "      <td>-1595</td>\n",
       "      <td>-1595</td>\n",
       "    </tr>\n",
       "  </tbody>\n",
       "</table>\n",
       "<p>1000 rows × 9 columns</p>\n",
       "</div>"
      ],
      "text/plain": [
       "     Column_1  Column_2  Column_3 Categorical_1 Categorical_2 Categorical_3  \\\n",
       "0        -792      -125        51             X             Y             Z   \n",
       "1        -866      -397       723             Y             B             A   \n",
       "2         192       513       942             X             C             Y   \n",
       "3          73       984      -620             A             B             A   \n",
       "4        -225       168       -50             A             B             C   \n",
       "..        ...       ...       ...           ...           ...           ...   \n",
       "995      -750       397      -833             B             C             Y   \n",
       "996      -508       917      -443             Y             A             C   \n",
       "997       213      -781       692             X             B             C   \n",
       "998       628      -926      -316             X             Z             X   \n",
       "999        59      -692       -24             C             Z             B   \n",
       "\n",
       "     Solucion_1  Sol_2  New_col_1  \n",
       "0         11813  11813      11813  \n",
       "1          6122   6122       6122  \n",
       "2         11813  11813      11813  \n",
       "3          1988   1988       1988  \n",
       "4          1988   1988       1988  \n",
       "..          ...    ...        ...  \n",
       "995        1006   1006       1006  \n",
       "996        6122   6122       6122  \n",
       "997       11813  11813      11813  \n",
       "998       11813  11813      11813  \n",
       "999       -1595  -1595      -1595  \n",
       "\n",
       "[1000 rows x 9 columns]"
      ]
     },
     "execution_count": 43,
     "metadata": {},
     "output_type": "execute_result"
    }
   ],
   "source": [
    "# posible solución\n",
    "result_dict_gb = df.groupby(\"Categorical_1\")[\"Column_1\"].sum().to_dict()\n",
    "\n",
    "df[\"New_col_1\"] = df[\"Categorical_1\"].map(result_dict_gb)\n",
    "\n",
    "df"
   ]
  },
  {
   "attachments": {},
   "cell_type": "markdown",
   "id": "cf2b8edb",
   "metadata": {},
   "source": [
    "La implementación anterior utiliza una variable temporal, en nuestro caso result_dict_gb para guardar los resultados y después mappear el resultado al df.  Puede parecer una buena forma de hacerlo hasta que conocemos al pandas **transform**."
   ]
  },
  {
   "cell_type": "code",
   "execution_count": 44,
   "id": "037bea58",
   "metadata": {},
   "outputs": [],
   "source": [
    "# best praxis\n",
    "df[\"New_col_1_bp\"] = df.groupby(\"Categorical_1\")[\"Column_1\"].transform(np.sum)"
   ]
  },
  {
   "attachments": {},
   "cell_type": "markdown",
   "id": "53d76e99",
   "metadata": {},
   "source": [
    "Pandas **transform** es una mejor solución porque permite conseguir el mismo resultado\n",
    "en 1 única línea de código. No hay necesidad de guardar nada de manera temporal. Con esto conseguimos un código más limpio y elegante.\n",
    "\n",
    "Internamente dentro de groupby lo que ocurre es:\n",
    "1. Calculamos la suma de Column_1 para cada categoría.\n",
    "2. Hacemos el merge con el df orignal, por el index del dataframe.\n",
    "\n",
    "Si nos fijamos en la siguiente línea de código, el index es idéntico al df original."
   ]
  },
  {
   "cell_type": "code",
   "execution_count": 45,
   "id": "2bb35480",
   "metadata": {},
   "outputs": [
    {
     "data": {
      "text/plain": [
       "0    11813\n",
       "1     6122\n",
       "2    11813\n",
       "3     1988\n",
       "4     1988\n",
       "Name: Column_1, dtype: int64"
      ]
     },
     "execution_count": 45,
     "metadata": {},
     "output_type": "execute_result"
    }
   ],
   "source": [
    "df.groupby(\"Categorical_1\")[\"Column_1\"].transform(np.sum).head()"
   ]
  },
  {
   "cell_type": "code",
   "execution_count": 46,
   "id": "987cd3f2",
   "metadata": {},
   "outputs": [
    {
     "data": {
      "text/html": [
       "<div>\n",
       "<style scoped>\n",
       "    .dataframe tbody tr th:only-of-type {\n",
       "        vertical-align: middle;\n",
       "    }\n",
       "\n",
       "    .dataframe tbody tr th {\n",
       "        vertical-align: top;\n",
       "    }\n",
       "\n",
       "    .dataframe thead th {\n",
       "        text-align: right;\n",
       "    }\n",
       "</style>\n",
       "<table border=\"1\" class=\"dataframe\">\n",
       "  <thead>\n",
       "    <tr style=\"text-align: right;\">\n",
       "      <th></th>\n",
       "      <th>Column_1</th>\n",
       "      <th>Column_2</th>\n",
       "      <th>Column_3</th>\n",
       "      <th>Categorical_1</th>\n",
       "      <th>Categorical_2</th>\n",
       "      <th>Categorical_3</th>\n",
       "      <th>Solucion_1</th>\n",
       "      <th>Sol_2</th>\n",
       "      <th>New_col_1</th>\n",
       "      <th>New_col_1_bp</th>\n",
       "    </tr>\n",
       "  </thead>\n",
       "  <tbody>\n",
       "    <tr>\n",
       "      <th>0</th>\n",
       "      <td>-792</td>\n",
       "      <td>-125</td>\n",
       "      <td>51</td>\n",
       "      <td>X</td>\n",
       "      <td>Y</td>\n",
       "      <td>Z</td>\n",
       "      <td>11813</td>\n",
       "      <td>11813</td>\n",
       "      <td>11813</td>\n",
       "      <td>11813</td>\n",
       "    </tr>\n",
       "    <tr>\n",
       "      <th>1</th>\n",
       "      <td>-866</td>\n",
       "      <td>-397</td>\n",
       "      <td>723</td>\n",
       "      <td>Y</td>\n",
       "      <td>B</td>\n",
       "      <td>A</td>\n",
       "      <td>6122</td>\n",
       "      <td>6122</td>\n",
       "      <td>6122</td>\n",
       "      <td>6122</td>\n",
       "    </tr>\n",
       "    <tr>\n",
       "      <th>2</th>\n",
       "      <td>192</td>\n",
       "      <td>513</td>\n",
       "      <td>942</td>\n",
       "      <td>X</td>\n",
       "      <td>C</td>\n",
       "      <td>Y</td>\n",
       "      <td>11813</td>\n",
       "      <td>11813</td>\n",
       "      <td>11813</td>\n",
       "      <td>11813</td>\n",
       "    </tr>\n",
       "    <tr>\n",
       "      <th>3</th>\n",
       "      <td>73</td>\n",
       "      <td>984</td>\n",
       "      <td>-620</td>\n",
       "      <td>A</td>\n",
       "      <td>B</td>\n",
       "      <td>A</td>\n",
       "      <td>1988</td>\n",
       "      <td>1988</td>\n",
       "      <td>1988</td>\n",
       "      <td>1988</td>\n",
       "    </tr>\n",
       "    <tr>\n",
       "      <th>4</th>\n",
       "      <td>-225</td>\n",
       "      <td>168</td>\n",
       "      <td>-50</td>\n",
       "      <td>A</td>\n",
       "      <td>B</td>\n",
       "      <td>C</td>\n",
       "      <td>1988</td>\n",
       "      <td>1988</td>\n",
       "      <td>1988</td>\n",
       "      <td>1988</td>\n",
       "    </tr>\n",
       "  </tbody>\n",
       "</table>\n",
       "</div>"
      ],
      "text/plain": [
       "   Column_1  Column_2  Column_3 Categorical_1 Categorical_2 Categorical_3  \\\n",
       "0      -792      -125        51             X             Y             Z   \n",
       "1      -866      -397       723             Y             B             A   \n",
       "2       192       513       942             X             C             Y   \n",
       "3        73       984      -620             A             B             A   \n",
       "4      -225       168       -50             A             B             C   \n",
       "\n",
       "   Solucion_1  Sol_2  New_col_1  New_col_1_bp  \n",
       "0       11813  11813      11813         11813  \n",
       "1        6122   6122       6122          6122  \n",
       "2       11813  11813      11813         11813  \n",
       "3        1988   1988       1988          1988  \n",
       "4        1988   1988       1988          1988  "
      ]
     },
     "execution_count": 46,
     "metadata": {},
     "output_type": "execute_result"
    }
   ],
   "source": [
    "df.head(5)"
   ]
  },
  {
   "attachments": {},
   "cell_type": "markdown",
   "id": "b50598de",
   "metadata": {},
   "source": [
    "### Groupby eficiente\n",
    "<a id='pandas_gbe'></a>\n",
    "\n",
    "En más de una ocasión, queremos hacer varios cálculos dentro de un pandas groupby\n",
    "\n",
    "---\n",
    "Habitualmente el patrón que se sigue es:\n",
    "\n",
    "1. variable_1 = df.groupby([\"CAT_1\", \"CAT_2\"])[\"COLUMNA_1\"].funcion_agregación()\n",
    "2. variable_2 = df.groupby([\"CAT_1\", \"CAT_2\"])[\"COLUMNA_2\"].otra_funcion_agregación()\n",
    "3. df_resumen = pd.concat([variable_1, variable_2], axis = 1)"
   ]
  },
  {
   "attachments": {},
   "cell_type": "markdown",
   "id": "88e5511c",
   "metadata": {},
   "source": [
    "### Pregunta 3: crear un df_resumen que contenga la suma, media (para Column_1) y un contador de los valores positivos para la columna Column_2, agrupados por Categorical_1\n",
    "\n",
    "El resultado que nos debería dar un df similar a este."
   ]
  },
  {
   "cell_type": "code",
   "execution_count": 47,
   "id": "4cf31b2f",
   "metadata": {},
   "outputs": [],
   "source": [
    "result_data_dict = {\n",
    "    'Sum_column_1': {'A': 1988, 'B': 1006, 'C': -1595, 'X': 11813, 'Y': 6122, 'Z': 9769},\n",
    "    'Mean_column_1': {'A': 10.57, 'B': 5.78, 'C': -9.27, 'X': 78.75, 'Y': 35.59, 'Z': 67.84},\n",
    "    'Counter_non_negative_values_column_2': {'A': 101, 'B': 85, 'C': 89, 'X': 77, 'Y': 91,'Z': 73}\n",
    "}"
   ]
  },
  {
   "cell_type": "code",
   "execution_count": 48,
   "id": "3f26b599",
   "metadata": {},
   "outputs": [
    {
     "data": {
      "text/html": [
       "<div>\n",
       "<style scoped>\n",
       "    .dataframe tbody tr th:only-of-type {\n",
       "        vertical-align: middle;\n",
       "    }\n",
       "\n",
       "    .dataframe tbody tr th {\n",
       "        vertical-align: top;\n",
       "    }\n",
       "\n",
       "    .dataframe thead th {\n",
       "        text-align: right;\n",
       "    }\n",
       "</style>\n",
       "<table border=\"1\" class=\"dataframe\">\n",
       "  <thead>\n",
       "    <tr style=\"text-align: right;\">\n",
       "      <th></th>\n",
       "      <th>Sum_column_1</th>\n",
       "      <th>Mean_column_1</th>\n",
       "      <th>Counter_non_negative_values_column_2</th>\n",
       "    </tr>\n",
       "  </thead>\n",
       "  <tbody>\n",
       "    <tr>\n",
       "      <th>A</th>\n",
       "      <td>1988</td>\n",
       "      <td>10.57</td>\n",
       "      <td>101</td>\n",
       "    </tr>\n",
       "    <tr>\n",
       "      <th>B</th>\n",
       "      <td>1006</td>\n",
       "      <td>5.78</td>\n",
       "      <td>85</td>\n",
       "    </tr>\n",
       "    <tr>\n",
       "      <th>C</th>\n",
       "      <td>-1595</td>\n",
       "      <td>-9.27</td>\n",
       "      <td>89</td>\n",
       "    </tr>\n",
       "    <tr>\n",
       "      <th>X</th>\n",
       "      <td>11813</td>\n",
       "      <td>78.75</td>\n",
       "      <td>77</td>\n",
       "    </tr>\n",
       "    <tr>\n",
       "      <th>Y</th>\n",
       "      <td>6122</td>\n",
       "      <td>35.59</td>\n",
       "      <td>91</td>\n",
       "    </tr>\n",
       "    <tr>\n",
       "      <th>Z</th>\n",
       "      <td>9769</td>\n",
       "      <td>67.84</td>\n",
       "      <td>73</td>\n",
       "    </tr>\n",
       "  </tbody>\n",
       "</table>\n",
       "</div>"
      ],
      "text/plain": [
       "   Sum_column_1  Mean_column_1  Counter_non_negative_values_column_2\n",
       "A          1988          10.57                                   101\n",
       "B          1006           5.78                                    85\n",
       "C         -1595          -9.27                                    89\n",
       "X         11813          78.75                                    77\n",
       "Y          6122          35.59                                    91\n",
       "Z          9769          67.84                                    73"
      ]
     },
     "execution_count": 48,
     "metadata": {},
     "output_type": "execute_result"
    }
   ],
   "source": [
    "pd.DataFrame(data = result_data_dict)"
   ]
  },
  {
   "cell_type": "code",
   "execution_count": 49,
   "id": "fad87168",
   "metadata": {},
   "outputs": [
    {
     "data": {
      "text/html": [
       "<div>\n",
       "<style scoped>\n",
       "    .dataframe tbody tr th:only-of-type {\n",
       "        vertical-align: middle;\n",
       "    }\n",
       "\n",
       "    .dataframe tbody tr th {\n",
       "        vertical-align: top;\n",
       "    }\n",
       "\n",
       "    .dataframe thead th {\n",
       "        text-align: right;\n",
       "    }\n",
       "</style>\n",
       "<table border=\"1\" class=\"dataframe\">\n",
       "  <thead>\n",
       "    <tr style=\"text-align: right;\">\n",
       "      <th></th>\n",
       "      <th>Suma_Column_1</th>\n",
       "      <th>Mean_Column_1</th>\n",
       "      <th>Counter_NN</th>\n",
       "    </tr>\n",
       "    <tr>\n",
       "      <th>Categorical_1</th>\n",
       "      <th></th>\n",
       "      <th></th>\n",
       "      <th></th>\n",
       "    </tr>\n",
       "  </thead>\n",
       "  <tbody>\n",
       "    <tr>\n",
       "      <th>A</th>\n",
       "      <td>1988</td>\n",
       "      <td>10.574468</td>\n",
       "      <td>101</td>\n",
       "    </tr>\n",
       "    <tr>\n",
       "      <th>B</th>\n",
       "      <td>1006</td>\n",
       "      <td>5.781609</td>\n",
       "      <td>85</td>\n",
       "    </tr>\n",
       "    <tr>\n",
       "      <th>C</th>\n",
       "      <td>-1595</td>\n",
       "      <td>-9.273256</td>\n",
       "      <td>89</td>\n",
       "    </tr>\n",
       "    <tr>\n",
       "      <th>X</th>\n",
       "      <td>11813</td>\n",
       "      <td>78.753333</td>\n",
       "      <td>77</td>\n",
       "    </tr>\n",
       "    <tr>\n",
       "      <th>Y</th>\n",
       "      <td>6122</td>\n",
       "      <td>35.593023</td>\n",
       "      <td>91</td>\n",
       "    </tr>\n",
       "    <tr>\n",
       "      <th>Z</th>\n",
       "      <td>9769</td>\n",
       "      <td>67.840278</td>\n",
       "      <td>73</td>\n",
       "    </tr>\n",
       "  </tbody>\n",
       "</table>\n",
       "</div>"
      ],
      "text/plain": [
       "               Suma_Column_1  Mean_Column_1  Counter_NN\n",
       "Categorical_1                                          \n",
       "A                       1988      10.574468         101\n",
       "B                       1006       5.781609          85\n",
       "C                      -1595      -9.273256          89\n",
       "X                      11813      78.753333          77\n",
       "Y                       6122      35.593023          91\n",
       "Z                       9769      67.840278          73"
      ]
     },
     "execution_count": 49,
     "metadata": {},
     "output_type": "execute_result"
    }
   ],
   "source": [
    "suma_ = df.groupby(\"Categorical_1\")[\"Column_1\"].sum()\n",
    "mean_ = df.groupby(\"Categorical_1\")[\"Column_1\"].mean()\n",
    "counter_ = df[df[\"Column_2\"] >= 0].groupby(\"Categorical_1\").size()\n",
    "\n",
    "dfgb = pd.concat([suma_, mean_, counter_], axis = 1)\n",
    "\n",
    "dfgb.columns = [\"Suma_Column_1\", \"Mean_Column_1\", \"Counter_NN\"]\n",
    "\n",
    "dfgb"
   ]
  },
  {
   "cell_type": "code",
   "execution_count": 50,
   "id": "ad5c6330",
   "metadata": {},
   "outputs": [],
   "source": [
    "series_ = df[df[\"Categorical_1\"] == \"B\"][\"Column_1\"]"
   ]
  },
  {
   "cell_type": "code",
   "execution_count": 51,
   "id": "8c074651",
   "metadata": {},
   "outputs": [],
   "source": [
    "def counter_positive_values(series):\n",
    "    positive_values = len(series[series >= 0])\n",
    "    return f\"We have a total of {positive_values} positive values\""
   ]
  },
  {
   "cell_type": "code",
   "execution_count": 52,
   "id": "14b12cd5",
   "metadata": {},
   "outputs": [
    {
     "data": {
      "text/plain": [
       "'We have a total of 89 positive values'"
      ]
     },
     "execution_count": 52,
     "metadata": {},
     "output_type": "execute_result"
    }
   ],
   "source": [
    "counter_positive_values(series = series_)"
   ]
  },
  {
   "cell_type": "code",
   "execution_count": 53,
   "id": "6e8ffd47",
   "metadata": {},
   "outputs": [
    {
     "data": {
      "text/plain": [
       "'We have a total of 89 positive values'"
      ]
     },
     "execution_count": 53,
     "metadata": {},
     "output_type": "execute_result"
    }
   ],
   "source": [
    "counter_positive_values(\n",
    "    series = df.groupby(\"Categorical_1\").get_group(\"C\")[\"Column_2\"]\n",
    ")"
   ]
  },
  {
   "cell_type": "code",
   "execution_count": 54,
   "id": "df126f8e",
   "metadata": {},
   "outputs": [],
   "source": [
    "resumen = df.groupby(\"Categorical_1\").agg(\n",
    "    Suma_Column_1_gb = (\"Column_1\", np.sum),\n",
    "    Mean_Column_1_gb = (\"Column_1\", np.mean),\n",
    "    Counter_Column_2_gb = (\"Column_2\", counter_positive_values)\n",
    ")"
   ]
  },
  {
   "cell_type": "code",
   "execution_count": 55,
   "id": "4941ed28",
   "metadata": {},
   "outputs": [
    {
     "data": {
      "text/html": [
       "<div>\n",
       "<style scoped>\n",
       "    .dataframe tbody tr th:only-of-type {\n",
       "        vertical-align: middle;\n",
       "    }\n",
       "\n",
       "    .dataframe tbody tr th {\n",
       "        vertical-align: top;\n",
       "    }\n",
       "\n",
       "    .dataframe thead th {\n",
       "        text-align: right;\n",
       "    }\n",
       "</style>\n",
       "<table border=\"1\" class=\"dataframe\">\n",
       "  <thead>\n",
       "    <tr style=\"text-align: right;\">\n",
       "      <th></th>\n",
       "      <th>Suma_Column_1_gb</th>\n",
       "      <th>Mean_Column_1_gb</th>\n",
       "      <th>Counter_Column_2_gb</th>\n",
       "    </tr>\n",
       "    <tr>\n",
       "      <th>Categorical_1</th>\n",
       "      <th></th>\n",
       "      <th></th>\n",
       "      <th></th>\n",
       "    </tr>\n",
       "  </thead>\n",
       "  <tbody>\n",
       "    <tr>\n",
       "      <th>A</th>\n",
       "      <td>1988</td>\n",
       "      <td>10.574468</td>\n",
       "      <td>We have a total of 101 positive values</td>\n",
       "    </tr>\n",
       "    <tr>\n",
       "      <th>B</th>\n",
       "      <td>1006</td>\n",
       "      <td>5.781609</td>\n",
       "      <td>We have a total of 85 positive values</td>\n",
       "    </tr>\n",
       "    <tr>\n",
       "      <th>C</th>\n",
       "      <td>-1595</td>\n",
       "      <td>-9.273256</td>\n",
       "      <td>We have a total of 89 positive values</td>\n",
       "    </tr>\n",
       "    <tr>\n",
       "      <th>X</th>\n",
       "      <td>11813</td>\n",
       "      <td>78.753333</td>\n",
       "      <td>We have a total of 77 positive values</td>\n",
       "    </tr>\n",
       "    <tr>\n",
       "      <th>Y</th>\n",
       "      <td>6122</td>\n",
       "      <td>35.593023</td>\n",
       "      <td>We have a total of 91 positive values</td>\n",
       "    </tr>\n",
       "    <tr>\n",
       "      <th>Z</th>\n",
       "      <td>9769</td>\n",
       "      <td>67.840278</td>\n",
       "      <td>We have a total of 73 positive values</td>\n",
       "    </tr>\n",
       "  </tbody>\n",
       "</table>\n",
       "</div>"
      ],
      "text/plain": [
       "               Suma_Column_1_gb  Mean_Column_1_gb  \\\n",
       "Categorical_1                                       \n",
       "A                          1988         10.574468   \n",
       "B                          1006          5.781609   \n",
       "C                         -1595         -9.273256   \n",
       "X                         11813         78.753333   \n",
       "Y                          6122         35.593023   \n",
       "Z                          9769         67.840278   \n",
       "\n",
       "                                  Counter_Column_2_gb  \n",
       "Categorical_1                                          \n",
       "A              We have a total of 101 positive values  \n",
       "B               We have a total of 85 positive values  \n",
       "C               We have a total of 89 positive values  \n",
       "X               We have a total of 77 positive values  \n",
       "Y               We have a total of 91 positive values  \n",
       "Z               We have a total of 73 positive values  "
      ]
     },
     "execution_count": 55,
     "metadata": {},
     "output_type": "execute_result"
    }
   ],
   "source": [
    "resumen"
   ]
  },
  {
   "cell_type": "code",
   "execution_count": 56,
   "id": "4d15efa2",
   "metadata": {},
   "outputs": [
    {
     "data": {
      "text/html": [
       "<div>\n",
       "<style scoped>\n",
       "    .dataframe tbody tr th:only-of-type {\n",
       "        vertical-align: middle;\n",
       "    }\n",
       "\n",
       "    .dataframe tbody tr th {\n",
       "        vertical-align: top;\n",
       "    }\n",
       "\n",
       "    .dataframe thead th {\n",
       "        text-align: right;\n",
       "    }\n",
       "</style>\n",
       "<table border=\"1\" class=\"dataframe\">\n",
       "  <thead>\n",
       "    <tr style=\"text-align: right;\">\n",
       "      <th></th>\n",
       "      <th>Sum_column_1</th>\n",
       "      <th>Mean_column_1</th>\n",
       "      <th>Counter_non_negative_values_column_2</th>\n",
       "    </tr>\n",
       "    <tr>\n",
       "      <th>Categorical_1</th>\n",
       "      <th></th>\n",
       "      <th></th>\n",
       "      <th></th>\n",
       "    </tr>\n",
       "  </thead>\n",
       "  <tbody>\n",
       "    <tr>\n",
       "      <th>A</th>\n",
       "      <td>1988</td>\n",
       "      <td>10.57</td>\n",
       "      <td>101</td>\n",
       "    </tr>\n",
       "    <tr>\n",
       "      <th>B</th>\n",
       "      <td>1006</td>\n",
       "      <td>5.78</td>\n",
       "      <td>85</td>\n",
       "    </tr>\n",
       "    <tr>\n",
       "      <th>C</th>\n",
       "      <td>-1595</td>\n",
       "      <td>-9.27</td>\n",
       "      <td>89</td>\n",
       "    </tr>\n",
       "    <tr>\n",
       "      <th>X</th>\n",
       "      <td>11813</td>\n",
       "      <td>78.75</td>\n",
       "      <td>77</td>\n",
       "    </tr>\n",
       "    <tr>\n",
       "      <th>Y</th>\n",
       "      <td>6122</td>\n",
       "      <td>35.59</td>\n",
       "      <td>91</td>\n",
       "    </tr>\n",
       "    <tr>\n",
       "      <th>Z</th>\n",
       "      <td>9769</td>\n",
       "      <td>67.84</td>\n",
       "      <td>73</td>\n",
       "    </tr>\n",
       "  </tbody>\n",
       "</table>\n",
       "</div>"
      ],
      "text/plain": [
       "               Sum_column_1  Mean_column_1  \\\n",
       "Categorical_1                                \n",
       "A                      1988          10.57   \n",
       "B                      1006           5.78   \n",
       "C                     -1595          -9.27   \n",
       "X                     11813          78.75   \n",
       "Y                      6122          35.59   \n",
       "Z                      9769          67.84   \n",
       "\n",
       "               Counter_non_negative_values_column_2  \n",
       "Categorical_1                                        \n",
       "A                                               101  \n",
       "B                                                85  \n",
       "C                                                89  \n",
       "X                                                77  \n",
       "Y                                                91  \n",
       "Z                                                73  "
      ]
     },
     "execution_count": 56,
     "metadata": {},
     "output_type": "execute_result"
    }
   ],
   "source": [
    "# posible solución\n",
    "suma_column_1_categorical_1 = df.groupby(\"Categorical_1\")[\"Column_1\"].sum()\n",
    "mean_column_1_categorical_1 = df.groupby(\"Categorical_1\")[\"Column_1\"].mean()\n",
    "positive_counter = df.groupby(\"Categorical_1\")[\"Column_2\"].agg(lambda series: len(series[series >= 0]))\n",
    "\n",
    "df_resumen = pd.concat([\n",
    "    suma_column_1_categorical_1,\n",
    "    mean_column_1_categorical_1,\n",
    "    positive_counter\n",
    "], axis = 1)\n",
    "\n",
    "df_resumen.columns = [\"Sum_column_1\", \"Mean_column_1\", \"Counter_non_negative_values_column_2\"]\n",
    "\n",
    "del suma_column_1_categorical_1, mean_column_1_categorical_1, positive_counter\n",
    "\n",
    "df_resumen.round(2)"
   ]
  },
  {
   "attachments": {},
   "cell_type": "markdown",
   "id": "c2efc4d4",
   "metadata": {},
   "source": [
    "Si miramos de manera crítica la celda anterior, podemos ver las siguientes ineficiencias:\n",
    "1. Generamos 3 variables temporales que no nos hacen falta a posteriori.\n",
    "2. Debemos añadir varias líneas de código para concatenar estos resultados.\n",
    "3. Tenemos que hacer limpieza de las variables temporales (buena praxis).\n",
    "4. Debemos renombrar las columnas del df_resumen.\n",
    "\n",
    "Todos los pasos anteriores para conseguir un df_resumen.\n",
    "\n",
    "Veamos una forma mucho más elegante y eficiente de hacerlo."
   ]
  },
  {
   "cell_type": "code",
   "execution_count": 57,
   "id": "c89257c5",
   "metadata": {},
   "outputs": [
    {
     "data": {
      "text/html": [
       "<div>\n",
       "<style scoped>\n",
       "    .dataframe tbody tr th:only-of-type {\n",
       "        vertical-align: middle;\n",
       "    }\n",
       "\n",
       "    .dataframe tbody tr th {\n",
       "        vertical-align: top;\n",
       "    }\n",
       "\n",
       "    .dataframe thead th {\n",
       "        text-align: right;\n",
       "    }\n",
       "</style>\n",
       "<table border=\"1\" class=\"dataframe\">\n",
       "  <thead>\n",
       "    <tr style=\"text-align: right;\">\n",
       "      <th></th>\n",
       "      <th>Sum_column_1</th>\n",
       "      <th>Max_column_1</th>\n",
       "      <th>Mean_column_1</th>\n",
       "      <th>Counter_non_negative_values_column_2</th>\n",
       "      <th>Sum_non_negative_values_column_2</th>\n",
       "    </tr>\n",
       "    <tr>\n",
       "      <th>Categorical_1</th>\n",
       "      <th></th>\n",
       "      <th></th>\n",
       "      <th></th>\n",
       "      <th></th>\n",
       "      <th></th>\n",
       "    </tr>\n",
       "  </thead>\n",
       "  <tbody>\n",
       "    <tr>\n",
       "      <th>A</th>\n",
       "      <td>1988</td>\n",
       "      <td>987</td>\n",
       "      <td>10.57</td>\n",
       "      <td>101</td>\n",
       "      <td>51758</td>\n",
       "    </tr>\n",
       "    <tr>\n",
       "      <th>B</th>\n",
       "      <td>1006</td>\n",
       "      <td>989</td>\n",
       "      <td>5.78</td>\n",
       "      <td>85</td>\n",
       "      <td>33793</td>\n",
       "    </tr>\n",
       "    <tr>\n",
       "      <th>C</th>\n",
       "      <td>-1595</td>\n",
       "      <td>958</td>\n",
       "      <td>-9.27</td>\n",
       "      <td>89</td>\n",
       "      <td>43271</td>\n",
       "    </tr>\n",
       "    <tr>\n",
       "      <th>X</th>\n",
       "      <td>11813</td>\n",
       "      <td>995</td>\n",
       "      <td>78.75</td>\n",
       "      <td>77</td>\n",
       "      <td>35980</td>\n",
       "    </tr>\n",
       "    <tr>\n",
       "      <th>Y</th>\n",
       "      <td>6122</td>\n",
       "      <td>999</td>\n",
       "      <td>35.59</td>\n",
       "      <td>91</td>\n",
       "      <td>48768</td>\n",
       "    </tr>\n",
       "    <tr>\n",
       "      <th>Z</th>\n",
       "      <td>9769</td>\n",
       "      <td>998</td>\n",
       "      <td>67.84</td>\n",
       "      <td>73</td>\n",
       "      <td>33750</td>\n",
       "    </tr>\n",
       "  </tbody>\n",
       "</table>\n",
       "</div>"
      ],
      "text/plain": [
       "               Sum_column_1  Max_column_1  Mean_column_1  \\\n",
       "Categorical_1                                              \n",
       "A                      1988           987          10.57   \n",
       "B                      1006           989           5.78   \n",
       "C                     -1595           958          -9.27   \n",
       "X                     11813           995          78.75   \n",
       "Y                      6122           999          35.59   \n",
       "Z                      9769           998          67.84   \n",
       "\n",
       "               Counter_non_negative_values_column_2  \\\n",
       "Categorical_1                                         \n",
       "A                                               101   \n",
       "B                                                85   \n",
       "C                                                89   \n",
       "X                                                77   \n",
       "Y                                                91   \n",
       "Z                                                73   \n",
       "\n",
       "               Sum_non_negative_values_column_2  \n",
       "Categorical_1                                    \n",
       "A                                         51758  \n",
       "B                                         33793  \n",
       "C                                         43271  \n",
       "X                                         35980  \n",
       "Y                                         48768  \n",
       "Z                                         33750  "
      ]
     },
     "execution_count": 57,
     "metadata": {},
     "output_type": "execute_result"
    }
   ],
   "source": [
    "# best praxis\n",
    "df.groupby(\"Categorical_1\").agg(\n",
    "    Sum_column_1 = (\"Column_1\", np.sum),\n",
    "    Max_column_1 = (\"Column_1\", np.max),\n",
    "    Mean_column_1 = (\"Column_1\", np.mean),\n",
    "    Counter_non_negative_values_column_2 = (\"Column_2\", lambda series: len(series[series >= 0])),\n",
    "    Sum_non_negative_values_column_2 = (\"Column_2\", lambda series: np.sum(series[series >= 0])),\n",
    ").round(2)"
   ]
  },
  {
   "attachments": {},
   "cell_type": "markdown",
   "id": "d8aaf3ef",
   "metadata": {},
   "source": [
    "Conseguimos el mismo resultado que antes, pero de una manera más rápida y elegante. \n",
    "\n",
    "**Debemos fijarnos en que en realidad, hacemos 2 operaciones adicionales y todo con menos líneas de código.**"
   ]
  },
  {
   "attachments": {},
   "cell_type": "markdown",
   "id": "0d194f82",
   "metadata": {},
   "source": [
    "### Funciones personalizadas\n",
    "<a id='pandas_custom_func'></a>\n",
    "\n",
    "En el ejemplo anterior, para calcular **Counter_non_negative_values_column_2** tuvimos que crear una función personalizada (custom function) en forma de ***lambda***.\n",
    "\n",
    "Esto es de extrema relevancia porque significa que dentro de un **pandas groupby** yo puedo utilizar no solo las funciones tipo: suma, media, máximo etc. sino **cualquier función siempre y cuando haga un cálculo y devuelva un resultado agregado.** De hecho, el resultado podría hasta ser un string. \n",
    "\n",
    "Veamos algunos ejemplos."
   ]
  },
  {
   "cell_type": "code",
   "execution_count": 58,
   "id": "ebf48330",
   "metadata": {},
   "outputs": [],
   "source": [
    "def custom_func_non_negative_sum(series):\n",
    "    '''\n",
    "    Sums non negative values from a pandas series\n",
    "    '''\n",
    "    return np.sum(series[series >= 0])"
   ]
  },
  {
   "attachments": {},
   "cell_type": "markdown",
   "id": "1b227ac0",
   "metadata": {},
   "source": [
    "La función anterior es idéntica a la siguiente función anónima **lambda series: np.sum(series[series >= 0])**"
   ]
  },
  {
   "cell_type": "code",
   "execution_count": 59,
   "id": "23d12950",
   "metadata": {},
   "outputs": [
    {
     "data": {
      "text/plain": [
       "Categorical_1\n",
       "A    51758\n",
       "B    33793\n",
       "C    43271\n",
       "X    35980\n",
       "Y    48768\n",
       "Z    33750\n",
       "Name: Column_2, dtype: int64"
      ]
     },
     "execution_count": 59,
     "metadata": {},
     "output_type": "execute_result"
    }
   ],
   "source": [
    "df.groupby(\"Categorical_1\")[\"Column_2\"].agg(custom_func_non_negative_sum)"
   ]
  },
  {
   "attachments": {},
   "cell_type": "markdown",
   "id": "86a139a9",
   "metadata": {},
   "source": [
    "Por supuesto la función anterior la podemos utilizar con un pandas transform"
   ]
  },
  {
   "cell_type": "code",
   "execution_count": 60,
   "id": "304c766a",
   "metadata": {},
   "outputs": [],
   "source": [
    "df[\"New_col_2_cf_bp\"] =\\\n",
    "df.groupby(\"Categorical_1\")[\"Column_2\"].transform(\n",
    "    custom_func_non_negative_sum\n",
    ")"
   ]
  },
  {
   "cell_type": "code",
   "execution_count": 61,
   "id": "e0622cf2",
   "metadata": {},
   "outputs": [
    {
     "data": {
      "text/html": [
       "<div>\n",
       "<style scoped>\n",
       "    .dataframe tbody tr th:only-of-type {\n",
       "        vertical-align: middle;\n",
       "    }\n",
       "\n",
       "    .dataframe tbody tr th {\n",
       "        vertical-align: top;\n",
       "    }\n",
       "\n",
       "    .dataframe thead th {\n",
       "        text-align: right;\n",
       "    }\n",
       "</style>\n",
       "<table border=\"1\" class=\"dataframe\">\n",
       "  <thead>\n",
       "    <tr style=\"text-align: right;\">\n",
       "      <th></th>\n",
       "      <th>Column_1</th>\n",
       "      <th>Column_2</th>\n",
       "      <th>Column_3</th>\n",
       "      <th>Categorical_1</th>\n",
       "      <th>Categorical_2</th>\n",
       "      <th>Categorical_3</th>\n",
       "      <th>Solucion_1</th>\n",
       "      <th>Sol_2</th>\n",
       "      <th>New_col_1</th>\n",
       "      <th>New_col_1_bp</th>\n",
       "      <th>New_col_2_cf_bp</th>\n",
       "    </tr>\n",
       "  </thead>\n",
       "  <tbody>\n",
       "    <tr>\n",
       "      <th>0</th>\n",
       "      <td>-792</td>\n",
       "      <td>-125</td>\n",
       "      <td>51</td>\n",
       "      <td>X</td>\n",
       "      <td>Y</td>\n",
       "      <td>Z</td>\n",
       "      <td>11813</td>\n",
       "      <td>11813</td>\n",
       "      <td>11813</td>\n",
       "      <td>11813</td>\n",
       "      <td>35980</td>\n",
       "    </tr>\n",
       "  </tbody>\n",
       "</table>\n",
       "</div>"
      ],
      "text/plain": [
       "   Column_1  Column_2  Column_3 Categorical_1 Categorical_2 Categorical_3  \\\n",
       "0      -792      -125        51             X             Y             Z   \n",
       "\n",
       "   Solucion_1  Sol_2  New_col_1  New_col_1_bp  New_col_2_cf_bp  \n",
       "0       11813  11813      11813         11813            35980  "
      ]
     },
     "execution_count": 61,
     "metadata": {},
     "output_type": "execute_result"
    }
   ],
   "source": [
    "df.head(1)"
   ]
  },
  {
   "attachments": {},
   "cell_type": "markdown",
   "id": "c849ba2d",
   "metadata": {},
   "source": [
    "Antes hemos comentado, que la función de agregación customizada puede hasta devolver un string como resultado.\n",
    "\n",
    "Veamos un ejemplo rápido."
   ]
  },
  {
   "cell_type": "code",
   "execution_count": 62,
   "id": "b5dfbff5",
   "metadata": {},
   "outputs": [],
   "source": [
    "def custom_func_returns_string(series):\n",
    "    '''\n",
    "    Custom function that returns a string as a result\n",
    "    '''\n",
    "    positive_values = len(series[series >= 0])\n",
    "    negative_values = len(series[series < 0])\n",
    "    \n",
    "    return f\"Positive Values: {positive_values} Negative Values: {negative_values}\""
   ]
  },
  {
   "cell_type": "code",
   "execution_count": 63,
   "id": "e28973aa",
   "metadata": {},
   "outputs": [
    {
     "name": "stdout",
     "output_type": "stream",
     "text": [
      "Categorical_1\n",
      "A    Positive Values: 99 Negative Values: 89\n",
      "B    Positive Values: 89 Negative Values: 85\n",
      "C    Positive Values: 91 Negative Values: 81\n",
      "X    Positive Values: 82 Negative Values: 68\n",
      "Y    Positive Values: 83 Negative Values: 89\n",
      "Z    Positive Values: 81 Negative Values: 63\n",
      "Name: Column_1, dtype: object\n"
     ]
    }
   ],
   "source": [
    "print(df.groupby(\"Categorical_1\")[\"Column_1\"].agg(custom_func_returns_string))"
   ]
  },
  {
   "cell_type": "code",
   "execution_count": 64,
   "id": "f6107761",
   "metadata": {},
   "outputs": [],
   "source": [
    "df[\"New_col_2_cfs_bp\"] = df.groupby(\"Categorical_1\")[\"Column_1\"].transform(custom_func_returns_string)"
   ]
  },
  {
   "cell_type": "code",
   "execution_count": 65,
   "id": "cb5e0902",
   "metadata": {},
   "outputs": [
    {
     "data": {
      "text/html": [
       "<div>\n",
       "<style scoped>\n",
       "    .dataframe tbody tr th:only-of-type {\n",
       "        vertical-align: middle;\n",
       "    }\n",
       "\n",
       "    .dataframe tbody tr th {\n",
       "        vertical-align: top;\n",
       "    }\n",
       "\n",
       "    .dataframe thead th {\n",
       "        text-align: right;\n",
       "    }\n",
       "</style>\n",
       "<table border=\"1\" class=\"dataframe\">\n",
       "  <thead>\n",
       "    <tr style=\"text-align: right;\">\n",
       "      <th></th>\n",
       "      <th>Column_1</th>\n",
       "      <th>Column_2</th>\n",
       "      <th>Column_3</th>\n",
       "      <th>Categorical_1</th>\n",
       "      <th>Categorical_2</th>\n",
       "      <th>Categorical_3</th>\n",
       "      <th>Solucion_1</th>\n",
       "      <th>Sol_2</th>\n",
       "      <th>New_col_1</th>\n",
       "      <th>New_col_1_bp</th>\n",
       "      <th>New_col_2_cf_bp</th>\n",
       "      <th>New_col_2_cfs_bp</th>\n",
       "    </tr>\n",
       "  </thead>\n",
       "  <tbody>\n",
       "    <tr>\n",
       "      <th>469</th>\n",
       "      <td>538</td>\n",
       "      <td>474</td>\n",
       "      <td>116</td>\n",
       "      <td>B</td>\n",
       "      <td>X</td>\n",
       "      <td>B</td>\n",
       "      <td>1006</td>\n",
       "      <td>1006</td>\n",
       "      <td>1006</td>\n",
       "      <td>1006</td>\n",
       "      <td>33793</td>\n",
       "      <td>Positive Values: 89 Negative Values: 85</td>\n",
       "    </tr>\n",
       "    <tr>\n",
       "      <th>127</th>\n",
       "      <td>-188</td>\n",
       "      <td>398</td>\n",
       "      <td>-320</td>\n",
       "      <td>C</td>\n",
       "      <td>C</td>\n",
       "      <td>Y</td>\n",
       "      <td>-1595</td>\n",
       "      <td>-1595</td>\n",
       "      <td>-1595</td>\n",
       "      <td>-1595</td>\n",
       "      <td>43271</td>\n",
       "      <td>Positive Values: 91 Negative Values: 81</td>\n",
       "    </tr>\n",
       "    <tr>\n",
       "      <th>793</th>\n",
       "      <td>-797</td>\n",
       "      <td>-697</td>\n",
       "      <td>-856</td>\n",
       "      <td>X</td>\n",
       "      <td>X</td>\n",
       "      <td>A</td>\n",
       "      <td>11813</td>\n",
       "      <td>11813</td>\n",
       "      <td>11813</td>\n",
       "      <td>11813</td>\n",
       "      <td>35980</td>\n",
       "      <td>Positive Values: 82 Negative Values: 68</td>\n",
       "    </tr>\n",
       "    <tr>\n",
       "      <th>380</th>\n",
       "      <td>-846</td>\n",
       "      <td>205</td>\n",
       "      <td>942</td>\n",
       "      <td>C</td>\n",
       "      <td>B</td>\n",
       "      <td>C</td>\n",
       "      <td>-1595</td>\n",
       "      <td>-1595</td>\n",
       "      <td>-1595</td>\n",
       "      <td>-1595</td>\n",
       "      <td>43271</td>\n",
       "      <td>Positive Values: 91 Negative Values: 81</td>\n",
       "    </tr>\n",
       "    <tr>\n",
       "      <th>220</th>\n",
       "      <td>-962</td>\n",
       "      <td>-777</td>\n",
       "      <td>-974</td>\n",
       "      <td>A</td>\n",
       "      <td>A</td>\n",
       "      <td>C</td>\n",
       "      <td>1988</td>\n",
       "      <td>1988</td>\n",
       "      <td>1988</td>\n",
       "      <td>1988</td>\n",
       "      <td>51758</td>\n",
       "      <td>Positive Values: 99 Negative Values: 89</td>\n",
       "    </tr>\n",
       "  </tbody>\n",
       "</table>\n",
       "</div>"
      ],
      "text/plain": [
       "     Column_1  Column_2  Column_3 Categorical_1 Categorical_2 Categorical_3  \\\n",
       "469       538       474       116             B             X             B   \n",
       "127      -188       398      -320             C             C             Y   \n",
       "793      -797      -697      -856             X             X             A   \n",
       "380      -846       205       942             C             B             C   \n",
       "220      -962      -777      -974             A             A             C   \n",
       "\n",
       "     Solucion_1  Sol_2  New_col_1  New_col_1_bp  New_col_2_cf_bp  \\\n",
       "469        1006   1006       1006          1006            33793   \n",
       "127       -1595  -1595      -1595         -1595            43271   \n",
       "793       11813  11813      11813         11813            35980   \n",
       "380       -1595  -1595      -1595         -1595            43271   \n",
       "220        1988   1988       1988          1988            51758   \n",
       "\n",
       "                            New_col_2_cfs_bp  \n",
       "469  Positive Values: 89 Negative Values: 85  \n",
       "127  Positive Values: 91 Negative Values: 81  \n",
       "793  Positive Values: 82 Negative Values: 68  \n",
       "380  Positive Values: 91 Negative Values: 81  \n",
       "220  Positive Values: 99 Negative Values: 89  "
      ]
     },
     "execution_count": 65,
     "metadata": {},
     "output_type": "execute_result"
    }
   ],
   "source": [
    "df.sample(5)"
   ]
  },
  {
   "attachments": {},
   "cell_type": "markdown",
   "id": "61555d08",
   "metadata": {},
   "source": [
    "En la práctica no obstante, usamos este tipo de funciones sólo cuando queremos hacer un reporting sobre un dataframe e incluirlo en un informe final."
   ]
  },
  {
   "attachments": {},
   "cell_type": "markdown",
   "id": "04733b6d",
   "metadata": {},
   "source": [
    "### Nueva columna utilizando la información de 2 columnas\n",
    "<a id='pandas_custom_func_2_cols'></a>\n",
    "\n",
    "Si hacemos un breve recap de lo visto hasta ahora, sabemos que:\n",
    "1. Dentro de un groupby hay un montón de dfs \"pequeños\". Estos dataframes no se solapan con otros porque tienen categorías únicas (en función de las columnas por las cuales se ha hecho el groupby).\n",
    "2. De alguna manera, hacer un groupby y llamar get_group (que es lo que ocurre dentro de un groupby pero para todas las categorías) es similar a hacer un filtro de df.\n",
    "3. Al hacer un filtro o groupby, sigo operando todo el rato con un df. Si sigo operando con un df, puedo acceder a cualquier columna del df.\n",
    "4. Por tanto, puedo realizar una función de agregación teniendo en cuenta la información de más de una columna, sin necesidad de **iterar** sobre el df."
   ]
  },
  {
   "attachments": {},
   "cell_type": "markdown",
   "id": "1f6726aa",
   "metadata": {},
   "source": [
    "### Pregunta 4: calcular la media de la Column_1 cuando tengo en la Column_2 más valores positivos que negativos (len_positivos >= len_negativos), en caso contrario devolver -1 todo esto dentro de un groupby."
   ]
  },
  {
   "cell_type": "code",
   "execution_count": 66,
   "id": "0d93f137",
   "metadata": {},
   "outputs": [
    {
     "data": {
      "text/plain": [
       "{'A': 10.574468085106384,\n",
       " 'B': -1,\n",
       " 'C': -9.273255813953488,\n",
       " 'X': 78.75333333333333,\n",
       " 'Y': 35.593023255813954,\n",
       " 'Z': 67.84027777777777}"
      ]
     },
     "execution_count": 66,
     "metadata": {},
     "output_type": "execute_result"
    }
   ],
   "source": [
    "RESULT_DICT = {}\n",
    "\n",
    "for cat_ in sorted(df[\"Categorical_1\"].unique()):\n",
    "    \n",
    "    df_ = df[df[\"Categorical_1\"] == cat_]\n",
    "    \n",
    "    positive_values = (df_[\"Column_2\"] >= 0).sum()\n",
    "    negative_values = (df_[\"Column_2\"] < 0).sum()\n",
    "\n",
    "    if positive_values >= negative_values:\n",
    "        result_ = df_[\"Column_1\"].mean()\n",
    "    else:\n",
    "        result_ = -1\n",
    "        \n",
    "    RESULT_DICT[cat_] = result_\n",
    "    \n",
    "RESULT_DICT"
   ]
  },
  {
   "cell_type": "code",
   "execution_count": 67,
   "id": "61db0a8f",
   "metadata": {},
   "outputs": [],
   "source": [
    "def custom_agg_2_columns_gb(df):\n",
    "    \n",
    "    positive_values = (df[\"Column_2\"] >= 0).sum()\n",
    "    negative_values = (df[\"Column_2\"] < 0).sum()\n",
    "    \n",
    "    if positive_values >= negative_values:\n",
    "        result_ = df[\"Column_1\"].mean()\n",
    "        return result_\n",
    "    else:\n",
    "        result_ = -1\n",
    "        return result_"
   ]
  },
  {
   "cell_type": "code",
   "execution_count": 68,
   "id": "7e02a4d5",
   "metadata": {},
   "outputs": [
    {
     "data": {
      "text/plain": [
       "Categorical_1\n",
       "A    10.574468\n",
       "B    -1.000000\n",
       "C    -9.273256\n",
       "X    78.753333\n",
       "Y    35.593023\n",
       "Z    67.840278\n",
       "dtype: float64"
      ]
     },
     "execution_count": 68,
     "metadata": {},
     "output_type": "execute_result"
    }
   ],
   "source": [
    "df.groupby(\"Categorical_1\").apply(custom_agg_2_columns_gb)"
   ]
  },
  {
   "cell_type": "code",
   "execution_count": 69,
   "id": "e6b1bdfa",
   "metadata": {},
   "outputs": [
    {
     "data": {
      "text/plain": [
       "{'A': 10.574468085106384,\n",
       " 'B': -1,\n",
       " 'C': -9.273255813953488,\n",
       " 'X': 78.75333333333333,\n",
       " 'Y': 35.593023255813954,\n",
       " 'Z': 67.84027777777777}"
      ]
     },
     "execution_count": 69,
     "metadata": {},
     "output_type": "execute_result"
    }
   ],
   "source": [
    "# posible solución\n",
    "d_ = {}\n",
    "\n",
    "for category in sorted(df[\"Categorical_1\"].unique()):\n",
    "\n",
    "    sample_df = df[\n",
    "        (df[\"Categorical_1\"] == category)\n",
    "    ]\n",
    "\n",
    "    value_counts = (sample_df[\"Column_2\"] >= 0).value_counts()\n",
    "    \n",
    "    true_values = value_counts.loc[True]\n",
    "    false_values = value_counts.loc[False]\n",
    "    \n",
    "    if true_values >= false_values:\n",
    "        d_[category] = sample_df[\"Column_1\"].mean()\n",
    "    else:\n",
    "        d_[category] = -1\n",
    "\n",
    "d_"
   ]
  },
  {
   "cell_type": "code",
   "execution_count": 70,
   "id": "9bd18376",
   "metadata": {},
   "outputs": [
    {
     "data": {
      "text/plain": [
       "Categorical_1\n",
       "A    10.574468\n",
       "B    -1.000000\n",
       "C    -9.273256\n",
       "X    78.753333\n",
       "Y    35.593023\n",
       "Z    67.840278\n",
       "dtype: float64"
      ]
     },
     "execution_count": 70,
     "metadata": {},
     "output_type": "execute_result"
    }
   ],
   "source": [
    "# best praxis\n",
    "def custom_agg_function_2_cols(df):\n",
    "    '''\n",
    "    Custom function that uses values from 1 column to calculate the value for another column.\n",
    "    '''\n",
    "    value_counts = (df[\"Column_2\"] >= 0).value_counts()\n",
    "    true_values = value_counts.loc[True]\n",
    "    false_values = value_counts.loc[False]\n",
    "    \n",
    "    if true_values >= false_values:\n",
    "        return df[\"Column_1\"].mean()\n",
    "    else:\n",
    "        return -1\n",
    "\n",
    "df.groupby(\"Categorical_1\").apply(custom_agg_function_2_cols)"
   ]
  }
 ],
 "metadata": {
  "kernelspec": {
   "display_name": "Python 3",
   "language": "python",
   "name": "python3"
  },
  "language_info": {
   "codemirror_mode": {
    "name": "ipython",
    "version": 3
   },
   "file_extension": ".py",
   "mimetype": "text/x-python",
   "name": "python",
   "nbconvert_exporter": "python",
   "pygments_lexer": "ipython3",
   "version": "3.11.2"
  }
 },
 "nbformat": 4,
 "nbformat_minor": 5
}
