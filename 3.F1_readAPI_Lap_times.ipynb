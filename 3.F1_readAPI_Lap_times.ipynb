{
 "cells": [
  {
   "cell_type": "markdown",
   "metadata": {},
   "source": [
    "### F1\n",
    "\n",
    "http://ergast.com/mrd/"
   ]
  },
  {
   "cell_type": "code",
   "execution_count": 1,
   "metadata": {},
   "outputs": [],
   "source": [
    "import pyodbc\n",
    "from sqlalchemy import create_engine\n",
    "import sys\n",
    "import pandas as pd\n",
    "import requests\n",
    "import time\n",
    "from pprint import pprint"
   ]
  },
  {
   "cell_type": "code",
   "execution_count": 2,
   "metadata": {},
   "outputs": [
    {
     "name": "stdout",
     "output_type": "stream",
     "text": [
      "Conexión finalizada\n"
     ]
    },
    {
     "name": "stderr",
     "output_type": "stream",
     "text": [
      "C:\\Users\\maria\\AppData\\Local\\Temp\\ipykernel_36260\\1675199318.py:12: UserWarning: pandas only supports SQLAlchemy connectable (engine/connection) or database string URI or sqlite3 DBAPI2 connection. Other DBAPI2 objects are not tested. Please consider using SQLAlchemy.\n",
      "  max_raceId_df = pd.read_sql(sql_query, connect)\n"
     ]
    }
   ],
   "source": [
    "#Necesitamos encontrar el ultimo raceId de la tabla lap_Times\n",
    "try:\n",
    "    connect = pyodbc.connect(\"\"\"\n",
    "        DRIVER={SQL Server};\n",
    "        SERVER=LAPTOP-5EGKJ2TF;\n",
    "        DATABASE=Formula1;\n",
    "        Trusted_Connection=yes')\n",
    "        \"\"\")\n",
    "    sql_query = 'SELECT MAX(raceId) FROM lapTimes'\n",
    "    \n",
    "    #Dataset with headers\n",
    "    max_raceId_df = pd.read_sql(sql_query, connect)\n",
    "    \n",
    "    # Obtener el valor máximo de raceId como una variable\n",
    "    max_raceId = max_raceId_df.iloc[0, 0]\n",
    "\n",
    "    cursor = connect.cursor()\n",
    "    cursor.execute(sql_query)\n",
    "    connect.commit()\n",
    "\n",
    "except Exception as ex:\n",
    "    print(ex)\n",
    "finally :\n",
    "    cursor.close()\n",
    "    connect.close()\n",
    "    print('Conexión finalizada')"
   ]
  },
  {
   "cell_type": "code",
   "execution_count": 3,
   "metadata": {},
   "outputs": [
    {
     "data": {
      "text/plain": [
       "1110"
      ]
     },
     "execution_count": 3,
     "metadata": {},
     "output_type": "execute_result"
    }
   ],
   "source": [
    "max_raceId"
   ]
  },
  {
   "cell_type": "code",
   "execution_count": 4,
   "metadata": {},
   "outputs": [
    {
     "name": "stdout",
     "output_type": "stream",
     "text": [
      "Conexión finalizada\n"
     ]
    },
    {
     "name": "stderr",
     "output_type": "stream",
     "text": [
      "C:\\Users\\maria\\AppData\\Local\\Temp\\ipykernel_36260\\1225873436.py:19: UserWarning: pandas only supports SQLAlchemy connectable (engine/connection) or database string URI or sqlite3 DBAPI2 connection. Other DBAPI2 objects are not tested. Please consider using SQLAlchemy.\n",
      "  nextMax_raceId_df = pd.read_sql(sql_query, connect)\n"
     ]
    }
   ],
   "source": [
    "#Necesitamos encontrar el año y la carrera del siguiente valor para ver si ya fue cargado\n",
    "try:\n",
    "    connect = pyodbc.connect(\"\"\"\n",
    "        DRIVER={SQL Server};\n",
    "        SERVER=LAPTOP-5EGKJ2TF;\n",
    "        DATABASE=Formula1;\n",
    "        Trusted_Connection=yes')\n",
    "        \"\"\")\n",
    "    sql_query = '''\n",
    "                    SELECT \n",
    "                        raceId,\n",
    "                        year,\n",
    "                        round\n",
    "                    FROM races\n",
    "                    WHERE raceID = (SELECT MAX(raceId)+1 FROM lapTimes)\n",
    "                '''\n",
    "    \n",
    "    #Dataset with headers\n",
    "    nextMax_raceId_df = pd.read_sql(sql_query, connect)\n",
    "    \n",
    "\n",
    "    cursor = connect.cursor()\n",
    "    cursor.execute(sql_query)\n",
    "    connect.commit()\n",
    "\n",
    "except Exception as ex:\n",
    "    print(ex)\n",
    "finally :\n",
    "    cursor.close()\n",
    "    connect.close()\n",
    "    print('Conexión finalizada')"
   ]
  },
  {
   "cell_type": "code",
   "execution_count": 5,
   "metadata": {},
   "outputs": [
    {
     "name": "stdout",
     "output_type": "stream",
     "text": [
      "Necesitamos buscar la informacion en la API del raceId 1111; año : 2023 y carrera 13\n"
     ]
    }
   ],
   "source": [
    "año = nextMax_raceId_df.iloc[0, 1]\n",
    "carrera = nextMax_raceId_df.iloc[0, 2]\n",
    "print (f'Necesitamos buscar la informacion en la API del raceId {max_raceId+1}; año : {año} y carrera {carrera}')"
   ]
  },
  {
   "cell_type": "code",
   "execution_count": 2,
   "metadata": {},
   "outputs": [],
   "source": [
    "#Cambiarlo luegooooooooo\n",
    "max_raceId = 1110\n",
    "año = 2023\n",
    "carrera = 12"
   ]
  },
  {
   "cell_type": "markdown",
   "metadata": {},
   "source": [
    "###     Para mas adelante podriamos en hacer un while adicional que me permita sacar todos los valores de vueltas de todas las carreras del ultimo año.\n",
    "####    Por ahora lo haremos solo por la carrera encontrada"
   ]
  },
  {
   "cell_type": "code",
   "execution_count": 3,
   "metadata": {},
   "outputs": [
    {
     "name": "stdout",
     "output_type": "stream",
     "text": [
      "list index out of range\n",
      "No hay mas datos por leer\n"
     ]
    }
   ],
   "source": [
    "try:\n",
    "    i = 1 #Empieza siempre en la vuelta 1\n",
    "    laps_ds = [] #Creamos el dataset vacio que almacenar toda la informacion\n",
    "    while i < 100 : # Ninguna carrera dura mas de 100 vueltas. El while parara cuando se encuentre un error\n",
    "        url = f'http://ergast.com/api/f1/{año}/{carrera}/laps/{i}.json'\n",
    "        res=requests.get(url)\n",
    "        lapsdata = res.json()['MRData']['RaceTable']['Races'][0]['Laps']\n",
    "        \n",
    "        for lap in lapsdata:\n",
    "            Nlap = lap['number']\n",
    "            timings = lap['Timings']\n",
    "            for timing in timings:\n",
    "                driver_id = timing['driverId']\n",
    "                position = timing['position']\n",
    "                time = timing['time']\n",
    "                #print(f\"Driver: {driver_id}, Position: {position},Lap: {Nlap}, Time: {time}\")\n",
    "                laps_ds.append({\n",
    "                    'raceId': max_raceId,\n",
    "                    'driver': driver_id, \n",
    "                    'position': position, \n",
    "                    'lap': Nlap, \n",
    "                    'time': time\n",
    "                })\n",
    "        i += 1     \n",
    "\n",
    "except Exception as ex:\n",
    "    print(ex)\n",
    "finally :\n",
    "    print('No hay mas datos por leer')"
   ]
  },
  {
   "cell_type": "code",
   "execution_count": 4,
   "metadata": {},
   "outputs": [
    {
     "data": {
      "text/html": [
       "<div>\n",
       "<style scoped>\n",
       "    .dataframe tbody tr th:only-of-type {\n",
       "        vertical-align: middle;\n",
       "    }\n",
       "\n",
       "    .dataframe tbody tr th {\n",
       "        vertical-align: top;\n",
       "    }\n",
       "\n",
       "    .dataframe thead th {\n",
       "        text-align: right;\n",
       "    }\n",
       "</style>\n",
       "<table border=\"1\" class=\"dataframe\">\n",
       "  <thead>\n",
       "    <tr style=\"text-align: right;\">\n",
       "      <th></th>\n",
       "      <th>raceId</th>\n",
       "      <th>driver</th>\n",
       "      <th>position</th>\n",
       "      <th>lap</th>\n",
       "      <th>time</th>\n",
       "    </tr>\n",
       "  </thead>\n",
       "  <tbody>\n",
       "    <tr>\n",
       "      <th>0</th>\n",
       "      <td>1110</td>\n",
       "      <td>perez</td>\n",
       "      <td>1</td>\n",
       "      <td>1</td>\n",
       "      <td>1:53.295</td>\n",
       "    </tr>\n",
       "    <tr>\n",
       "      <th>1</th>\n",
       "      <td>1110</td>\n",
       "      <td>leclerc</td>\n",
       "      <td>2</td>\n",
       "      <td>1</td>\n",
       "      <td>1:54.584</td>\n",
       "    </tr>\n",
       "    <tr>\n",
       "      <th>2</th>\n",
       "      <td>1110</td>\n",
       "      <td>hamilton</td>\n",
       "      <td>3</td>\n",
       "      <td>1</td>\n",
       "      <td>1:55.210</td>\n",
       "    </tr>\n",
       "    <tr>\n",
       "      <th>3</th>\n",
       "      <td>1110</td>\n",
       "      <td>max_verstappen</td>\n",
       "      <td>4</td>\n",
       "      <td>1</td>\n",
       "      <td>1:55.659</td>\n",
       "    </tr>\n",
       "    <tr>\n",
       "      <th>4</th>\n",
       "      <td>1110</td>\n",
       "      <td>sainz</td>\n",
       "      <td>5</td>\n",
       "      <td>1</td>\n",
       "      <td>1:57.901</td>\n",
       "    </tr>\n",
       "    <tr>\n",
       "      <th>...</th>\n",
       "      <td>...</td>\n",
       "      <td>...</td>\n",
       "      <td>...</td>\n",
       "      <td>...</td>\n",
       "      <td>...</td>\n",
       "    </tr>\n",
       "    <tr>\n",
       "      <th>810</th>\n",
       "      <td>1110</td>\n",
       "      <td>albon</td>\n",
       "      <td>14</td>\n",
       "      <td>44</td>\n",
       "      <td>1:51.451</td>\n",
       "    </tr>\n",
       "    <tr>\n",
       "      <th>811</th>\n",
       "      <td>1110</td>\n",
       "      <td>kevin_magnussen</td>\n",
       "      <td>15</td>\n",
       "      <td>44</td>\n",
       "      <td>1:53.438</td>\n",
       "    </tr>\n",
       "    <tr>\n",
       "      <th>812</th>\n",
       "      <td>1110</td>\n",
       "      <td>ricciardo</td>\n",
       "      <td>16</td>\n",
       "      <td>44</td>\n",
       "      <td>1:52.265</td>\n",
       "    </tr>\n",
       "    <tr>\n",
       "      <th>813</th>\n",
       "      <td>1110</td>\n",
       "      <td>sargeant</td>\n",
       "      <td>17</td>\n",
       "      <td>44</td>\n",
       "      <td>1:52.590</td>\n",
       "    </tr>\n",
       "    <tr>\n",
       "      <th>814</th>\n",
       "      <td>1110</td>\n",
       "      <td>hulkenberg</td>\n",
       "      <td>18</td>\n",
       "      <td>44</td>\n",
       "      <td>1:54.845</td>\n",
       "    </tr>\n",
       "  </tbody>\n",
       "</table>\n",
       "<p>815 rows × 5 columns</p>\n",
       "</div>"
      ],
      "text/plain": [
       "     raceId           driver position lap      time\n",
       "0      1110            perez        1   1  1:53.295\n",
       "1      1110          leclerc        2   1  1:54.584\n",
       "2      1110         hamilton        3   1  1:55.210\n",
       "3      1110   max_verstappen        4   1  1:55.659\n",
       "4      1110            sainz        5   1  1:57.901\n",
       "..      ...              ...      ...  ..       ...\n",
       "810    1110            albon       14  44  1:51.451\n",
       "811    1110  kevin_magnussen       15  44  1:53.438\n",
       "812    1110        ricciardo       16  44  1:52.265\n",
       "813    1110         sargeant       17  44  1:52.590\n",
       "814    1110       hulkenberg       18  44  1:54.845\n",
       "\n",
       "[815 rows x 5 columns]"
      ]
     },
     "execution_count": 4,
     "metadata": {},
     "output_type": "execute_result"
    }
   ],
   "source": [
    "laps_total=pd.DataFrame(laps_ds)\n",
    "laps_total"
   ]
  },
  {
   "cell_type": "code",
   "execution_count": 5,
   "metadata": {},
   "outputs": [],
   "source": [
    "if laps_total.empty:\n",
    "        print('No hay valores a actualizar')\n",
    "        sys.exit()        "
   ]
  },
  {
   "cell_type": "code",
   "execution_count": 6,
   "metadata": {},
   "outputs": [
    {
     "name": "stdout",
     "output_type": "stream",
     "text": [
      "<class 'pandas.core.frame.DataFrame'>\n",
      "RangeIndex: 815 entries, 0 to 814\n",
      "Data columns (total 5 columns):\n",
      " #   Column    Non-Null Count  Dtype \n",
      "---  ------    --------------  ----- \n",
      " 0   raceId    815 non-null    int64 \n",
      " 1   driver    815 non-null    object\n",
      " 2   position  815 non-null    object\n",
      " 3   lap       815 non-null    object\n",
      " 4   time      815 non-null    object\n",
      "dtypes: int64(1), object(4)\n",
      "memory usage: 32.0+ KB\n"
     ]
    }
   ],
   "source": [
    "# Todas las columnas estan como object\n",
    "laps_total.info()"
   ]
  },
  {
   "cell_type": "code",
   "execution_count": 7,
   "metadata": {},
   "outputs": [],
   "source": [
    "# Cambiamos el tipo de dato de las columnas position y lap\n",
    "laps_total['position'] = laps_total['position'].astype(int)\n",
    "laps_total['lap'] = laps_total['lap'].astype(int)"
   ]
  },
  {
   "cell_type": "code",
   "execution_count": 8,
   "metadata": {},
   "outputs": [],
   "source": [
    "# Cambiamos el tipo de dato de las columna time al formato time\n",
    "laps_total['time'] = pd.to_datetime(laps_total['time'], format='%M:%S.%f')"
   ]
  },
  {
   "cell_type": "code",
   "execution_count": 9,
   "metadata": {},
   "outputs": [],
   "source": [
    "# A partir de la columna time en formato tiempo, generamos una nueva columna que transforma este tiempo en milisegundos\n",
    "#pd.to_datetime((laps_total['time'].dt.minute*60*1000 + laps_total['time'].dt.second*1000 + laps_total['time'].dt.microsecond/1000), unit='ms')\n",
    "laps_total['milliseconds'] = (laps_total['time'].dt.minute*60*1000 + laps_total['time'].dt.second*1000 + laps_total['time'].dt.microsecond/1000).astype(int)"
   ]
  },
  {
   "cell_type": "code",
   "execution_count": 10,
   "metadata": {},
   "outputs": [
    {
     "name": "stdout",
     "output_type": "stream",
     "text": [
      "<class 'pandas.core.frame.DataFrame'>\n",
      "RangeIndex: 815 entries, 0 to 814\n",
      "Data columns (total 6 columns):\n",
      " #   Column        Non-Null Count  Dtype         \n",
      "---  ------        --------------  -----         \n",
      " 0   raceId        815 non-null    int64         \n",
      " 1   driver        815 non-null    object        \n",
      " 2   position      815 non-null    int32         \n",
      " 3   lap           815 non-null    int32         \n",
      " 4   time          815 non-null    datetime64[ns]\n",
      " 5   milliseconds  815 non-null    int32         \n",
      "dtypes: datetime64[ns](1), int32(3), int64(1), object(1)\n",
      "memory usage: 28.8+ KB\n"
     ]
    }
   ],
   "source": [
    "laps_total.info()"
   ]
  },
  {
   "cell_type": "code",
   "execution_count": 15,
   "metadata": {},
   "outputs": [
    {
     "name": "stdout",
     "output_type": "stream",
     "text": [
      "Conexión finalizada\n"
     ]
    },
    {
     "name": "stderr",
     "output_type": "stream",
     "text": [
      "C:\\Users\\maria\\AppData\\Local\\Temp\\ipykernel_36260\\368386801.py:12: UserWarning: pandas only supports SQLAlchemy connectable (engine/connection) or database string URI or sqlite3 DBAPI2 connection. Other DBAPI2 objects are not tested. Please consider using SQLAlchemy.\n",
      "  drivers = pd.read_sql(sql_query, connect)\n"
     ]
    }
   ],
   "source": [
    "#Necesitamos encontrar el driverId en vez de la columna driver. Necesitamos importar la data de drivers de SQL Server\n",
    "try:\n",
    "    connect = pyodbc.connect(\"\"\"\n",
    "        DRIVER={SQL Server};\n",
    "        SERVER=LAPTOP-5EGKJ2TF;\n",
    "        DATABASE=Formula1;\n",
    "        Trusted_Connection=yes')\n",
    "        \"\"\")\n",
    "    sql_query = 'SELECT * FROM drivers'\n",
    "    \n",
    "    #Dataset with headers\n",
    "    drivers = pd.read_sql(sql_query, connect)\n",
    "\n",
    "    cursor = connect.cursor()\n",
    "    cursor.execute(sql_query)\n",
    "    connect.commit()\n",
    "\n",
    "except Exception as ex:\n",
    "    print(ex)\n",
    "finally :\n",
    "    cursor.close()\n",
    "    connect.close()\n",
    "    print('Conexión finalizada')"
   ]
  },
  {
   "cell_type": "code",
   "execution_count": 16,
   "metadata": {},
   "outputs": [
    {
     "data": {
      "text/html": [
       "<div>\n",
       "<style scoped>\n",
       "    .dataframe tbody tr th:only-of-type {\n",
       "        vertical-align: middle;\n",
       "    }\n",
       "\n",
       "    .dataframe tbody tr th {\n",
       "        vertical-align: top;\n",
       "    }\n",
       "\n",
       "    .dataframe thead th {\n",
       "        text-align: right;\n",
       "    }\n",
       "</style>\n",
       "<table border=\"1\" class=\"dataframe\">\n",
       "  <thead>\n",
       "    <tr style=\"text-align: right;\">\n",
       "      <th></th>\n",
       "      <th>driverId</th>\n",
       "      <th>driverRef</th>\n",
       "      <th>number</th>\n",
       "      <th>code</th>\n",
       "      <th>firstName</th>\n",
       "      <th>lastName</th>\n",
       "      <th>birth</th>\n",
       "      <th>nationality</th>\n",
       "      <th>url</th>\n",
       "    </tr>\n",
       "  </thead>\n",
       "  <tbody>\n",
       "    <tr>\n",
       "      <th>854</th>\n",
       "      <td>856</td>\n",
       "      <td>de_vries</td>\n",
       "      <td>21.0</td>\n",
       "      <td>DEV</td>\n",
       "      <td>Nyck</td>\n",
       "      <td>de Vries</td>\n",
       "      <td>1995-02-06</td>\n",
       "      <td>Dutch</td>\n",
       "      <td>http://en.wikipedia.org/wiki/Nyck_de_Vries</td>\n",
       "    </tr>\n",
       "    <tr>\n",
       "      <th>855</th>\n",
       "      <td>857</td>\n",
       "      <td>piastri</td>\n",
       "      <td>81.0</td>\n",
       "      <td>PIA</td>\n",
       "      <td>Oscar</td>\n",
       "      <td>Piastri</td>\n",
       "      <td>2001-04-06</td>\n",
       "      <td>Australian</td>\n",
       "      <td>http://en.wikipedia.org/wiki/Oscar_Piastri</td>\n",
       "    </tr>\n",
       "    <tr>\n",
       "      <th>856</th>\n",
       "      <td>858</td>\n",
       "      <td>sargeant</td>\n",
       "      <td>2.0</td>\n",
       "      <td>SAR</td>\n",
       "      <td>Logan</td>\n",
       "      <td>Sargeant</td>\n",
       "      <td>2000-12-31</td>\n",
       "      <td>American</td>\n",
       "      <td>http://en.wikipedia.org/wiki/Logan_Sargeant</td>\n",
       "    </tr>\n",
       "  </tbody>\n",
       "</table>\n",
       "</div>"
      ],
      "text/plain": [
       "     driverId driverRef  number code firstName  lastName       birth  \\\n",
       "854       856  de_vries    21.0  DEV      Nyck  de Vries  1995-02-06   \n",
       "855       857   piastri    81.0  PIA     Oscar   Piastri  2001-04-06   \n",
       "856       858  sargeant     2.0  SAR     Logan  Sargeant  2000-12-31   \n",
       "\n",
       "    nationality                                          url  \n",
       "854       Dutch   http://en.wikipedia.org/wiki/Nyck_de_Vries  \n",
       "855  Australian   http://en.wikipedia.org/wiki/Oscar_Piastri  \n",
       "856    American  http://en.wikipedia.org/wiki/Logan_Sargeant  "
      ]
     },
     "execution_count": 16,
     "metadata": {},
     "output_type": "execute_result"
    }
   ],
   "source": [
    "drivers.tail(3)"
   ]
  },
  {
   "cell_type": "code",
   "execution_count": 17,
   "metadata": {},
   "outputs": [
    {
     "data": {
      "text/plain": [
       "driverRef\n",
       "Cannoc       1\n",
       "naspetti     1\n",
       "nasr         1\n",
       "natili       1\n",
       "naylor       1\n",
       "            ..\n",
       "gasly        1\n",
       "gavin        1\n",
       "gaze         1\n",
       "gendebien    1\n",
       "zunino       1\n",
       "Name: driverId, Length: 857, dtype: int64"
      ]
     },
     "execution_count": 17,
     "metadata": {},
     "output_type": "execute_result"
    }
   ],
   "source": [
    "drivers.groupby('driverRef')['driverId'].count().sort_values() #No hay DriverRef repetidos :)"
   ]
  },
  {
   "cell_type": "code",
   "execution_count": 18,
   "metadata": {},
   "outputs": [],
   "source": [
    "laps_total = laps_total.merge(drivers[['driverRef', 'driverId']], left_on='driver', right_on='driverRef', how='left')"
   ]
  },
  {
   "cell_type": "code",
   "execution_count": 19,
   "metadata": {},
   "outputs": [
    {
     "data": {
      "text/html": [
       "<div>\n",
       "<style scoped>\n",
       "    .dataframe tbody tr th:only-of-type {\n",
       "        vertical-align: middle;\n",
       "    }\n",
       "\n",
       "    .dataframe tbody tr th {\n",
       "        vertical-align: top;\n",
       "    }\n",
       "\n",
       "    .dataframe thead th {\n",
       "        text-align: right;\n",
       "    }\n",
       "</style>\n",
       "<table border=\"1\" class=\"dataframe\">\n",
       "  <thead>\n",
       "    <tr style=\"text-align: right;\">\n",
       "      <th></th>\n",
       "      <th>raceId</th>\n",
       "      <th>driverId</th>\n",
       "      <th>lap</th>\n",
       "      <th>position</th>\n",
       "      <th>time</th>\n",
       "      <th>milliseconds</th>\n",
       "    </tr>\n",
       "  </thead>\n",
       "  <tbody>\n",
       "    <tr>\n",
       "      <th>0</th>\n",
       "      <td>1110</td>\n",
       "      <td>815</td>\n",
       "      <td>1</td>\n",
       "      <td>1</td>\n",
       "      <td>1900-01-01 00:01:53.295</td>\n",
       "      <td>113295</td>\n",
       "    </tr>\n",
       "    <tr>\n",
       "      <th>1</th>\n",
       "      <td>1110</td>\n",
       "      <td>844</td>\n",
       "      <td>1</td>\n",
       "      <td>2</td>\n",
       "      <td>1900-01-01 00:01:54.584</td>\n",
       "      <td>114584</td>\n",
       "    </tr>\n",
       "    <tr>\n",
       "      <th>2</th>\n",
       "      <td>1110</td>\n",
       "      <td>1</td>\n",
       "      <td>1</td>\n",
       "      <td>3</td>\n",
       "      <td>1900-01-01 00:01:55.210</td>\n",
       "      <td>115210</td>\n",
       "    </tr>\n",
       "  </tbody>\n",
       "</table>\n",
       "</div>"
      ],
      "text/plain": [
       "   raceId  driverId  lap  position                    time  milliseconds\n",
       "0    1110       815    1         1 1900-01-01 00:01:53.295        113295\n",
       "1    1110       844    1         2 1900-01-01 00:01:54.584        114584\n",
       "2    1110         1    1         3 1900-01-01 00:01:55.210        115210"
      ]
     },
     "execution_count": 19,
     "metadata": {},
     "output_type": "execute_result"
    }
   ],
   "source": [
    "laps_total = laps_total[['raceId', 'driverId', 'lap', 'position', 'time', 'milliseconds']]\n",
    "laps_total.head(3)"
   ]
  },
  {
   "cell_type": "code",
   "execution_count": 20,
   "metadata": {},
   "outputs": [],
   "source": [
    "laps_total.columns = ['raceId', 'driverId', 'lap', 'racePosition', 'lapTime', 'milliseconds']"
   ]
  },
  {
   "cell_type": "code",
   "execution_count": 21,
   "metadata": {},
   "outputs": [
    {
     "data": {
      "text/html": [
       "<div>\n",
       "<style scoped>\n",
       "    .dataframe tbody tr th:only-of-type {\n",
       "        vertical-align: middle;\n",
       "    }\n",
       "\n",
       "    .dataframe tbody tr th {\n",
       "        vertical-align: top;\n",
       "    }\n",
       "\n",
       "    .dataframe thead th {\n",
       "        text-align: right;\n",
       "    }\n",
       "</style>\n",
       "<table border=\"1\" class=\"dataframe\">\n",
       "  <thead>\n",
       "    <tr style=\"text-align: right;\">\n",
       "      <th></th>\n",
       "      <th>raceId</th>\n",
       "      <th>driverId</th>\n",
       "      <th>lap</th>\n",
       "      <th>racePosition</th>\n",
       "      <th>lapTime</th>\n",
       "      <th>milliseconds</th>\n",
       "    </tr>\n",
       "  </thead>\n",
       "  <tbody>\n",
       "    <tr>\n",
       "      <th>0</th>\n",
       "      <td>1110</td>\n",
       "      <td>815</td>\n",
       "      <td>1</td>\n",
       "      <td>1</td>\n",
       "      <td>1900-01-01 00:01:53.295</td>\n",
       "      <td>113295</td>\n",
       "    </tr>\n",
       "    <tr>\n",
       "      <th>1</th>\n",
       "      <td>1110</td>\n",
       "      <td>844</td>\n",
       "      <td>1</td>\n",
       "      <td>2</td>\n",
       "      <td>1900-01-01 00:01:54.584</td>\n",
       "      <td>114584</td>\n",
       "    </tr>\n",
       "    <tr>\n",
       "      <th>2</th>\n",
       "      <td>1110</td>\n",
       "      <td>1</td>\n",
       "      <td>1</td>\n",
       "      <td>3</td>\n",
       "      <td>1900-01-01 00:01:55.210</td>\n",
       "      <td>115210</td>\n",
       "    </tr>\n",
       "  </tbody>\n",
       "</table>\n",
       "</div>"
      ],
      "text/plain": [
       "   raceId  driverId  lap  racePosition                 lapTime  milliseconds\n",
       "0    1110       815    1             1 1900-01-01 00:01:53.295        113295\n",
       "1    1110       844    1             2 1900-01-01 00:01:54.584        114584\n",
       "2    1110         1    1             3 1900-01-01 00:01:55.210        115210"
      ]
     },
     "execution_count": 21,
     "metadata": {},
     "output_type": "execute_result"
    }
   ],
   "source": [
    "laps_total.head(3)"
   ]
  },
  {
   "cell_type": "code",
   "execution_count": 22,
   "metadata": {},
   "outputs": [
    {
     "name": "stdout",
     "output_type": "stream",
     "text": [
      "Conexión finalizada\n"
     ]
    }
   ],
   "source": [
    "#Ahora intentaremos cargar la informacion en la tabla staging laps_total en SQL Server\n",
    "try:\n",
    "    server='LAPTOP-5EGKJ2TF'\n",
    "    database='Formula1'\n",
    "    username='LAPTOP-5EGKJ2TF\\maria'\n",
    "    \n",
    "    alchemyEngine = create_engine(f'mssql+pyodbc://{username}@{server}/{database}?trusted_connection=yes&driver=ODBC+Driver+17+for+SQL+Server')            \n",
    "    \n",
    "    laps_total.to_sql('laps_total', alchemyEngine, if_exists='append', index=False, chunksize=1000)\n",
    "    \n",
    "except Exception as ex:\n",
    "    print(ex)\n",
    "finally :\n",
    "    print('Conexión finalizada')"
   ]
  },
  {
   "cell_type": "code",
   "execution_count": 23,
   "metadata": {},
   "outputs": [
    {
     "name": "stdout",
     "output_type": "stream",
     "text": [
      "Conexión finalizada\n"
     ]
    }
   ],
   "source": [
    "# Usar tabla staging laps_total, para actualizar nuestra tabla en produccion lapTimes en SQL Server\n",
    "try:\n",
    "    connect = pyodbc.connect(\"\"\"\n",
    "                                DRIVER={SQL Server};\n",
    "                                SERVER=LAPTOP-5EGKJ2TF;\n",
    "                                DATABASE=Formula1;\n",
    "                                Trusted_Connection=yes')\n",
    "                            \"\"\")\n",
    "\n",
    "    sql_query = '''\n",
    "                    MERGE lapTimes AS target\n",
    "                    USING laps_total AS source\n",
    "                    ON target.raceId = source.raceId AND target.driverId = source.driverId AND target.lap = source.lap\n",
    "                    WHEN NOT MATCHED BY target THEN\n",
    "                    --<accion cuando no coinciden por destino>\n",
    "                        INSERT (\n",
    "                            raceId,\n",
    "                            driverId,\n",
    "                            lap,\n",
    "                            racePosition,\n",
    "                            lapTime,\n",
    "                            milliseconds\n",
    "                        )\n",
    "                        VALUES (\n",
    "                            source.raceId,\n",
    "                            source.driverId,\n",
    "                            source.lap,\n",
    "                            source.racePosition,\n",
    "                            source.lapTime,\n",
    "                            source.milliseconds\n",
    "                        ); -- END MERGE\n",
    "                    \n",
    "                    DROP TABLE laps_total\n",
    "                '''  \n",
    "    \n",
    "    cursor = connect.cursor()\n",
    "    cursor.execute(sql_query)\n",
    "    connect.commit()\n",
    "    \n",
    "except Exception as ex:\n",
    "    print(ex)\n",
    "finally :\n",
    "    cursor.close()\n",
    "    connect.close()\n",
    "    print('Conexión finalizada')"
   ]
  }
 ],
 "metadata": {
  "kernelspec": {
   "display_name": "Python 3",
   "language": "python",
   "name": "python3"
  },
  "language_info": {
   "codemirror_mode": {
    "name": "ipython",
    "version": 3
   },
   "file_extension": ".py",
   "mimetype": "text/x-python",
   "name": "python",
   "nbconvert_exporter": "python",
   "pygments_lexer": "ipython3",
   "version": "3.11.2"
  }
 },
 "nbformat": 4,
 "nbformat_minor": 2
}
