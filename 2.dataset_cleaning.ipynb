{
 "cells": [
  {
   "cell_type": "code",
   "execution_count": 1,
   "metadata": {},
   "outputs": [],
   "source": [
    "import os\n",
    "import pandas as pd\n",
    "import numpy as np\n",
    "import matplotlib.pyplot as plt\n",
    "import seaborn as sns\n",
    "from sklearn.preprocessing import LabelEncoder,MinMaxScaler"
   ]
  },
  {
   "cell_type": "code",
   "execution_count": 2,
   "metadata": {},
   "outputs": [],
   "source": [
    "CWD = os.getcwd()\n",
    "os.path.join(CWD, \"data\")\n",
    "DATA_PATH = os.path.join(CWD, \"data\")"
   ]
  },
  {
   "attachments": {},
   "cell_type": "markdown",
   "metadata": {},
   "source": [
    "#   1. daily_calendar Dataset"
   ]
  },
  {
   "cell_type": "code",
   "execution_count": 3,
   "metadata": {},
   "outputs": [],
   "source": [
    "try:\n",
    "    # Carga el archivo Excel en un objeto DataFrame\n",
    "    daily_calendar_with_events = pd.read_csv(os.path.join(DATA_PATH, 'daily_calendar_with_events.csv'), sep=',')\n",
    "except Exception as ex: \n",
    "    print(ex)"
   ]
  },
  {
   "cell_type": "code",
   "execution_count": 5,
   "metadata": {},
   "outputs": [
    {
     "name": "stdout",
     "output_type": "stream",
     "text": [
      "<class 'pandas.core.frame.DataFrame'>\n",
      "RangeIndex: 1913 entries, 0 to 1912\n",
      "Data columns (total 5 columns):\n",
      " #   Column       Non-Null Count  Dtype \n",
      "---  ------       --------------  ----- \n",
      " 0   date         1913 non-null   object\n",
      " 1   weekday      1913 non-null   object\n",
      " 2   weekday_int  1913 non-null   int64 \n",
      " 3   d            1913 non-null   object\n",
      " 4   event        26 non-null     object\n",
      "dtypes: int64(1), object(4)\n",
      "memory usage: 74.9+ KB\n"
     ]
    }
   ],
   "source": [
    "daily_calendar_with_events.info()"
   ]
  },
  {
   "cell_type": "code",
   "execution_count": 6,
   "metadata": {},
   "outputs": [
    {
     "name": "stdout",
     "output_type": "stream",
     "text": [
      "<class 'pandas.core.frame.DataFrame'>\n",
      "RangeIndex: 1913 entries, 0 to 1912\n",
      "Data columns (total 5 columns):\n",
      " #   Column       Non-Null Count  Dtype         \n",
      "---  ------       --------------  -----         \n",
      " 0   date         1913 non-null   datetime64[ns]\n",
      " 1   weekday      1913 non-null   object        \n",
      " 2   weekday_int  1913 non-null   int64         \n",
      " 3   d            1913 non-null   object        \n",
      " 4   event        26 non-null     object        \n",
      "dtypes: datetime64[ns](1), int64(1), object(3)\n",
      "memory usage: 74.9+ KB\n"
     ]
    }
   ],
   "source": [
    "daily_calendar_with_events['date'] = pd.to_datetime(daily_calendar_with_events['date'])\n",
    "#daily_calendar_with_events['date'] = pd.to_datetime(daily_calendar_with_events['date']).dt.strftime('%Y-%m-%d')\n",
    "daily_calendar_with_events.info()"
   ]
  },
  {
   "cell_type": "code",
   "execution_count": 5,
   "metadata": {},
   "outputs": [],
   "source": [
    "#daily_calendar_with_events.to_pickle(datapath + 'daily_calendar.p')\n",
    "#daily_calendar_with_events.to_csv(datapath + 'daily_calendar.csv', sep=';')"
   ]
  },
  {
   "attachments": {},
   "cell_type": "markdown",
   "metadata": {},
   "source": [
    "#   1.1 Analyse daily_calendar Dataset"
   ]
  },
  {
   "cell_type": "code",
   "execution_count": 7,
   "metadata": {},
   "outputs": [
    {
     "name": "stdout",
     "output_type": "stream",
     "text": [
      "<class 'pandas.core.frame.DataFrame'>\n",
      "RangeIndex: 1913 entries, 0 to 1912\n",
      "Data columns (total 8 columns):\n",
      " #   Column       Non-Null Count  Dtype         \n",
      "---  ------       --------------  -----         \n",
      " 0   date         1913 non-null   datetime64[ns]\n",
      " 1   weekday      1913 non-null   object        \n",
      " 2   weekday_int  1913 non-null   int64         \n",
      " 3   d            1913 non-null   object        \n",
      " 4   event        26 non-null     object        \n",
      " 5   year         1913 non-null   object        \n",
      " 6   week         1913 non-null   object        \n",
      " 7   yearweek     1913 non-null   object        \n",
      "dtypes: datetime64[ns](1), int64(1), object(6)\n",
      "memory usage: 119.7+ KB\n"
     ]
    }
   ],
   "source": [
    "#Necesitamos que la tabla item_sales tenga los valores de 'yearweek' . Vamos a agregar esta variable a daily_calendar, de tal forma que solo necesitemos mergear las tablas despues.\n",
    "daily_calendar_with_events['year'] = daily_calendar_with_events['date'].dt.strftime('%Y')\n",
    "daily_calendar_with_events['week'] = daily_calendar_with_events['date'].dt.strftime('%W')\n",
    "daily_calendar_with_events['yearweek'] = daily_calendar_with_events['year'] + daily_calendar_with_events['week']\n",
    "daily_calendar_with_events.info()"
   ]
  },
  {
   "cell_type": "code",
   "execution_count": 8,
   "metadata": {},
   "outputs": [
    {
     "name": "stdout",
     "output_type": "stream",
     "text": [
      "<class 'pandas.core.frame.DataFrame'>\n",
      "RangeIndex: 1913 entries, 0 to 1912\n",
      "Data columns (total 8 columns):\n",
      " #   Column       Non-Null Count  Dtype         \n",
      "---  ------       --------------  -----         \n",
      " 0   date         1913 non-null   datetime64[ns]\n",
      " 1   weekday      1913 non-null   object        \n",
      " 2   weekday_int  1913 non-null   int64         \n",
      " 3   d            1913 non-null   object        \n",
      " 4   event        26 non-null     object        \n",
      " 5   year         1913 non-null   object        \n",
      " 6   week         1913 non-null   object        \n",
      " 7   yearweek     1913 non-null   int64         \n",
      "dtypes: datetime64[ns](1), int64(2), object(5)\n",
      "memory usage: 119.7+ KB\n"
     ]
    }
   ],
   "source": [
    "daily_calendar_with_events['yearweek'] = daily_calendar_with_events['yearweek'].astype('int64')\n",
    "daily_calendar_with_events.info()"
   ]
  },
  {
   "cell_type": "code",
   "execution_count": 9,
   "metadata": {},
   "outputs": [],
   "source": [
    "del(daily_calendar_with_events['year'])\n",
    "del(daily_calendar_with_events['week'])"
   ]
  },
  {
   "cell_type": "code",
   "execution_count": 10,
   "metadata": {},
   "outputs": [
    {
     "name": "stdout",
     "output_type": "stream",
     "text": [
      "Saturday     274\n",
      "Sunday       274\n",
      "Monday       273\n",
      "Tuesday      273\n",
      "Wednesday    273\n",
      "Thursday     273\n",
      "Friday       273\n",
      "Name: weekday, dtype: int64\n",
      "1    274\n",
      "2    274\n",
      "3    273\n",
      "4    273\n",
      "5    273\n",
      "6    273\n",
      "7    273\n",
      "Name: weekday_int, dtype: int64\n",
      "SuperBowl         6\n",
      "Ramadan starts    5\n",
      "Thanksgiving      5\n",
      "NewYear           5\n",
      "Easter            5\n",
      "Name: event, dtype: int64\n",
      "201336    7\n",
      "201426    7\n",
      "201432    7\n",
      "201431    7\n",
      "201430    7\n",
      "         ..\n",
      "201600    3\n",
      "201352    2\n",
      "201104    2\n",
      "201200    1\n",
      "201253    1\n",
      "Name: yearweek, Length: 279, dtype: int64\n"
     ]
    }
   ],
   "source": [
    "for i in ['weekday', 'weekday_int', 'event', 'yearweek'] :\n",
    "    print(daily_calendar_with_events[i].value_counts())"
   ]
  },
  {
   "cell_type": "code",
   "execution_count": 11,
   "metadata": {},
   "outputs": [
    {
     "data": {
      "text/html": [
       "<div>\n",
       "<style scoped>\n",
       "    .dataframe tbody tr th:only-of-type {\n",
       "        vertical-align: middle;\n",
       "    }\n",
       "\n",
       "    .dataframe tbody tr th {\n",
       "        vertical-align: top;\n",
       "    }\n",
       "\n",
       "    .dataframe thead th {\n",
       "        text-align: right;\n",
       "    }\n",
       "</style>\n",
       "<table border=\"1\" class=\"dataframe\">\n",
       "  <thead>\n",
       "    <tr style=\"text-align: right;\">\n",
       "      <th></th>\n",
       "      <th>date</th>\n",
       "      <th>weekday</th>\n",
       "      <th>weekday_int</th>\n",
       "      <th>d</th>\n",
       "      <th>event</th>\n",
       "      <th>yearweek</th>\n",
       "    </tr>\n",
       "  </thead>\n",
       "  <tbody>\n",
       "    <tr>\n",
       "      <th>0</th>\n",
       "      <td>2011-01-29</td>\n",
       "      <td>Saturday</td>\n",
       "      <td>1</td>\n",
       "      <td>d_1</td>\n",
       "      <td>NaN</td>\n",
       "      <td>201104</td>\n",
       "    </tr>\n",
       "    <tr>\n",
       "      <th>1</th>\n",
       "      <td>2011-01-30</td>\n",
       "      <td>Sunday</td>\n",
       "      <td>2</td>\n",
       "      <td>d_2</td>\n",
       "      <td>NaN</td>\n",
       "      <td>201104</td>\n",
       "    </tr>\n",
       "    <tr>\n",
       "      <th>2</th>\n",
       "      <td>2011-01-31</td>\n",
       "      <td>Monday</td>\n",
       "      <td>3</td>\n",
       "      <td>d_3</td>\n",
       "      <td>NaN</td>\n",
       "      <td>201105</td>\n",
       "    </tr>\n",
       "    <tr>\n",
       "      <th>3</th>\n",
       "      <td>2011-02-01</td>\n",
       "      <td>Tuesday</td>\n",
       "      <td>4</td>\n",
       "      <td>d_4</td>\n",
       "      <td>NaN</td>\n",
       "      <td>201105</td>\n",
       "    </tr>\n",
       "    <tr>\n",
       "      <th>4</th>\n",
       "      <td>2011-02-02</td>\n",
       "      <td>Wednesday</td>\n",
       "      <td>5</td>\n",
       "      <td>d_5</td>\n",
       "      <td>NaN</td>\n",
       "      <td>201105</td>\n",
       "    </tr>\n",
       "  </tbody>\n",
       "</table>\n",
       "</div>"
      ],
      "text/plain": [
       "        date    weekday  weekday_int    d event  yearweek\n",
       "0 2011-01-29   Saturday            1  d_1   NaN    201104\n",
       "1 2011-01-30     Sunday            2  d_2   NaN    201104\n",
       "2 2011-01-31     Monday            3  d_3   NaN    201105\n",
       "3 2011-02-01    Tuesday            4  d_4   NaN    201105\n",
       "4 2011-02-02  Wednesday            5  d_5   NaN    201105"
      ]
     },
     "execution_count": 11,
     "metadata": {},
     "output_type": "execute_result"
    }
   ],
   "source": [
    "daily_calendar_with_events.head()"
   ]
  },
  {
   "attachments": {},
   "cell_type": "markdown",
   "metadata": {},
   "source": [
    "#   2. Item_Prices Dataset"
   ]
  },
  {
   "cell_type": "code",
   "execution_count": 12,
   "metadata": {},
   "outputs": [],
   "source": [
    "try:\n",
    "    # Carga el archivo Excel en un objeto DataFrame\n",
    "    item_prices = pd.read_csv(os.path.join(DATA_PATH, 'item_prices.csv'), sep=',')\n",
    "except Exception as ex: \n",
    "    print(ex)"
   ]
  },
  {
   "cell_type": "code",
   "execution_count": 13,
   "metadata": {},
   "outputs": [
    {
     "name": "stdout",
     "output_type": "stream",
     "text": [
      "<class 'pandas.core.frame.DataFrame'>\n",
      "RangeIndex: 11038 entries, 0 to 11037\n",
      "Data columns (total 5 columns):\n",
      " #   Column      Non-Null Count  Dtype  \n",
      "---  ------      --------------  -----  \n",
      " 0   item        11038 non-null  object \n",
      " 1   category    11038 non-null  object \n",
      " 2   store_code  11038 non-null  object \n",
      " 3   yearweek    10925 non-null  float64\n",
      " 4   sell_price  11038 non-null  float64\n",
      "dtypes: float64(2), object(3)\n",
      "memory usage: 431.3+ KB\n"
     ]
    }
   ],
   "source": [
    "item_prices.info()"
   ]
  },
  {
   "attachments": {},
   "cell_type": "markdown",
   "metadata": {},
   "source": [
    "#   2.1 Analyse item_prices Dataset"
   ]
  },
  {
   "cell_type": "code",
   "execution_count": 14,
   "metadata": {},
   "outputs": [
    {
     "data": {
      "text/plain": [
       "item            0\n",
       "category        0\n",
       "store_code      0\n",
       "yearweek      113\n",
       "sell_price      0\n",
       "dtype: int64"
      ]
     },
     "execution_count": 14,
     "metadata": {},
     "output_type": "execute_result"
    }
   ],
   "source": [
    "item_prices.isna().sum()"
   ]
  },
  {
   "cell_type": "code",
   "execution_count": 15,
   "metadata": {},
   "outputs": [
    {
     "data": {
      "text/plain": [
       "Index(['item', 'category', 'store_code', 'yearweek', 'sell_price'], dtype='object')"
      ]
     },
     "execution_count": 15,
     "metadata": {},
     "output_type": "execute_result"
    }
   ],
   "source": [
    "item_prices.columns"
   ]
  },
  {
   "cell_type": "code",
   "execution_count": 16,
   "metadata": {},
   "outputs": [],
   "source": [
    "#Creo que debemos agregar la columna department(subgroup_category) a item_prices\n",
    "#item_prices['department'] = item_prices['item'].str.slice(stop=-4)\n",
    "item_prices['department'] = item_prices['item'].apply(lambda x: '_'.join(x.split('_')[:2]))\n",
    "#item_prices['category'] = item_prices['item'].apply(lambda x: '_'.join(x.split('_')[:1]))"
   ]
  },
  {
   "cell_type": "code",
   "execution_count": 17,
   "metadata": {},
   "outputs": [
    {
     "data": {
      "text/html": [
       "<div>\n",
       "<style scoped>\n",
       "    .dataframe tbody tr th:only-of-type {\n",
       "        vertical-align: middle;\n",
       "    }\n",
       "\n",
       "    .dataframe tbody tr th {\n",
       "        vertical-align: top;\n",
       "    }\n",
       "\n",
       "    .dataframe thead th {\n",
       "        text-align: right;\n",
       "    }\n",
       "</style>\n",
       "<table border=\"1\" class=\"dataframe\">\n",
       "  <thead>\n",
       "    <tr style=\"text-align: right;\">\n",
       "      <th></th>\n",
       "      <th>item</th>\n",
       "      <th>category</th>\n",
       "      <th>store_code</th>\n",
       "      <th>yearweek</th>\n",
       "      <th>sell_price</th>\n",
       "      <th>department</th>\n",
       "    </tr>\n",
       "  </thead>\n",
       "  <tbody>\n",
       "    <tr>\n",
       "      <th>0</th>\n",
       "      <td>ACCESORIES_1_001</td>\n",
       "      <td>ACCESORIES</td>\n",
       "      <td>NYC_1</td>\n",
       "      <td>201328.0</td>\n",
       "      <td>12.7414</td>\n",
       "      <td>ACCESORIES_1</td>\n",
       "    </tr>\n",
       "    <tr>\n",
       "      <th>1</th>\n",
       "      <td>ACCESORIES_1_001</td>\n",
       "      <td>ACCESORIES</td>\n",
       "      <td>NYC_1</td>\n",
       "      <td>201330.0</td>\n",
       "      <td>10.9858</td>\n",
       "      <td>ACCESORIES_1</td>\n",
       "    </tr>\n",
       "    <tr>\n",
       "      <th>2</th>\n",
       "      <td>ACCESORIES_1_001</td>\n",
       "      <td>ACCESORIES</td>\n",
       "      <td>NYC_1</td>\n",
       "      <td>201615.0</td>\n",
       "      <td>11.1454</td>\n",
       "      <td>ACCESORIES_1</td>\n",
       "    </tr>\n",
       "    <tr>\n",
       "      <th>3</th>\n",
       "      <td>ACCESORIES_1_002</td>\n",
       "      <td>ACCESORIES</td>\n",
       "      <td>NYC_1</td>\n",
       "      <td>201125.0</td>\n",
       "      <td>5.2801</td>\n",
       "      <td>ACCESORIES_1</td>\n",
       "    </tr>\n",
       "    <tr>\n",
       "      <th>4</th>\n",
       "      <td>ACCESORIES_1_003</td>\n",
       "      <td>ACCESORIES</td>\n",
       "      <td>NYC_1</td>\n",
       "      <td>201405.0</td>\n",
       "      <td>3.9501</td>\n",
       "      <td>ACCESORIES_1</td>\n",
       "    </tr>\n",
       "  </tbody>\n",
       "</table>\n",
       "</div>"
      ],
      "text/plain": [
       "               item    category store_code  yearweek  sell_price    department\n",
       "0  ACCESORIES_1_001  ACCESORIES      NYC_1  201328.0     12.7414  ACCESORIES_1\n",
       "1  ACCESORIES_1_001  ACCESORIES      NYC_1  201330.0     10.9858  ACCESORIES_1\n",
       "2  ACCESORIES_1_001  ACCESORIES      NYC_1  201615.0     11.1454  ACCESORIES_1\n",
       "3  ACCESORIES_1_002  ACCESORIES      NYC_1  201125.0      5.2801  ACCESORIES_1\n",
       "4  ACCESORIES_1_003  ACCESORIES      NYC_1  201405.0      3.9501  ACCESORIES_1"
      ]
     },
     "execution_count": 17,
     "metadata": {},
     "output_type": "execute_result"
    }
   ],
   "source": [
    "item_prices.head()"
   ]
  },
  {
   "cell_type": "code",
   "execution_count": 18,
   "metadata": {},
   "outputs": [
    {
     "data": {
      "text/html": [
       "<div>\n",
       "<style scoped>\n",
       "    .dataframe tbody tr th:only-of-type {\n",
       "        vertical-align: middle;\n",
       "    }\n",
       "\n",
       "    .dataframe tbody tr th {\n",
       "        vertical-align: top;\n",
       "    }\n",
       "\n",
       "    .dataframe thead th {\n",
       "        text-align: right;\n",
       "    }\n",
       "</style>\n",
       "<table border=\"1\" class=\"dataframe\">\n",
       "  <thead>\n",
       "    <tr style=\"text-align: right;\">\n",
       "      <th></th>\n",
       "      <th>item</th>\n",
       "      <th>department</th>\n",
       "      <th>category</th>\n",
       "      <th>store_code</th>\n",
       "      <th>yearweek</th>\n",
       "      <th>sell_price</th>\n",
       "    </tr>\n",
       "  </thead>\n",
       "  <tbody>\n",
       "    <tr>\n",
       "      <th>0</th>\n",
       "      <td>ACCESORIES_1_001</td>\n",
       "      <td>ACCESORIES_1</td>\n",
       "      <td>ACCESORIES</td>\n",
       "      <td>NYC_1</td>\n",
       "      <td>201328.0</td>\n",
       "      <td>12.7414</td>\n",
       "    </tr>\n",
       "    <tr>\n",
       "      <th>1</th>\n",
       "      <td>ACCESORIES_1_001</td>\n",
       "      <td>ACCESORIES_1</td>\n",
       "      <td>ACCESORIES</td>\n",
       "      <td>NYC_1</td>\n",
       "      <td>201330.0</td>\n",
       "      <td>10.9858</td>\n",
       "    </tr>\n",
       "    <tr>\n",
       "      <th>2</th>\n",
       "      <td>ACCESORIES_1_001</td>\n",
       "      <td>ACCESORIES_1</td>\n",
       "      <td>ACCESORIES</td>\n",
       "      <td>NYC_1</td>\n",
       "      <td>201615.0</td>\n",
       "      <td>11.1454</td>\n",
       "    </tr>\n",
       "    <tr>\n",
       "      <th>3</th>\n",
       "      <td>ACCESORIES_1_002</td>\n",
       "      <td>ACCESORIES_1</td>\n",
       "      <td>ACCESORIES</td>\n",
       "      <td>NYC_1</td>\n",
       "      <td>201125.0</td>\n",
       "      <td>5.2801</td>\n",
       "    </tr>\n",
       "    <tr>\n",
       "      <th>4</th>\n",
       "      <td>ACCESORIES_1_003</td>\n",
       "      <td>ACCESORIES_1</td>\n",
       "      <td>ACCESORIES</td>\n",
       "      <td>NYC_1</td>\n",
       "      <td>201405.0</td>\n",
       "      <td>3.9501</td>\n",
       "    </tr>\n",
       "  </tbody>\n",
       "</table>\n",
       "</div>"
      ],
      "text/plain": [
       "               item    department    category store_code  yearweek  sell_price\n",
       "0  ACCESORIES_1_001  ACCESORIES_1  ACCESORIES      NYC_1  201328.0     12.7414\n",
       "1  ACCESORIES_1_001  ACCESORIES_1  ACCESORIES      NYC_1  201330.0     10.9858\n",
       "2  ACCESORIES_1_001  ACCESORIES_1  ACCESORIES      NYC_1  201615.0     11.1454\n",
       "3  ACCESORIES_1_002  ACCESORIES_1  ACCESORIES      NYC_1  201125.0      5.2801\n",
       "4  ACCESORIES_1_003  ACCESORIES_1  ACCESORIES      NYC_1  201405.0      3.9501"
      ]
     },
     "execution_count": 18,
     "metadata": {},
     "output_type": "execute_result"
    }
   ],
   "source": [
    "item_prices_order_of_columns = [\n",
    "    'item', \n",
    "    'department',\n",
    "    'category', \n",
    "    'store_code', \n",
    "    'yearweek', \n",
    "    'sell_price', \n",
    "]\n",
    "\n",
    "item_prices = item_prices[item_prices_order_of_columns]\n",
    "item_prices.head()"
   ]
  },
  {
   "cell_type": "code",
   "execution_count": 18,
   "metadata": {},
   "outputs": [],
   "source": [
    "#item_prices.to_pickle(datapath + 'item_prices.p')\n",
    "#daily_calendar_with_events.to_csv(datapath + 'daily_calendar.csv', sep=';')"
   ]
  },
  {
   "attachments": {},
   "cell_type": "markdown",
   "metadata": {},
   "source": [
    "#   3. item_sales Dataset"
   ]
  },
  {
   "cell_type": "code",
   "execution_count": 19,
   "metadata": {},
   "outputs": [],
   "source": [
    "try:\n",
    "    # Carga el archivo Excel en un objeto DataFrame\n",
    "    item_sales = pd.read_csv(os.path.join(DATA_PATH, 'item_sales.csv'), sep=',')\n",
    "except Exception as ex: \n",
    "    print(ex)"
   ]
  },
  {
   "cell_type": "code",
   "execution_count": 20,
   "metadata": {},
   "outputs": [],
   "source": [
    "item_sales_melted = pd.melt(item_sales, id_vars=['id', 'item', 'category', 'department', 'store', 'store_code', 'region'],var_name='d', value_name='quantity')"
   ]
  },
  {
   "cell_type": "code",
   "execution_count": 21,
   "metadata": {},
   "outputs": [
    {
     "name": "stdout",
     "output_type": "stream",
     "text": [
      "<class 'pandas.core.frame.DataFrame'>\n",
      "RangeIndex: 1287449 entries, 0 to 1287448\n",
      "Data columns (total 9 columns):\n",
      " #   Column      Non-Null Count    Dtype \n",
      "---  ------      --------------    ----- \n",
      " 0   id          1287449 non-null  object\n",
      " 1   item        1287449 non-null  object\n",
      " 2   category    1287449 non-null  object\n",
      " 3   department  1287449 non-null  object\n",
      " 4   store       1287449 non-null  object\n",
      " 5   store_code  1287449 non-null  object\n",
      " 6   region      1287449 non-null  object\n",
      " 7   d           1287449 non-null  object\n",
      " 8   quantity    1287449 non-null  int64 \n",
      "dtypes: int64(1), object(8)\n",
      "memory usage: 88.4+ MB\n"
     ]
    }
   ],
   "source": [
    "item_sales_melted.info()"
   ]
  },
  {
   "cell_type": "code",
   "execution_count": 22,
   "metadata": {},
   "outputs": [],
   "source": [
    "item_sales = item_sales_melted[item_sales_melted['quantity'] > 0]"
   ]
  },
  {
   "cell_type": "code",
   "execution_count": 23,
   "metadata": {},
   "outputs": [],
   "source": [
    "del(item_sales_melted)"
   ]
  },
  {
   "cell_type": "code",
   "execution_count": 24,
   "metadata": {},
   "outputs": [
    {
     "data": {
      "text/html": [
       "<div>\n",
       "<style scoped>\n",
       "    .dataframe tbody tr th:only-of-type {\n",
       "        vertical-align: middle;\n",
       "    }\n",
       "\n",
       "    .dataframe tbody tr th {\n",
       "        vertical-align: top;\n",
       "    }\n",
       "\n",
       "    .dataframe thead th {\n",
       "        text-align: right;\n",
       "    }\n",
       "</style>\n",
       "<table border=\"1\" class=\"dataframe\">\n",
       "  <thead>\n",
       "    <tr style=\"text-align: right;\">\n",
       "      <th></th>\n",
       "      <th>id</th>\n",
       "      <th>item</th>\n",
       "      <th>category</th>\n",
       "      <th>department</th>\n",
       "      <th>store</th>\n",
       "      <th>store_code</th>\n",
       "      <th>region</th>\n",
       "      <th>d</th>\n",
       "      <th>quantity</th>\n",
       "    </tr>\n",
       "  </thead>\n",
       "  <tbody>\n",
       "    <tr>\n",
       "      <th>7</th>\n",
       "      <td>ACCESORIES_1_008_NYC_1</td>\n",
       "      <td>ACCESORIES_1_008</td>\n",
       "      <td>ACCESORIES</td>\n",
       "      <td>ACCESORIES_1</td>\n",
       "      <td>Greenwich_Village</td>\n",
       "      <td>NYC_1</td>\n",
       "      <td>New York</td>\n",
       "      <td>d_1</td>\n",
       "      <td>12</td>\n",
       "    </tr>\n",
       "    <tr>\n",
       "      <th>8</th>\n",
       "      <td>ACCESORIES_1_009_NYC_1</td>\n",
       "      <td>ACCESORIES_1_009</td>\n",
       "      <td>ACCESORIES</td>\n",
       "      <td>ACCESORIES_1</td>\n",
       "      <td>Greenwich_Village</td>\n",
       "      <td>NYC_1</td>\n",
       "      <td>New York</td>\n",
       "      <td>d_1</td>\n",
       "      <td>2</td>\n",
       "    </tr>\n",
       "    <tr>\n",
       "      <th>14</th>\n",
       "      <td>ACCESORIES_1_015_NYC_1</td>\n",
       "      <td>ACCESORIES_1_015</td>\n",
       "      <td>ACCESORIES</td>\n",
       "      <td>ACCESORIES_1</td>\n",
       "      <td>Greenwich_Village</td>\n",
       "      <td>NYC_1</td>\n",
       "      <td>New York</td>\n",
       "      <td>d_1</td>\n",
       "      <td>4</td>\n",
       "    </tr>\n",
       "    <tr>\n",
       "      <th>15</th>\n",
       "      <td>ACCESORIES_1_016_NYC_1</td>\n",
       "      <td>ACCESORIES_1_016</td>\n",
       "      <td>ACCESORIES</td>\n",
       "      <td>ACCESORIES_1</td>\n",
       "      <td>Greenwich_Village</td>\n",
       "      <td>NYC_1</td>\n",
       "      <td>New York</td>\n",
       "      <td>d_1</td>\n",
       "      <td>5</td>\n",
       "    </tr>\n",
       "    <tr>\n",
       "      <th>21</th>\n",
       "      <td>ACCESORIES_1_022_NYC_1</td>\n",
       "      <td>ACCESORIES_1_022</td>\n",
       "      <td>ACCESORIES</td>\n",
       "      <td>ACCESORIES_1</td>\n",
       "      <td>Greenwich_Village</td>\n",
       "      <td>NYC_1</td>\n",
       "      <td>New York</td>\n",
       "      <td>d_1</td>\n",
       "      <td>2</td>\n",
       "    </tr>\n",
       "  </tbody>\n",
       "</table>\n",
       "</div>"
      ],
      "text/plain": [
       "                        id              item    category    department  \\\n",
       "7   ACCESORIES_1_008_NYC_1  ACCESORIES_1_008  ACCESORIES  ACCESORIES_1   \n",
       "8   ACCESORIES_1_009_NYC_1  ACCESORIES_1_009  ACCESORIES  ACCESORIES_1   \n",
       "14  ACCESORIES_1_015_NYC_1  ACCESORIES_1_015  ACCESORIES  ACCESORIES_1   \n",
       "15  ACCESORIES_1_016_NYC_1  ACCESORIES_1_016  ACCESORIES  ACCESORIES_1   \n",
       "21  ACCESORIES_1_022_NYC_1  ACCESORIES_1_022  ACCESORIES  ACCESORIES_1   \n",
       "\n",
       "                store store_code    region    d  quantity  \n",
       "7   Greenwich_Village      NYC_1  New York  d_1        12  \n",
       "8   Greenwich_Village      NYC_1  New York  d_1         2  \n",
       "14  Greenwich_Village      NYC_1  New York  d_1         4  \n",
       "15  Greenwich_Village      NYC_1  New York  d_1         5  \n",
       "21  Greenwich_Village      NYC_1  New York  d_1         2  "
      ]
     },
     "execution_count": 24,
     "metadata": {},
     "output_type": "execute_result"
    }
   ],
   "source": [
    "item_sales.head()"
   ]
  },
  {
   "cell_type": "code",
   "execution_count": 25,
   "metadata": {},
   "outputs": [],
   "source": [
    "item_sales.reset_index(drop=True, inplace=True)"
   ]
  },
  {
   "cell_type": "code",
   "execution_count": 26,
   "metadata": {},
   "outputs": [
    {
     "data": {
      "text/plain": [
       "id            0\n",
       "item          0\n",
       "category      0\n",
       "department    0\n",
       "store         0\n",
       "store_code    0\n",
       "region        0\n",
       "d             0\n",
       "quantity      0\n",
       "dtype: int64"
      ]
     },
     "execution_count": 26,
     "metadata": {},
     "output_type": "execute_result"
    }
   ],
   "source": [
    "item_sales.isna().sum()"
   ]
  },
  {
   "cell_type": "code",
   "execution_count": 27,
   "metadata": {},
   "outputs": [
    {
     "data": {
      "text/plain": [
       "False    417176\n",
       "dtype: int64"
      ]
     },
     "execution_count": 27,
     "metadata": {},
     "output_type": "execute_result"
    }
   ],
   "source": [
    "item_sales.duplicated().value_counts()"
   ]
  },
  {
   "cell_type": "code",
   "execution_count": 28,
   "metadata": {},
   "outputs": [],
   "source": [
    "#item_sales.to_pickle(datapath + 'item_sales.p')\n",
    "#item_sales.to_csv(datapath + 'item_sales_clean.csv', sep=';')"
   ]
  },
  {
   "cell_type": "code",
   "execution_count": 29,
   "metadata": {},
   "outputs": [
    {
     "name": "stdout",
     "output_type": "stream",
     "text": [
      "<class 'pandas.core.frame.DataFrame'>\n",
      "RangeIndex: 417176 entries, 0 to 417175\n",
      "Data columns (total 9 columns):\n",
      " #   Column      Non-Null Count   Dtype \n",
      "---  ------      --------------   ----- \n",
      " 0   id          417176 non-null  object\n",
      " 1   item        417176 non-null  object\n",
      " 2   category    417176 non-null  object\n",
      " 3   department  417176 non-null  object\n",
      " 4   store       417176 non-null  object\n",
      " 5   store_code  417176 non-null  object\n",
      " 6   region      417176 non-null  object\n",
      " 7   d           417176 non-null  object\n",
      " 8   quantity    417176 non-null  int64 \n",
      "dtypes: int64(1), object(8)\n",
      "memory usage: 28.6+ MB\n"
     ]
    }
   ],
   "source": [
    "item_sales.info()"
   ]
  },
  {
   "cell_type": "code",
   "execution_count": 30,
   "metadata": {},
   "outputs": [],
   "source": [
    "item_sales = item_sales.merge(daily_calendar_with_events[['d','date','yearweek']], on='d', how='left')"
   ]
  },
  {
   "cell_type": "code",
   "execution_count": 31,
   "metadata": {},
   "outputs": [
    {
     "name": "stdout",
     "output_type": "stream",
     "text": [
      "<class 'pandas.core.frame.DataFrame'>\n",
      "Int64Index: 417176 entries, 0 to 417175\n",
      "Data columns (total 11 columns):\n",
      " #   Column      Non-Null Count   Dtype         \n",
      "---  ------      --------------   -----         \n",
      " 0   id          417176 non-null  object        \n",
      " 1   item        417176 non-null  object        \n",
      " 2   category    417176 non-null  object        \n",
      " 3   department  417176 non-null  object        \n",
      " 4   store       417176 non-null  object        \n",
      " 5   store_code  417176 non-null  object        \n",
      " 6   region      417176 non-null  object        \n",
      " 7   d           417176 non-null  object        \n",
      " 8   quantity    417176 non-null  int64         \n",
      " 9   date        417176 non-null  datetime64[ns]\n",
      " 10  yearweek    417176 non-null  int64         \n",
      "dtypes: datetime64[ns](1), int64(2), object(8)\n",
      "memory usage: 38.2+ MB\n"
     ]
    }
   ],
   "source": [
    "item_sales.info()"
   ]
  },
  {
   "cell_type": "code",
   "execution_count": 32,
   "metadata": {},
   "outputs": [],
   "source": [
    "item_sales = item_sales.merge(item_prices[['item','yearweek','store_code','sell_price']], on=['item','yearweek','store_code'], how='left')"
   ]
  },
  {
   "cell_type": "code",
   "execution_count": 33,
   "metadata": {},
   "outputs": [
    {
     "name": "stdout",
     "output_type": "stream",
     "text": [
      "<class 'pandas.core.frame.DataFrame'>\n",
      "Int64Index: 417176 entries, 0 to 417175\n",
      "Data columns (total 12 columns):\n",
      " #   Column      Non-Null Count   Dtype         \n",
      "---  ------      --------------   -----         \n",
      " 0   id          417176 non-null  object        \n",
      " 1   item        417176 non-null  object        \n",
      " 2   category    417176 non-null  object        \n",
      " 3   department  417176 non-null  object        \n",
      " 4   store       417176 non-null  object        \n",
      " 5   store_code  417176 non-null  object        \n",
      " 6   region      417176 non-null  object        \n",
      " 7   d           417176 non-null  object        \n",
      " 8   quantity    417176 non-null  int64         \n",
      " 9   date        417176 non-null  datetime64[ns]\n",
      " 10  yearweek    417176 non-null  int64         \n",
      " 11  sell_price  3879 non-null    float64       \n",
      "dtypes: datetime64[ns](1), float64(1), int64(2), object(8)\n",
      "memory usage: 41.4+ MB\n"
     ]
    }
   ],
   "source": [
    "item_sales.info()"
   ]
  },
  {
   "cell_type": "code",
   "execution_count": 34,
   "metadata": {},
   "outputs": [
    {
     "data": {
      "text/plain": [
       "id                 0\n",
       "item               0\n",
       "category           0\n",
       "department         0\n",
       "store              0\n",
       "store_code         0\n",
       "region             0\n",
       "d                  0\n",
       "quantity           0\n",
       "date               0\n",
       "yearweek           0\n",
       "sell_price    413297\n",
       "dtype: int64"
      ]
     },
     "execution_count": 34,
     "metadata": {},
     "output_type": "execute_result"
    }
   ],
   "source": [
    "item_sales.isna().sum()"
   ]
  },
  {
   "cell_type": "code",
   "execution_count": 35,
   "metadata": {},
   "outputs": [],
   "source": [
    "item_sales = item_sales[item_sales['sell_price'].notna()]"
   ]
  },
  {
   "cell_type": "code",
   "execution_count": 36,
   "metadata": {},
   "outputs": [
    {
     "data": {
      "text/plain": [
       "id            0\n",
       "item          0\n",
       "category      0\n",
       "department    0\n",
       "store         0\n",
       "store_code    0\n",
       "region        0\n",
       "d             0\n",
       "quantity      0\n",
       "date          0\n",
       "yearweek      0\n",
       "sell_price    0\n",
       "dtype: int64"
      ]
     },
     "execution_count": 36,
     "metadata": {},
     "output_type": "execute_result"
    }
   ],
   "source": [
    "item_sales.isna().sum()"
   ]
  },
  {
   "cell_type": "code",
   "execution_count": 37,
   "metadata": {},
   "outputs": [
    {
     "data": {
      "text/html": [
       "<div>\n",
       "<style scoped>\n",
       "    .dataframe tbody tr th:only-of-type {\n",
       "        vertical-align: middle;\n",
       "    }\n",
       "\n",
       "    .dataframe tbody tr th {\n",
       "        vertical-align: top;\n",
       "    }\n",
       "\n",
       "    .dataframe thead th {\n",
       "        text-align: right;\n",
       "    }\n",
       "</style>\n",
       "<table border=\"1\" class=\"dataframe\">\n",
       "  <thead>\n",
       "    <tr style=\"text-align: right;\">\n",
       "      <th></th>\n",
       "      <th>id</th>\n",
       "      <th>item</th>\n",
       "      <th>category</th>\n",
       "      <th>department</th>\n",
       "      <th>store</th>\n",
       "      <th>store_code</th>\n",
       "      <th>region</th>\n",
       "      <th>d</th>\n",
       "      <th>quantity</th>\n",
       "      <th>date</th>\n",
       "      <th>yearweek</th>\n",
       "      <th>sell_price</th>\n",
       "    </tr>\n",
       "  </thead>\n",
       "  <tbody>\n",
       "    <tr>\n",
       "      <th>301</th>\n",
       "      <td>ACCESORIES_1_009_NYC_1</td>\n",
       "      <td>ACCESORIES_1_009</td>\n",
       "      <td>ACCESORIES</td>\n",
       "      <td>ACCESORIES_1</td>\n",
       "      <td>Greenwich_Village</td>\n",
       "      <td>NYC_1</td>\n",
       "      <td>New York</td>\n",
       "      <td>d_3</td>\n",
       "      <td>7</td>\n",
       "      <td>2011-01-31</td>\n",
       "      <td>201105</td>\n",
       "      <td>2.0748</td>\n",
       "    </tr>\n",
       "    <tr>\n",
       "      <th>302</th>\n",
       "      <td>ACCESORIES_1_010_NYC_1</td>\n",
       "      <td>ACCESORIES_1_010</td>\n",
       "      <td>ACCESORIES</td>\n",
       "      <td>ACCESORIES_1</td>\n",
       "      <td>Greenwich_Village</td>\n",
       "      <td>NYC_1</td>\n",
       "      <td>New York</td>\n",
       "      <td>d_3</td>\n",
       "      <td>1</td>\n",
       "      <td>2011-01-31</td>\n",
       "      <td>201105</td>\n",
       "      <td>4.2161</td>\n",
       "    </tr>\n",
       "    <tr>\n",
       "      <th>303</th>\n",
       "      <td>ACCESORIES_1_016_NYC_1</td>\n",
       "      <td>ACCESORIES_1_016</td>\n",
       "      <td>ACCESORIES</td>\n",
       "      <td>ACCESORIES_1</td>\n",
       "      <td>Greenwich_Village</td>\n",
       "      <td>NYC_1</td>\n",
       "      <td>New York</td>\n",
       "      <td>d_3</td>\n",
       "      <td>3</td>\n",
       "      <td>2011-01-31</td>\n",
       "      <td>201105</td>\n",
       "      <td>0.9310</td>\n",
       "    </tr>\n",
       "    <tr>\n",
       "      <th>304</th>\n",
       "      <td>ACCESORIES_1_022_NYC_1</td>\n",
       "      <td>ACCESORIES_1_022</td>\n",
       "      <td>ACCESORIES</td>\n",
       "      <td>ACCESORIES_1</td>\n",
       "      <td>Greenwich_Village</td>\n",
       "      <td>NYC_1</td>\n",
       "      <td>New York</td>\n",
       "      <td>d_3</td>\n",
       "      <td>1</td>\n",
       "      <td>2011-01-31</td>\n",
       "      <td>201105</td>\n",
       "      <td>9.1238</td>\n",
       "    </tr>\n",
       "    <tr>\n",
       "      <th>305</th>\n",
       "      <td>ACCESORIES_2_004_NYC_1</td>\n",
       "      <td>ACCESORIES_2_004</td>\n",
       "      <td>ACCESORIES</td>\n",
       "      <td>ACCESORIES_2</td>\n",
       "      <td>Greenwich_Village</td>\n",
       "      <td>NYC_1</td>\n",
       "      <td>New York</td>\n",
       "      <td>d_3</td>\n",
       "      <td>1</td>\n",
       "      <td>2011-01-31</td>\n",
       "      <td>201105</td>\n",
       "      <td>3.2851</td>\n",
       "    </tr>\n",
       "  </tbody>\n",
       "</table>\n",
       "</div>"
      ],
      "text/plain": [
       "                         id              item    category    department  \\\n",
       "301  ACCESORIES_1_009_NYC_1  ACCESORIES_1_009  ACCESORIES  ACCESORIES_1   \n",
       "302  ACCESORIES_1_010_NYC_1  ACCESORIES_1_010  ACCESORIES  ACCESORIES_1   \n",
       "303  ACCESORIES_1_016_NYC_1  ACCESORIES_1_016  ACCESORIES  ACCESORIES_1   \n",
       "304  ACCESORIES_1_022_NYC_1  ACCESORIES_1_022  ACCESORIES  ACCESORIES_1   \n",
       "305  ACCESORIES_2_004_NYC_1  ACCESORIES_2_004  ACCESORIES  ACCESORIES_2   \n",
       "\n",
       "                 store store_code    region    d  quantity       date  \\\n",
       "301  Greenwich_Village      NYC_1  New York  d_3         7 2011-01-31   \n",
       "302  Greenwich_Village      NYC_1  New York  d_3         1 2011-01-31   \n",
       "303  Greenwich_Village      NYC_1  New York  d_3         3 2011-01-31   \n",
       "304  Greenwich_Village      NYC_1  New York  d_3         1 2011-01-31   \n",
       "305  Greenwich_Village      NYC_1  New York  d_3         1 2011-01-31   \n",
       "\n",
       "     yearweek  sell_price  \n",
       "301    201105      2.0748  \n",
       "302    201105      4.2161  \n",
       "303    201105      0.9310  \n",
       "304    201105      9.1238  \n",
       "305    201105      3.2851  "
      ]
     },
     "execution_count": 37,
     "metadata": {},
     "output_type": "execute_result"
    }
   ],
   "source": [
    "item_sales.head()"
   ]
  },
  {
   "cell_type": "code",
   "execution_count": 38,
   "metadata": {},
   "outputs": [],
   "source": [
    "item_sales[\"revenue\"] = item_sales[\"quantity\"] * item_sales[\"sell_price\"] \n",
    "item_sales[\"date_for_calc\"] = item_sales[\"date\"] "
   ]
  },
  {
   "cell_type": "code",
   "execution_count": 39,
   "metadata": {},
   "outputs": [
    {
     "data": {
      "text/html": [
       "<div>\n",
       "<style scoped>\n",
       "    .dataframe tbody tr th:only-of-type {\n",
       "        vertical-align: middle;\n",
       "    }\n",
       "\n",
       "    .dataframe tbody tr th {\n",
       "        vertical-align: top;\n",
       "    }\n",
       "\n",
       "    .dataframe thead th {\n",
       "        text-align: right;\n",
       "    }\n",
       "</style>\n",
       "<table border=\"1\" class=\"dataframe\">\n",
       "  <thead>\n",
       "    <tr style=\"text-align: right;\">\n",
       "      <th></th>\n",
       "      <th>d</th>\n",
       "      <th>date</th>\n",
       "      <th>yearweek</th>\n",
       "      <th>id</th>\n",
       "      <th>item</th>\n",
       "      <th>department</th>\n",
       "      <th>category</th>\n",
       "      <th>store</th>\n",
       "      <th>store_code</th>\n",
       "      <th>region</th>\n",
       "      <th>quantity</th>\n",
       "      <th>sell_price</th>\n",
       "      <th>revenue</th>\n",
       "    </tr>\n",
       "  </thead>\n",
       "  <tbody>\n",
       "    <tr>\n",
       "      <th>301</th>\n",
       "      <td>d_3</td>\n",
       "      <td>2011-01-31</td>\n",
       "      <td>201105</td>\n",
       "      <td>ACCESORIES_1_009_NYC_1</td>\n",
       "      <td>ACCESORIES_1_009</td>\n",
       "      <td>ACCESORIES_1</td>\n",
       "      <td>ACCESORIES</td>\n",
       "      <td>Greenwich_Village</td>\n",
       "      <td>NYC_1</td>\n",
       "      <td>New York</td>\n",
       "      <td>7</td>\n",
       "      <td>2.0748</td>\n",
       "      <td>14.5236</td>\n",
       "    </tr>\n",
       "    <tr>\n",
       "      <th>302</th>\n",
       "      <td>d_3</td>\n",
       "      <td>2011-01-31</td>\n",
       "      <td>201105</td>\n",
       "      <td>ACCESORIES_1_010_NYC_1</td>\n",
       "      <td>ACCESORIES_1_010</td>\n",
       "      <td>ACCESORIES_1</td>\n",
       "      <td>ACCESORIES</td>\n",
       "      <td>Greenwich_Village</td>\n",
       "      <td>NYC_1</td>\n",
       "      <td>New York</td>\n",
       "      <td>1</td>\n",
       "      <td>4.2161</td>\n",
       "      <td>4.2161</td>\n",
       "    </tr>\n",
       "    <tr>\n",
       "      <th>303</th>\n",
       "      <td>d_3</td>\n",
       "      <td>2011-01-31</td>\n",
       "      <td>201105</td>\n",
       "      <td>ACCESORIES_1_016_NYC_1</td>\n",
       "      <td>ACCESORIES_1_016</td>\n",
       "      <td>ACCESORIES_1</td>\n",
       "      <td>ACCESORIES</td>\n",
       "      <td>Greenwich_Village</td>\n",
       "      <td>NYC_1</td>\n",
       "      <td>New York</td>\n",
       "      <td>3</td>\n",
       "      <td>0.9310</td>\n",
       "      <td>2.7930</td>\n",
       "    </tr>\n",
       "    <tr>\n",
       "      <th>304</th>\n",
       "      <td>d_3</td>\n",
       "      <td>2011-01-31</td>\n",
       "      <td>201105</td>\n",
       "      <td>ACCESORIES_1_022_NYC_1</td>\n",
       "      <td>ACCESORIES_1_022</td>\n",
       "      <td>ACCESORIES_1</td>\n",
       "      <td>ACCESORIES</td>\n",
       "      <td>Greenwich_Village</td>\n",
       "      <td>NYC_1</td>\n",
       "      <td>New York</td>\n",
       "      <td>1</td>\n",
       "      <td>9.1238</td>\n",
       "      <td>9.1238</td>\n",
       "    </tr>\n",
       "    <tr>\n",
       "      <th>305</th>\n",
       "      <td>d_3</td>\n",
       "      <td>2011-01-31</td>\n",
       "      <td>201105</td>\n",
       "      <td>ACCESORIES_2_004_NYC_1</td>\n",
       "      <td>ACCESORIES_2_004</td>\n",
       "      <td>ACCESORIES_2</td>\n",
       "      <td>ACCESORIES</td>\n",
       "      <td>Greenwich_Village</td>\n",
       "      <td>NYC_1</td>\n",
       "      <td>New York</td>\n",
       "      <td>1</td>\n",
       "      <td>3.2851</td>\n",
       "      <td>3.2851</td>\n",
       "    </tr>\n",
       "  </tbody>\n",
       "</table>\n",
       "</div>"
      ],
      "text/plain": [
       "       d       date  yearweek                      id              item  \\\n",
       "301  d_3 2011-01-31    201105  ACCESORIES_1_009_NYC_1  ACCESORIES_1_009   \n",
       "302  d_3 2011-01-31    201105  ACCESORIES_1_010_NYC_1  ACCESORIES_1_010   \n",
       "303  d_3 2011-01-31    201105  ACCESORIES_1_016_NYC_1  ACCESORIES_1_016   \n",
       "304  d_3 2011-01-31    201105  ACCESORIES_1_022_NYC_1  ACCESORIES_1_022   \n",
       "305  d_3 2011-01-31    201105  ACCESORIES_2_004_NYC_1  ACCESORIES_2_004   \n",
       "\n",
       "       department    category              store store_code    region  \\\n",
       "301  ACCESORIES_1  ACCESORIES  Greenwich_Village      NYC_1  New York   \n",
       "302  ACCESORIES_1  ACCESORIES  Greenwich_Village      NYC_1  New York   \n",
       "303  ACCESORIES_1  ACCESORIES  Greenwich_Village      NYC_1  New York   \n",
       "304  ACCESORIES_1  ACCESORIES  Greenwich_Village      NYC_1  New York   \n",
       "305  ACCESORIES_2  ACCESORIES  Greenwich_Village      NYC_1  New York   \n",
       "\n",
       "     quantity  sell_price  revenue  \n",
       "301         7      2.0748  14.5236  \n",
       "302         1      4.2161   4.2161  \n",
       "303         3      0.9310   2.7930  \n",
       "304         1      9.1238   9.1238  \n",
       "305         1      3.2851   3.2851  "
      ]
     },
     "execution_count": 39,
     "metadata": {},
     "output_type": "execute_result"
    }
   ],
   "source": [
    "item_sales_order_of_columns = [\n",
    "    'd',\n",
    "    'date',\n",
    "    'yearweek',\n",
    "    'id',\n",
    "    'item', \n",
    "    'department',\n",
    "    'category',\n",
    "    'store',\n",
    "    'store_code',\n",
    "    'region',\n",
    "    'quantity',\n",
    "    'sell_price',\n",
    "    'revenue'\n",
    "]\n",
    "\n",
    "item_sales = item_sales[item_sales_order_of_columns]\n",
    "item_sales.head()"
   ]
  },
  {
   "cell_type": "code",
   "execution_count": 40,
   "metadata": {},
   "outputs": [
    {
     "data": {
      "text/html": [
       "<div>\n",
       "<style scoped>\n",
       "    .dataframe tbody tr th:only-of-type {\n",
       "        vertical-align: middle;\n",
       "    }\n",
       "\n",
       "    .dataframe tbody tr th {\n",
       "        vertical-align: top;\n",
       "    }\n",
       "\n",
       "    .dataframe thead th {\n",
       "        text-align: right;\n",
       "    }\n",
       "</style>\n",
       "<table border=\"1\" class=\"dataframe\">\n",
       "  <thead>\n",
       "    <tr style=\"text-align: right;\">\n",
       "      <th></th>\n",
       "      <th>d</th>\n",
       "      <th>date</th>\n",
       "      <th>yearweek</th>\n",
       "      <th>id</th>\n",
       "      <th>item</th>\n",
       "      <th>department</th>\n",
       "      <th>category</th>\n",
       "      <th>store</th>\n",
       "      <th>store_code</th>\n",
       "      <th>region</th>\n",
       "      <th>quantity</th>\n",
       "      <th>sell_price</th>\n",
       "      <th>revenue</th>\n",
       "    </tr>\n",
       "  </thead>\n",
       "  <tbody>\n",
       "    <tr>\n",
       "      <th>0</th>\n",
       "      <td>d_3</td>\n",
       "      <td>2011-01-31</td>\n",
       "      <td>201105</td>\n",
       "      <td>ACCESORIES_1_009_NYC_1</td>\n",
       "      <td>ACCESORIES_1_009</td>\n",
       "      <td>ACCESORIES_1</td>\n",
       "      <td>ACCESORIES</td>\n",
       "      <td>Greenwich_Village</td>\n",
       "      <td>NYC_1</td>\n",
       "      <td>New York</td>\n",
       "      <td>7</td>\n",
       "      <td>2.0748</td>\n",
       "      <td>14.5236</td>\n",
       "    </tr>\n",
       "    <tr>\n",
       "      <th>1</th>\n",
       "      <td>d_3</td>\n",
       "      <td>2011-01-31</td>\n",
       "      <td>201105</td>\n",
       "      <td>ACCESORIES_1_010_NYC_1</td>\n",
       "      <td>ACCESORIES_1_010</td>\n",
       "      <td>ACCESORIES_1</td>\n",
       "      <td>ACCESORIES</td>\n",
       "      <td>Greenwich_Village</td>\n",
       "      <td>NYC_1</td>\n",
       "      <td>New York</td>\n",
       "      <td>1</td>\n",
       "      <td>4.2161</td>\n",
       "      <td>4.2161</td>\n",
       "    </tr>\n",
       "    <tr>\n",
       "      <th>2</th>\n",
       "      <td>d_3</td>\n",
       "      <td>2011-01-31</td>\n",
       "      <td>201105</td>\n",
       "      <td>ACCESORIES_1_016_NYC_1</td>\n",
       "      <td>ACCESORIES_1_016</td>\n",
       "      <td>ACCESORIES_1</td>\n",
       "      <td>ACCESORIES</td>\n",
       "      <td>Greenwich_Village</td>\n",
       "      <td>NYC_1</td>\n",
       "      <td>New York</td>\n",
       "      <td>3</td>\n",
       "      <td>0.9310</td>\n",
       "      <td>2.7930</td>\n",
       "    </tr>\n",
       "    <tr>\n",
       "      <th>3</th>\n",
       "      <td>d_3</td>\n",
       "      <td>2011-01-31</td>\n",
       "      <td>201105</td>\n",
       "      <td>ACCESORIES_1_022_NYC_1</td>\n",
       "      <td>ACCESORIES_1_022</td>\n",
       "      <td>ACCESORIES_1</td>\n",
       "      <td>ACCESORIES</td>\n",
       "      <td>Greenwich_Village</td>\n",
       "      <td>NYC_1</td>\n",
       "      <td>New York</td>\n",
       "      <td>1</td>\n",
       "      <td>9.1238</td>\n",
       "      <td>9.1238</td>\n",
       "    </tr>\n",
       "    <tr>\n",
       "      <th>4</th>\n",
       "      <td>d_3</td>\n",
       "      <td>2011-01-31</td>\n",
       "      <td>201105</td>\n",
       "      <td>ACCESORIES_2_004_NYC_1</td>\n",
       "      <td>ACCESORIES_2_004</td>\n",
       "      <td>ACCESORIES_2</td>\n",
       "      <td>ACCESORIES</td>\n",
       "      <td>Greenwich_Village</td>\n",
       "      <td>NYC_1</td>\n",
       "      <td>New York</td>\n",
       "      <td>1</td>\n",
       "      <td>3.2851</td>\n",
       "      <td>3.2851</td>\n",
       "    </tr>\n",
       "  </tbody>\n",
       "</table>\n",
       "</div>"
      ],
      "text/plain": [
       "     d       date  yearweek                      id              item  \\\n",
       "0  d_3 2011-01-31    201105  ACCESORIES_1_009_NYC_1  ACCESORIES_1_009   \n",
       "1  d_3 2011-01-31    201105  ACCESORIES_1_010_NYC_1  ACCESORIES_1_010   \n",
       "2  d_3 2011-01-31    201105  ACCESORIES_1_016_NYC_1  ACCESORIES_1_016   \n",
       "3  d_3 2011-01-31    201105  ACCESORIES_1_022_NYC_1  ACCESORIES_1_022   \n",
       "4  d_3 2011-01-31    201105  ACCESORIES_2_004_NYC_1  ACCESORIES_2_004   \n",
       "\n",
       "     department    category              store store_code    region  quantity  \\\n",
       "0  ACCESORIES_1  ACCESORIES  Greenwich_Village      NYC_1  New York         7   \n",
       "1  ACCESORIES_1  ACCESORIES  Greenwich_Village      NYC_1  New York         1   \n",
       "2  ACCESORIES_1  ACCESORIES  Greenwich_Village      NYC_1  New York         3   \n",
       "3  ACCESORIES_1  ACCESORIES  Greenwich_Village      NYC_1  New York         1   \n",
       "4  ACCESORIES_2  ACCESORIES  Greenwich_Village      NYC_1  New York         1   \n",
       "\n",
       "   sell_price  revenue  \n",
       "0      2.0748  14.5236  \n",
       "1      4.2161   4.2161  \n",
       "2      0.9310   2.7930  \n",
       "3      9.1238   9.1238  \n",
       "4      3.2851   3.2851  "
      ]
     },
     "execution_count": 40,
     "metadata": {},
     "output_type": "execute_result"
    }
   ],
   "source": [
    "item_sales.reset_index(drop=True, inplace=True)\n",
    "item_sales.head()"
   ]
  },
  {
   "attachments": {},
   "cell_type": "markdown",
   "metadata": {},
   "source": [
    "#   <H3>Para trabajar con TimeSeries necesitamos tener las fechas en que hemos vendido y tambien en las que no hemos vendido. </H3>"
   ]
  },
  {
   "attachments": {},
   "cell_type": "markdown",
   "metadata": {},
   "source": [
    "Necesitamos tener cada ID con cada fecha posible, en este caso el analisis sera por Semanal "
   ]
  },
  {
   "cell_type": "code",
   "execution_count": 41,
   "metadata": {},
   "outputs": [
    {
     "name": "stdout",
     "output_type": "stream",
     "text": [
      "La primera fecha de venta es: 2011-01-31 00:00:00, que corresponde al año 2011 y a la semana 05\n",
      "La primera fecha de venta es: 2016-04-17 00:00:00, que corresponde al año 2016 y a la semana 15\n"
     ]
    }
   ],
   "source": [
    "min_date = item_sales['date'].min()\n",
    "min_year = min_date.strftime('%Y')\n",
    "min_week = min_date.strftime('%W')\n",
    "print(f'La primera fecha de venta es: {min_date}, que corresponde al año {min_year} y a la semana {min_week}')\n",
    "max_date = item_sales['date'].max()\n",
    "max_year = max_date.strftime('%Y')\n",
    "max_week = max_date.strftime('%W')\n",
    "print(f'La primera fecha de venta es: {max_date}, que corresponde al año {max_year} y a la semana {max_week}')"
   ]
  },
  {
   "cell_type": "code",
   "execution_count": 42,
   "metadata": {},
   "outputs": [
    {
     "name": "stdout",
     "output_type": "stream",
     "text": [
      "La ultima fecha que vamos a predecir de ventas es: 2016-05-15 00:00:00\n"
     ]
    }
   ],
   "source": [
    "#Prediccion de 4 semanas\n",
    "prediction_date = max_date + pd.DateOffset(4*7)\n",
    "print(f'La ultima fecha que vamos a predecir de ventas es: {prediction_date}')"
   ]
  },
  {
   "cell_type": "code",
   "execution_count": 43,
   "metadata": {},
   "outputs": [
    {
     "data": {
      "text/plain": [
       "504"
      ]
     },
     "execution_count": 43,
     "metadata": {},
     "output_type": "execute_result"
    }
   ],
   "source": [
    "unique_id = sorted(item_sales[\"id\"].unique())\n",
    "len(unique_id)"
   ]
  },
  {
   "cell_type": "code",
   "execution_count": 44,
   "metadata": {},
   "outputs": [
    {
     "data": {
      "text/plain": [
       "DatetimeIndex(['2011-02-06', '2011-02-13', '2011-02-20', '2011-02-27',\n",
       "               '2011-03-06', '2011-03-13', '2011-03-20', '2011-03-27',\n",
       "               '2011-04-03', '2011-04-10',\n",
       "               ...\n",
       "               '2016-03-13', '2016-03-20', '2016-03-27', '2016-04-03',\n",
       "               '2016-04-10', '2016-04-17', '2016-04-24', '2016-05-01',\n",
       "               '2016-05-08', '2016-05-15'],\n",
       "              dtype='datetime64[ns]', length=276, freq='W-SUN')"
      ]
     },
     "execution_count": 44,
     "metadata": {},
     "output_type": "execute_result"
    }
   ],
   "source": [
    "date_range = pd.date_range(min_date, prediction_date, freq = \"W\")\n",
    "date_range"
   ]
  },
  {
   "cell_type": "code",
   "execution_count": 45,
   "metadata": {},
   "outputs": [
    {
     "data": {
      "text/plain": [
       "276"
      ]
     },
     "execution_count": 45,
     "metadata": {},
     "output_type": "execute_result"
    }
   ],
   "source": [
    "len(date_range)"
   ]
  },
  {
   "cell_type": "code",
   "execution_count": 46,
   "metadata": {},
   "outputs": [
    {
     "data": {
      "text/plain": [
       "139104"
      ]
     },
     "execution_count": 46,
     "metadata": {},
     "output_type": "execute_result"
    }
   ],
   "source": [
    "len(date_range)*len(unique_id)"
   ]
  },
  {
   "cell_type": "code",
   "execution_count": 47,
   "metadata": {},
   "outputs": [
    {
     "data": {
      "text/plain": [
       "MultiIndex([('2011-02-06',  'ACCESORIES_1_001_NYC_1'),\n",
       "            ('2011-02-06',  'ACCESORIES_1_001_NYC_2'),\n",
       "            ('2011-02-06',  'ACCESORIES_1_002_NYC_1'),\n",
       "            ('2011-02-06',  'ACCESORIES_1_002_NYC_2'),\n",
       "            ('2011-02-06',  'ACCESORIES_1_003_NYC_1'),\n",
       "            ('2011-02-06',  'ACCESORIES_1_003_NYC_2'),\n",
       "            ('2011-02-06',  'ACCESORIES_1_004_NYC_1'),\n",
       "            ('2011-02-06',  'ACCESORIES_1_004_NYC_2'),\n",
       "            ('2011-02-06',  'ACCESORIES_1_005_NYC_1'),\n",
       "            ('2011-02-06',  'ACCESORIES_1_005_NYC_2'),\n",
       "            ...\n",
       "            ('2016-05-15', 'SUPERMARKET_3_037_NYC_1'),\n",
       "            ('2016-05-15', 'SUPERMARKET_3_038_NYC_1'),\n",
       "            ('2016-05-15', 'SUPERMARKET_3_039_NYC_1'),\n",
       "            ('2016-05-15', 'SUPERMARKET_3_040_NYC_1'),\n",
       "            ('2016-05-15', 'SUPERMARKET_3_041_NYC_1'),\n",
       "            ('2016-05-15', 'SUPERMARKET_3_042_NYC_1'),\n",
       "            ('2016-05-15', 'SUPERMARKET_3_043_NYC_1'),\n",
       "            ('2016-05-15', 'SUPERMARKET_3_044_NYC_1'),\n",
       "            ('2016-05-15', 'SUPERMARKET_3_045_NYC_1'),\n",
       "            ('2016-05-15', 'SUPERMARKET_3_046_NYC_1')],\n",
       "           names=['date', 'id'], length=139104)"
      ]
     },
     "execution_count": 47,
     "metadata": {},
     "output_type": "execute_result"
    }
   ],
   "source": [
    "cartesian_product  = pd.MultiIndex.from_product([date_range, unique_id], names = [\"date\", \"id\"])\n",
    "cartesian_product"
   ]
  },
  {
   "cell_type": "code",
   "execution_count": 48,
   "metadata": {},
   "outputs": [
    {
     "name": "stdout",
     "output_type": "stream",
     "text": [
      "(139104, 2)\n"
     ]
    }
   ],
   "source": [
    "ts_item_sales = pd.DataFrame(index = cartesian_product).reset_index()\n",
    "print(ts_item_sales.shape)"
   ]
  },
  {
   "attachments": {},
   "cell_type": "markdown",
   "metadata": {},
   "source": [
    "Hasta aqui el producto cartesiano"
   ]
  },
  {
   "attachments": {},
   "cell_type": "markdown",
   "metadata": {},
   "source": [
    "Seteamos el indice de sales por ['date','id'] "
   ]
  },
  {
   "cell_type": "code",
   "execution_count": 49,
   "metadata": {},
   "outputs": [],
   "source": [
    "item_sales.set_index(['date','id'], inplace=True)"
   ]
  },
  {
   "cell_type": "code",
   "execution_count": 50,
   "metadata": {},
   "outputs": [
    {
     "data": {
      "text/html": [
       "<div>\n",
       "<style scoped>\n",
       "    .dataframe tbody tr th:only-of-type {\n",
       "        vertical-align: middle;\n",
       "    }\n",
       "\n",
       "    .dataframe tbody tr th {\n",
       "        vertical-align: top;\n",
       "    }\n",
       "\n",
       "    .dataframe thead th {\n",
       "        text-align: right;\n",
       "    }\n",
       "</style>\n",
       "<table border=\"1\" class=\"dataframe\">\n",
       "  <thead>\n",
       "    <tr style=\"text-align: right;\">\n",
       "      <th></th>\n",
       "      <th></th>\n",
       "      <th>d</th>\n",
       "      <th>yearweek</th>\n",
       "      <th>item</th>\n",
       "      <th>department</th>\n",
       "      <th>category</th>\n",
       "      <th>store</th>\n",
       "      <th>store_code</th>\n",
       "      <th>region</th>\n",
       "      <th>quantity</th>\n",
       "      <th>sell_price</th>\n",
       "      <th>revenue</th>\n",
       "    </tr>\n",
       "    <tr>\n",
       "      <th>date</th>\n",
       "      <th>id</th>\n",
       "      <th></th>\n",
       "      <th></th>\n",
       "      <th></th>\n",
       "      <th></th>\n",
       "      <th></th>\n",
       "      <th></th>\n",
       "      <th></th>\n",
       "      <th></th>\n",
       "      <th></th>\n",
       "      <th></th>\n",
       "      <th></th>\n",
       "    </tr>\n",
       "  </thead>\n",
       "  <tbody>\n",
       "    <tr>\n",
       "      <th rowspan=\"5\" valign=\"top\">2011-01-31</th>\n",
       "      <th>ACCESORIES_1_009_NYC_1</th>\n",
       "      <td>d_3</td>\n",
       "      <td>201105</td>\n",
       "      <td>ACCESORIES_1_009</td>\n",
       "      <td>ACCESORIES_1</td>\n",
       "      <td>ACCESORIES</td>\n",
       "      <td>Greenwich_Village</td>\n",
       "      <td>NYC_1</td>\n",
       "      <td>New York</td>\n",
       "      <td>7</td>\n",
       "      <td>2.0748</td>\n",
       "      <td>14.5236</td>\n",
       "    </tr>\n",
       "    <tr>\n",
       "      <th>ACCESORIES_1_010_NYC_1</th>\n",
       "      <td>d_3</td>\n",
       "      <td>201105</td>\n",
       "      <td>ACCESORIES_1_010</td>\n",
       "      <td>ACCESORIES_1</td>\n",
       "      <td>ACCESORIES</td>\n",
       "      <td>Greenwich_Village</td>\n",
       "      <td>NYC_1</td>\n",
       "      <td>New York</td>\n",
       "      <td>1</td>\n",
       "      <td>4.2161</td>\n",
       "      <td>4.2161</td>\n",
       "    </tr>\n",
       "    <tr>\n",
       "      <th>ACCESORIES_1_016_NYC_1</th>\n",
       "      <td>d_3</td>\n",
       "      <td>201105</td>\n",
       "      <td>ACCESORIES_1_016</td>\n",
       "      <td>ACCESORIES_1</td>\n",
       "      <td>ACCESORIES</td>\n",
       "      <td>Greenwich_Village</td>\n",
       "      <td>NYC_1</td>\n",
       "      <td>New York</td>\n",
       "      <td>3</td>\n",
       "      <td>0.9310</td>\n",
       "      <td>2.7930</td>\n",
       "    </tr>\n",
       "    <tr>\n",
       "      <th>ACCESORIES_1_022_NYC_1</th>\n",
       "      <td>d_3</td>\n",
       "      <td>201105</td>\n",
       "      <td>ACCESORIES_1_022</td>\n",
       "      <td>ACCESORIES_1</td>\n",
       "      <td>ACCESORIES</td>\n",
       "      <td>Greenwich_Village</td>\n",
       "      <td>NYC_1</td>\n",
       "      <td>New York</td>\n",
       "      <td>1</td>\n",
       "      <td>9.1238</td>\n",
       "      <td>9.1238</td>\n",
       "    </tr>\n",
       "    <tr>\n",
       "      <th>ACCESORIES_2_004_NYC_1</th>\n",
       "      <td>d_3</td>\n",
       "      <td>201105</td>\n",
       "      <td>ACCESORIES_2_004</td>\n",
       "      <td>ACCESORIES_2</td>\n",
       "      <td>ACCESORIES</td>\n",
       "      <td>Greenwich_Village</td>\n",
       "      <td>NYC_1</td>\n",
       "      <td>New York</td>\n",
       "      <td>1</td>\n",
       "      <td>3.2851</td>\n",
       "      <td>3.2851</td>\n",
       "    </tr>\n",
       "  </tbody>\n",
       "</table>\n",
       "</div>"
      ],
      "text/plain": [
       "                                     d  yearweek              item  \\\n",
       "date       id                                                        \n",
       "2011-01-31 ACCESORIES_1_009_NYC_1  d_3    201105  ACCESORIES_1_009   \n",
       "           ACCESORIES_1_010_NYC_1  d_3    201105  ACCESORIES_1_010   \n",
       "           ACCESORIES_1_016_NYC_1  d_3    201105  ACCESORIES_1_016   \n",
       "           ACCESORIES_1_022_NYC_1  d_3    201105  ACCESORIES_1_022   \n",
       "           ACCESORIES_2_004_NYC_1  d_3    201105  ACCESORIES_2_004   \n",
       "\n",
       "                                     department    category  \\\n",
       "date       id                                                 \n",
       "2011-01-31 ACCESORIES_1_009_NYC_1  ACCESORIES_1  ACCESORIES   \n",
       "           ACCESORIES_1_010_NYC_1  ACCESORIES_1  ACCESORIES   \n",
       "           ACCESORIES_1_016_NYC_1  ACCESORIES_1  ACCESORIES   \n",
       "           ACCESORIES_1_022_NYC_1  ACCESORIES_1  ACCESORIES   \n",
       "           ACCESORIES_2_004_NYC_1  ACCESORIES_2  ACCESORIES   \n",
       "\n",
       "                                               store store_code    region  \\\n",
       "date       id                                                               \n",
       "2011-01-31 ACCESORIES_1_009_NYC_1  Greenwich_Village      NYC_1  New York   \n",
       "           ACCESORIES_1_010_NYC_1  Greenwich_Village      NYC_1  New York   \n",
       "           ACCESORIES_1_016_NYC_1  Greenwich_Village      NYC_1  New York   \n",
       "           ACCESORIES_1_022_NYC_1  Greenwich_Village      NYC_1  New York   \n",
       "           ACCESORIES_2_004_NYC_1  Greenwich_Village      NYC_1  New York   \n",
       "\n",
       "                                   quantity  sell_price  revenue  \n",
       "date       id                                                     \n",
       "2011-01-31 ACCESORIES_1_009_NYC_1         7      2.0748  14.5236  \n",
       "           ACCESORIES_1_010_NYC_1         1      4.2161   4.2161  \n",
       "           ACCESORIES_1_016_NYC_1         3      0.9310   2.7930  \n",
       "           ACCESORIES_1_022_NYC_1         1      9.1238   9.1238  \n",
       "           ACCESORIES_2_004_NYC_1         1      3.2851   3.2851  "
      ]
     },
     "execution_count": 50,
     "metadata": {},
     "output_type": "execute_result"
    }
   ],
   "source": [
    "item_sales.head()"
   ]
  },
  {
   "cell_type": "code",
   "execution_count": 51,
   "metadata": {},
   "outputs": [],
   "source": [
    "ts_item_sales = item_sales.reindex(cartesian_product)\n",
    "ts_item_sales.reset_index(drop=False,inplace=True)\n",
    "item_sales.reset_index(drop=False,inplace=True)"
   ]
  },
  {
   "cell_type": "code",
   "execution_count": 52,
   "metadata": {},
   "outputs": [
    {
     "data": {
      "text/html": [
       "<div>\n",
       "<style scoped>\n",
       "    .dataframe tbody tr th:only-of-type {\n",
       "        vertical-align: middle;\n",
       "    }\n",
       "\n",
       "    .dataframe tbody tr th {\n",
       "        vertical-align: top;\n",
       "    }\n",
       "\n",
       "    .dataframe thead th {\n",
       "        text-align: right;\n",
       "    }\n",
       "</style>\n",
       "<table border=\"1\" class=\"dataframe\">\n",
       "  <thead>\n",
       "    <tr style=\"text-align: right;\">\n",
       "      <th></th>\n",
       "      <th>date</th>\n",
       "      <th>id</th>\n",
       "      <th>d</th>\n",
       "      <th>yearweek</th>\n",
       "      <th>item</th>\n",
       "      <th>department</th>\n",
       "      <th>category</th>\n",
       "      <th>store</th>\n",
       "      <th>store_code</th>\n",
       "      <th>region</th>\n",
       "      <th>quantity</th>\n",
       "      <th>sell_price</th>\n",
       "      <th>revenue</th>\n",
       "    </tr>\n",
       "  </thead>\n",
       "  <tbody>\n",
       "    <tr>\n",
       "      <th>0</th>\n",
       "      <td>2011-02-06</td>\n",
       "      <td>ACCESORIES_1_001_NYC_1</td>\n",
       "      <td>NaN</td>\n",
       "      <td>NaN</td>\n",
       "      <td>NaN</td>\n",
       "      <td>NaN</td>\n",
       "      <td>NaN</td>\n",
       "      <td>NaN</td>\n",
       "      <td>NaN</td>\n",
       "      <td>NaN</td>\n",
       "      <td>NaN</td>\n",
       "      <td>NaN</td>\n",
       "      <td>NaN</td>\n",
       "    </tr>\n",
       "    <tr>\n",
       "      <th>1</th>\n",
       "      <td>2011-02-06</td>\n",
       "      <td>ACCESORIES_1_001_NYC_2</td>\n",
       "      <td>NaN</td>\n",
       "      <td>NaN</td>\n",
       "      <td>NaN</td>\n",
       "      <td>NaN</td>\n",
       "      <td>NaN</td>\n",
       "      <td>NaN</td>\n",
       "      <td>NaN</td>\n",
       "      <td>NaN</td>\n",
       "      <td>NaN</td>\n",
       "      <td>NaN</td>\n",
       "      <td>NaN</td>\n",
       "    </tr>\n",
       "    <tr>\n",
       "      <th>2</th>\n",
       "      <td>2011-02-06</td>\n",
       "      <td>ACCESORIES_1_002_NYC_1</td>\n",
       "      <td>NaN</td>\n",
       "      <td>NaN</td>\n",
       "      <td>NaN</td>\n",
       "      <td>NaN</td>\n",
       "      <td>NaN</td>\n",
       "      <td>NaN</td>\n",
       "      <td>NaN</td>\n",
       "      <td>NaN</td>\n",
       "      <td>NaN</td>\n",
       "      <td>NaN</td>\n",
       "      <td>NaN</td>\n",
       "    </tr>\n",
       "    <tr>\n",
       "      <th>3</th>\n",
       "      <td>2011-02-06</td>\n",
       "      <td>ACCESORIES_1_002_NYC_2</td>\n",
       "      <td>NaN</td>\n",
       "      <td>NaN</td>\n",
       "      <td>NaN</td>\n",
       "      <td>NaN</td>\n",
       "      <td>NaN</td>\n",
       "      <td>NaN</td>\n",
       "      <td>NaN</td>\n",
       "      <td>NaN</td>\n",
       "      <td>NaN</td>\n",
       "      <td>NaN</td>\n",
       "      <td>NaN</td>\n",
       "    </tr>\n",
       "    <tr>\n",
       "      <th>4</th>\n",
       "      <td>2011-02-06</td>\n",
       "      <td>ACCESORIES_1_003_NYC_1</td>\n",
       "      <td>NaN</td>\n",
       "      <td>NaN</td>\n",
       "      <td>NaN</td>\n",
       "      <td>NaN</td>\n",
       "      <td>NaN</td>\n",
       "      <td>NaN</td>\n",
       "      <td>NaN</td>\n",
       "      <td>NaN</td>\n",
       "      <td>NaN</td>\n",
       "      <td>NaN</td>\n",
       "      <td>NaN</td>\n",
       "    </tr>\n",
       "    <tr>\n",
       "      <th>...</th>\n",
       "      <td>...</td>\n",
       "      <td>...</td>\n",
       "      <td>...</td>\n",
       "      <td>...</td>\n",
       "      <td>...</td>\n",
       "      <td>...</td>\n",
       "      <td>...</td>\n",
       "      <td>...</td>\n",
       "      <td>...</td>\n",
       "      <td>...</td>\n",
       "      <td>...</td>\n",
       "      <td>...</td>\n",
       "      <td>...</td>\n",
       "    </tr>\n",
       "    <tr>\n",
       "      <th>139099</th>\n",
       "      <td>2016-05-15</td>\n",
       "      <td>SUPERMARKET_3_042_NYC_1</td>\n",
       "      <td>NaN</td>\n",
       "      <td>NaN</td>\n",
       "      <td>NaN</td>\n",
       "      <td>NaN</td>\n",
       "      <td>NaN</td>\n",
       "      <td>NaN</td>\n",
       "      <td>NaN</td>\n",
       "      <td>NaN</td>\n",
       "      <td>NaN</td>\n",
       "      <td>NaN</td>\n",
       "      <td>NaN</td>\n",
       "    </tr>\n",
       "    <tr>\n",
       "      <th>139100</th>\n",
       "      <td>2016-05-15</td>\n",
       "      <td>SUPERMARKET_3_043_NYC_1</td>\n",
       "      <td>NaN</td>\n",
       "      <td>NaN</td>\n",
       "      <td>NaN</td>\n",
       "      <td>NaN</td>\n",
       "      <td>NaN</td>\n",
       "      <td>NaN</td>\n",
       "      <td>NaN</td>\n",
       "      <td>NaN</td>\n",
       "      <td>NaN</td>\n",
       "      <td>NaN</td>\n",
       "      <td>NaN</td>\n",
       "    </tr>\n",
       "    <tr>\n",
       "      <th>139101</th>\n",
       "      <td>2016-05-15</td>\n",
       "      <td>SUPERMARKET_3_044_NYC_1</td>\n",
       "      <td>NaN</td>\n",
       "      <td>NaN</td>\n",
       "      <td>NaN</td>\n",
       "      <td>NaN</td>\n",
       "      <td>NaN</td>\n",
       "      <td>NaN</td>\n",
       "      <td>NaN</td>\n",
       "      <td>NaN</td>\n",
       "      <td>NaN</td>\n",
       "      <td>NaN</td>\n",
       "      <td>NaN</td>\n",
       "    </tr>\n",
       "    <tr>\n",
       "      <th>139102</th>\n",
       "      <td>2016-05-15</td>\n",
       "      <td>SUPERMARKET_3_045_NYC_1</td>\n",
       "      <td>NaN</td>\n",
       "      <td>NaN</td>\n",
       "      <td>NaN</td>\n",
       "      <td>NaN</td>\n",
       "      <td>NaN</td>\n",
       "      <td>NaN</td>\n",
       "      <td>NaN</td>\n",
       "      <td>NaN</td>\n",
       "      <td>NaN</td>\n",
       "      <td>NaN</td>\n",
       "      <td>NaN</td>\n",
       "    </tr>\n",
       "    <tr>\n",
       "      <th>139103</th>\n",
       "      <td>2016-05-15</td>\n",
       "      <td>SUPERMARKET_3_046_NYC_1</td>\n",
       "      <td>NaN</td>\n",
       "      <td>NaN</td>\n",
       "      <td>NaN</td>\n",
       "      <td>NaN</td>\n",
       "      <td>NaN</td>\n",
       "      <td>NaN</td>\n",
       "      <td>NaN</td>\n",
       "      <td>NaN</td>\n",
       "      <td>NaN</td>\n",
       "      <td>NaN</td>\n",
       "      <td>NaN</td>\n",
       "    </tr>\n",
       "  </tbody>\n",
       "</table>\n",
       "<p>139104 rows × 13 columns</p>\n",
       "</div>"
      ],
      "text/plain": [
       "             date                       id    d  yearweek item department  \\\n",
       "0      2011-02-06   ACCESORIES_1_001_NYC_1  NaN       NaN  NaN        NaN   \n",
       "1      2011-02-06   ACCESORIES_1_001_NYC_2  NaN       NaN  NaN        NaN   \n",
       "2      2011-02-06   ACCESORIES_1_002_NYC_1  NaN       NaN  NaN        NaN   \n",
       "3      2011-02-06   ACCESORIES_1_002_NYC_2  NaN       NaN  NaN        NaN   \n",
       "4      2011-02-06   ACCESORIES_1_003_NYC_1  NaN       NaN  NaN        NaN   \n",
       "...           ...                      ...  ...       ...  ...        ...   \n",
       "139099 2016-05-15  SUPERMARKET_3_042_NYC_1  NaN       NaN  NaN        NaN   \n",
       "139100 2016-05-15  SUPERMARKET_3_043_NYC_1  NaN       NaN  NaN        NaN   \n",
       "139101 2016-05-15  SUPERMARKET_3_044_NYC_1  NaN       NaN  NaN        NaN   \n",
       "139102 2016-05-15  SUPERMARKET_3_045_NYC_1  NaN       NaN  NaN        NaN   \n",
       "139103 2016-05-15  SUPERMARKET_3_046_NYC_1  NaN       NaN  NaN        NaN   \n",
       "\n",
       "       category store store_code region  quantity  sell_price  revenue  \n",
       "0           NaN   NaN        NaN    NaN       NaN         NaN      NaN  \n",
       "1           NaN   NaN        NaN    NaN       NaN         NaN      NaN  \n",
       "2           NaN   NaN        NaN    NaN       NaN         NaN      NaN  \n",
       "3           NaN   NaN        NaN    NaN       NaN         NaN      NaN  \n",
       "4           NaN   NaN        NaN    NaN       NaN         NaN      NaN  \n",
       "...         ...   ...        ...    ...       ...         ...      ...  \n",
       "139099      NaN   NaN        NaN    NaN       NaN         NaN      NaN  \n",
       "139100      NaN   NaN        NaN    NaN       NaN         NaN      NaN  \n",
       "139101      NaN   NaN        NaN    NaN       NaN         NaN      NaN  \n",
       "139102      NaN   NaN        NaN    NaN       NaN         NaN      NaN  \n",
       "139103      NaN   NaN        NaN    NaN       NaN         NaN      NaN  \n",
       "\n",
       "[139104 rows x 13 columns]"
      ]
     },
     "execution_count": 52,
     "metadata": {},
     "output_type": "execute_result"
    }
   ],
   "source": [
    "ts_item_sales"
   ]
  },
  {
   "cell_type": "code",
   "execution_count": 53,
   "metadata": {},
   "outputs": [
    {
     "data": {
      "text/plain": [
       "(504, 7)"
      ]
     },
     "execution_count": 53,
     "metadata": {},
     "output_type": "execute_result"
    }
   ],
   "source": [
    "unique_features_id = item_sales[['id', 'item', 'department', 'category', 'store', 'store_code','region']].drop_duplicates()\n",
    "unique_features_id.shape"
   ]
  },
  {
   "attachments": {},
   "cell_type": "markdown",
   "metadata": {},
   "source": [
    "Completamos los valores NaN con los valores agrupados ['item', 'department', 'category', 'store', 'store_code', 'region']"
   ]
  },
  {
   "cell_type": "code",
   "execution_count": 54,
   "metadata": {},
   "outputs": [
    {
     "data": {
      "text/plain": [
       "\"\\n\\nfor index, row in ts_item_sales.iterrows():\\n    id_value = row['id']\\n    matching_row = unique_features_id.loc[unique_features_id['id'] == id_value]\\n    \\n    if not matching_row.empty:\\n        # Completa los valores NaN en las columnas deseadas del primer dataset\\n        ts_item_sales.at[index, 'item'] = matching_row['item'].values[0]\\n        ts_item_sales.at[index, 'department'] = matching_row['department'].values[0]\\n        ts_item_sales.at[index, 'category'] = matching_row['category'].values[0]\\n        ts_item_sales.at[index, 'store'] = matching_row['store'].values[0]\\n        ts_item_sales.at[index, 'store_code'] = matching_row['store_code'].values[0]\\n        ts_item_sales.at[index, 'region'] = matching_row['region'].values[0]\\n        \\n\""
      ]
     },
     "execution_count": 54,
     "metadata": {},
     "output_type": "execute_result"
    }
   ],
   "source": [
    "#Como hacerlo por vlookup xD\n",
    "\n",
    "'''\n",
    "\n",
    "for index, row in ts_item_sales.iterrows():\n",
    "    id_value = row['id']\n",
    "    matching_row = unique_features_id.loc[unique_features_id['id'] == id_value]\n",
    "    \n",
    "    if not matching_row.empty:\n",
    "        # Completa los valores NaN en las columnas deseadas del primer dataset\n",
    "        ts_item_sales.at[index, 'item'] = matching_row['item'].values[0]\n",
    "        ts_item_sales.at[index, 'department'] = matching_row['department'].values[0]\n",
    "        ts_item_sales.at[index, 'category'] = matching_row['category'].values[0]\n",
    "        ts_item_sales.at[index, 'store'] = matching_row['store'].values[0]\n",
    "        ts_item_sales.at[index, 'store_code'] = matching_row['store_code'].values[0]\n",
    "        ts_item_sales.at[index, 'region'] = matching_row['region'].values[0]\n",
    "        \n",
    "'''"
   ]
  },
  {
   "cell_type": "code",
   "execution_count": 55,
   "metadata": {},
   "outputs": [],
   "source": [
    "mapping = unique_features_id.set_index('id')[['item', 'department', 'category', 'store', 'store_code','region']].to_dict()"
   ]
  },
  {
   "cell_type": "code",
   "execution_count": 56,
   "metadata": {},
   "outputs": [],
   "source": [
    "# Aplicar el mapeo al primer dataset para completar los valores NaN en las columnas correspondientes\n",
    "ts_item_sales['item'] = ts_item_sales['item'].fillna(ts_item_sales['id'].map(mapping['item']))\n",
    "ts_item_sales['department'] = ts_item_sales['department'].fillna(ts_item_sales['id'].map(mapping['department']))\n",
    "ts_item_sales['category'] = ts_item_sales['category'].fillna(ts_item_sales['id'].map(mapping['category']))\n",
    "ts_item_sales['store'] = ts_item_sales['store'].fillna(ts_item_sales['id'].map(mapping['store']))\n",
    "ts_item_sales['store_code'] = ts_item_sales['store_code'].fillna(ts_item_sales['id'].map(mapping['store_code']))\n",
    "ts_item_sales['region'] = ts_item_sales['region'].fillna(ts_item_sales['id'].map(mapping['region']))"
   ]
  },
  {
   "cell_type": "code",
   "execution_count": 57,
   "metadata": {},
   "outputs": [
    {
     "data": {
      "text/html": [
       "<div>\n",
       "<style scoped>\n",
       "    .dataframe tbody tr th:only-of-type {\n",
       "        vertical-align: middle;\n",
       "    }\n",
       "\n",
       "    .dataframe tbody tr th {\n",
       "        vertical-align: top;\n",
       "    }\n",
       "\n",
       "    .dataframe thead th {\n",
       "        text-align: right;\n",
       "    }\n",
       "</style>\n",
       "<table border=\"1\" class=\"dataframe\">\n",
       "  <thead>\n",
       "    <tr style=\"text-align: right;\">\n",
       "      <th></th>\n",
       "      <th>date</th>\n",
       "      <th>id</th>\n",
       "      <th>d</th>\n",
       "      <th>yearweek</th>\n",
       "      <th>item</th>\n",
       "      <th>department</th>\n",
       "      <th>category</th>\n",
       "      <th>store</th>\n",
       "      <th>store_code</th>\n",
       "      <th>region</th>\n",
       "      <th>quantity</th>\n",
       "      <th>sell_price</th>\n",
       "      <th>revenue</th>\n",
       "    </tr>\n",
       "  </thead>\n",
       "  <tbody>\n",
       "    <tr>\n",
       "      <th>0</th>\n",
       "      <td>2011-02-06</td>\n",
       "      <td>ACCESORIES_1_001_NYC_1</td>\n",
       "      <td>NaN</td>\n",
       "      <td>NaN</td>\n",
       "      <td>ACCESORIES_1_001</td>\n",
       "      <td>ACCESORIES_1</td>\n",
       "      <td>ACCESORIES</td>\n",
       "      <td>Greenwich_Village</td>\n",
       "      <td>NYC_1</td>\n",
       "      <td>New York</td>\n",
       "      <td>NaN</td>\n",
       "      <td>NaN</td>\n",
       "      <td>NaN</td>\n",
       "    </tr>\n",
       "    <tr>\n",
       "      <th>1</th>\n",
       "      <td>2011-02-06</td>\n",
       "      <td>ACCESORIES_1_001_NYC_2</td>\n",
       "      <td>NaN</td>\n",
       "      <td>NaN</td>\n",
       "      <td>ACCESORIES_1_001</td>\n",
       "      <td>ACCESORIES_1</td>\n",
       "      <td>ACCESORIES</td>\n",
       "      <td>Harlem</td>\n",
       "      <td>NYC_2</td>\n",
       "      <td>New York</td>\n",
       "      <td>NaN</td>\n",
       "      <td>NaN</td>\n",
       "      <td>NaN</td>\n",
       "    </tr>\n",
       "    <tr>\n",
       "      <th>2</th>\n",
       "      <td>2011-02-06</td>\n",
       "      <td>ACCESORIES_1_002_NYC_1</td>\n",
       "      <td>NaN</td>\n",
       "      <td>NaN</td>\n",
       "      <td>ACCESORIES_1_002</td>\n",
       "      <td>ACCESORIES_1</td>\n",
       "      <td>ACCESORIES</td>\n",
       "      <td>Greenwich_Village</td>\n",
       "      <td>NYC_1</td>\n",
       "      <td>New York</td>\n",
       "      <td>NaN</td>\n",
       "      <td>NaN</td>\n",
       "      <td>NaN</td>\n",
       "    </tr>\n",
       "    <tr>\n",
       "      <th>3</th>\n",
       "      <td>2011-02-06</td>\n",
       "      <td>ACCESORIES_1_002_NYC_2</td>\n",
       "      <td>NaN</td>\n",
       "      <td>NaN</td>\n",
       "      <td>ACCESORIES_1_002</td>\n",
       "      <td>ACCESORIES_1</td>\n",
       "      <td>ACCESORIES</td>\n",
       "      <td>Harlem</td>\n",
       "      <td>NYC_2</td>\n",
       "      <td>New York</td>\n",
       "      <td>NaN</td>\n",
       "      <td>NaN</td>\n",
       "      <td>NaN</td>\n",
       "    </tr>\n",
       "    <tr>\n",
       "      <th>4</th>\n",
       "      <td>2011-02-06</td>\n",
       "      <td>ACCESORIES_1_003_NYC_1</td>\n",
       "      <td>NaN</td>\n",
       "      <td>NaN</td>\n",
       "      <td>ACCESORIES_1_003</td>\n",
       "      <td>ACCESORIES_1</td>\n",
       "      <td>ACCESORIES</td>\n",
       "      <td>Greenwich_Village</td>\n",
       "      <td>NYC_1</td>\n",
       "      <td>New York</td>\n",
       "      <td>NaN</td>\n",
       "      <td>NaN</td>\n",
       "      <td>NaN</td>\n",
       "    </tr>\n",
       "    <tr>\n",
       "      <th>...</th>\n",
       "      <td>...</td>\n",
       "      <td>...</td>\n",
       "      <td>...</td>\n",
       "      <td>...</td>\n",
       "      <td>...</td>\n",
       "      <td>...</td>\n",
       "      <td>...</td>\n",
       "      <td>...</td>\n",
       "      <td>...</td>\n",
       "      <td>...</td>\n",
       "      <td>...</td>\n",
       "      <td>...</td>\n",
       "      <td>...</td>\n",
       "    </tr>\n",
       "    <tr>\n",
       "      <th>139099</th>\n",
       "      <td>2016-05-15</td>\n",
       "      <td>SUPERMARKET_3_042_NYC_1</td>\n",
       "      <td>NaN</td>\n",
       "      <td>NaN</td>\n",
       "      <td>SUPERMARKET_3_042</td>\n",
       "      <td>SUPERMARKET_3</td>\n",
       "      <td>SUPERMARKET</td>\n",
       "      <td>Greenwich_Village</td>\n",
       "      <td>NYC_1</td>\n",
       "      <td>New York</td>\n",
       "      <td>NaN</td>\n",
       "      <td>NaN</td>\n",
       "      <td>NaN</td>\n",
       "    </tr>\n",
       "    <tr>\n",
       "      <th>139100</th>\n",
       "      <td>2016-05-15</td>\n",
       "      <td>SUPERMARKET_3_043_NYC_1</td>\n",
       "      <td>NaN</td>\n",
       "      <td>NaN</td>\n",
       "      <td>SUPERMARKET_3_043</td>\n",
       "      <td>SUPERMARKET_3</td>\n",
       "      <td>SUPERMARKET</td>\n",
       "      <td>Greenwich_Village</td>\n",
       "      <td>NYC_1</td>\n",
       "      <td>New York</td>\n",
       "      <td>NaN</td>\n",
       "      <td>NaN</td>\n",
       "      <td>NaN</td>\n",
       "    </tr>\n",
       "    <tr>\n",
       "      <th>139101</th>\n",
       "      <td>2016-05-15</td>\n",
       "      <td>SUPERMARKET_3_044_NYC_1</td>\n",
       "      <td>NaN</td>\n",
       "      <td>NaN</td>\n",
       "      <td>SUPERMARKET_3_044</td>\n",
       "      <td>SUPERMARKET_3</td>\n",
       "      <td>SUPERMARKET</td>\n",
       "      <td>Greenwich_Village</td>\n",
       "      <td>NYC_1</td>\n",
       "      <td>New York</td>\n",
       "      <td>NaN</td>\n",
       "      <td>NaN</td>\n",
       "      <td>NaN</td>\n",
       "    </tr>\n",
       "    <tr>\n",
       "      <th>139102</th>\n",
       "      <td>2016-05-15</td>\n",
       "      <td>SUPERMARKET_3_045_NYC_1</td>\n",
       "      <td>NaN</td>\n",
       "      <td>NaN</td>\n",
       "      <td>SUPERMARKET_3_045</td>\n",
       "      <td>SUPERMARKET_3</td>\n",
       "      <td>SUPERMARKET</td>\n",
       "      <td>Greenwich_Village</td>\n",
       "      <td>NYC_1</td>\n",
       "      <td>New York</td>\n",
       "      <td>NaN</td>\n",
       "      <td>NaN</td>\n",
       "      <td>NaN</td>\n",
       "    </tr>\n",
       "    <tr>\n",
       "      <th>139103</th>\n",
       "      <td>2016-05-15</td>\n",
       "      <td>SUPERMARKET_3_046_NYC_1</td>\n",
       "      <td>NaN</td>\n",
       "      <td>NaN</td>\n",
       "      <td>SUPERMARKET_3_046</td>\n",
       "      <td>SUPERMARKET_3</td>\n",
       "      <td>SUPERMARKET</td>\n",
       "      <td>Greenwich_Village</td>\n",
       "      <td>NYC_1</td>\n",
       "      <td>New York</td>\n",
       "      <td>NaN</td>\n",
       "      <td>NaN</td>\n",
       "      <td>NaN</td>\n",
       "    </tr>\n",
       "  </tbody>\n",
       "</table>\n",
       "<p>139104 rows × 13 columns</p>\n",
       "</div>"
      ],
      "text/plain": [
       "             date                       id    d  yearweek               item  \\\n",
       "0      2011-02-06   ACCESORIES_1_001_NYC_1  NaN       NaN   ACCESORIES_1_001   \n",
       "1      2011-02-06   ACCESORIES_1_001_NYC_2  NaN       NaN   ACCESORIES_1_001   \n",
       "2      2011-02-06   ACCESORIES_1_002_NYC_1  NaN       NaN   ACCESORIES_1_002   \n",
       "3      2011-02-06   ACCESORIES_1_002_NYC_2  NaN       NaN   ACCESORIES_1_002   \n",
       "4      2011-02-06   ACCESORIES_1_003_NYC_1  NaN       NaN   ACCESORIES_1_003   \n",
       "...           ...                      ...  ...       ...                ...   \n",
       "139099 2016-05-15  SUPERMARKET_3_042_NYC_1  NaN       NaN  SUPERMARKET_3_042   \n",
       "139100 2016-05-15  SUPERMARKET_3_043_NYC_1  NaN       NaN  SUPERMARKET_3_043   \n",
       "139101 2016-05-15  SUPERMARKET_3_044_NYC_1  NaN       NaN  SUPERMARKET_3_044   \n",
       "139102 2016-05-15  SUPERMARKET_3_045_NYC_1  NaN       NaN  SUPERMARKET_3_045   \n",
       "139103 2016-05-15  SUPERMARKET_3_046_NYC_1  NaN       NaN  SUPERMARKET_3_046   \n",
       "\n",
       "           department     category              store store_code    region  \\\n",
       "0        ACCESORIES_1   ACCESORIES  Greenwich_Village      NYC_1  New York   \n",
       "1        ACCESORIES_1   ACCESORIES             Harlem      NYC_2  New York   \n",
       "2        ACCESORIES_1   ACCESORIES  Greenwich_Village      NYC_1  New York   \n",
       "3        ACCESORIES_1   ACCESORIES             Harlem      NYC_2  New York   \n",
       "4        ACCESORIES_1   ACCESORIES  Greenwich_Village      NYC_1  New York   \n",
       "...               ...          ...                ...        ...       ...   \n",
       "139099  SUPERMARKET_3  SUPERMARKET  Greenwich_Village      NYC_1  New York   \n",
       "139100  SUPERMARKET_3  SUPERMARKET  Greenwich_Village      NYC_1  New York   \n",
       "139101  SUPERMARKET_3  SUPERMARKET  Greenwich_Village      NYC_1  New York   \n",
       "139102  SUPERMARKET_3  SUPERMARKET  Greenwich_Village      NYC_1  New York   \n",
       "139103  SUPERMARKET_3  SUPERMARKET  Greenwich_Village      NYC_1  New York   \n",
       "\n",
       "        quantity  sell_price  revenue  \n",
       "0            NaN         NaN      NaN  \n",
       "1            NaN         NaN      NaN  \n",
       "2            NaN         NaN      NaN  \n",
       "3            NaN         NaN      NaN  \n",
       "4            NaN         NaN      NaN  \n",
       "...          ...         ...      ...  \n",
       "139099       NaN         NaN      NaN  \n",
       "139100       NaN         NaN      NaN  \n",
       "139101       NaN         NaN      NaN  \n",
       "139102       NaN         NaN      NaN  \n",
       "139103       NaN         NaN      NaN  \n",
       "\n",
       "[139104 rows x 13 columns]"
      ]
     },
     "execution_count": 57,
     "metadata": {},
     "output_type": "execute_result"
    }
   ],
   "source": [
    "ts_item_sales"
   ]
  }
 ],
 "metadata": {
  "kernelspec": {
   "display_name": "Python 3",
   "language": "python",
   "name": "python3"
  },
  "language_info": {
   "codemirror_mode": {
    "name": "ipython",
    "version": 3
   },
   "file_extension": ".py",
   "mimetype": "text/x-python",
   "name": "python",
   "nbconvert_exporter": "python",
   "pygments_lexer": "ipython3",
   "version": "3.11.2"
  },
  "orig_nbformat": 4
 },
 "nbformat": 4,
 "nbformat_minor": 2
}
